{
 "cells": [
  {
   "cell_type": "markdown",
   "id": "29f8cf02-0787-4558-979c-52d19d685a64",
   "metadata": {},
   "source": [
    "Importing libraries and cleaning up the data set:"
   ]
  },
  {
   "cell_type": "code",
   "execution_count": 3,
   "id": "981692f2-6745-4060-909e-f710496f2c93",
   "metadata": {},
   "outputs": [],
   "source": [
    "import numpy as np\n",
    "import pandas as pd\n",
    "%matplotlib inline\n",
    "import statsmodels.api as sm\n",
    "import matplotlib.pyplot as plt\n",
    "import seaborn as sns\n",
    "import plotly.express as px\n",
    "import warnings\n",
    "warnings.filterwarnings('ignore')\n",
    "from pathlib import Path  \n",
    "\n",
    "\n",
    "import numpy as np\n",
    "import pandas as pd\n",
    "import matplotlib.pyplot as plt\n",
    "import seaborn as sns\n",
    "import statsmodels.api as sm\n",
    "\n",
    "\n",
    "dem_candidates = pd.read_csv('../datasets/dem_candidates.csv')"
   ]
  },
  {
   "cell_type": "code",
   "execution_count": 4,
   "id": "ca7a424e-72a5-4051-bf13-8451454aef80",
   "metadata": {},
   "outputs": [
    {
     "data": {
      "text/plain": [
       "(811, 32)"
      ]
     },
     "execution_count": 4,
     "metadata": {},
     "output_type": "execute_result"
    }
   ],
   "source": [
    "#see shape of initial uncleaned data\n",
    "dem_candidates.shape"
   ]
  },
  {
   "cell_type": "code",
   "execution_count": 5,
   "id": "5437a6a8-2754-4a1a-bded-8c254fde4739",
   "metadata": {},
   "outputs": [
    {
     "data": {
      "text/plain": [
       "(687, 32)"
      ]
     },
     "execution_count": 5,
     "metadata": {},
     "output_type": "execute_result"
    }
   ],
   "source": [
    "house = dem_candidates[dem_candidates['Office Type'] == 'Representative'] #filtering out non-house races\n",
    "house.shape"
   ]
  },
  {
   "cell_type": "code",
   "execution_count": 6,
   "id": "054700f6-d1d1-4e02-b6a6-9d8cf5052380",
   "metadata": {},
   "outputs": [
    {
     "data": {
      "text/plain": [
       "Candidate                       0\n",
       "State                           0\n",
       "District                        0\n",
       "Office Type                     0\n",
       "Race Type                       0\n",
       "Race Primary Election Date      0\n",
       "Primary Status                  0\n",
       "Primary Runoff Status           0\n",
       "General Status                 22\n",
       "Partisan Lean                   0\n",
       "Primary %                      10\n",
       "Won Primary                    22\n",
       "Race                          140\n",
       "Veteran?                       10\n",
       "LGBTQ?                         10\n",
       "Elected Official?              10\n",
       "Self-Funder?                    0\n",
       "STEM?                          10\n",
       "Obama Alum?                     1\n",
       "Party Support?                555\n",
       "Emily Endorsed?               503\n",
       "Guns Sense Candidate?         381\n",
       "Biden Endorsed?               657\n",
       "Warren Endorsed?              667\n",
       "Sanders Endorsed?             671\n",
       "Our Revolution Endorsed?      421\n",
       "Justice Dems Endorsed?        500\n",
       "PCCC Endorsed?                643\n",
       "Indivisible Endorsed?         562\n",
       "WFP Endorsed?                 615\n",
       "VoteVets Endorsed?            591\n",
       "No Labels Support?            673\n",
       "dtype: int64"
      ]
     },
     "execution_count": 6,
     "metadata": {},
     "output_type": "execute_result"
    }
   ],
   "source": [
    "#seeing how many rows were NAs and using the README to determine the meaning.\n",
    "house.isna().sum()"
   ]
  },
  {
   "cell_type": "code",
   "execution_count": 7,
   "id": "1153cf69-dbb1-4174-b05c-de89a0e38978",
   "metadata": {},
   "outputs": [],
   "source": [
    "qualities = ['Veteran?', 'LGBTQ?', 'STEM?', 'Race','Obama Alum?', 'Self-Funder?', 'Elected Official?'] #nulls in these columns mean no website for the candidate was found. \n",
    "# seeing if there were systematic patterns in rows with no website available. found a lot of Ohio. \n",
    "house[house[qualities].isnull().any(axis=1)]\n",
    "\n",
    "#all these races have at least one candidate where we dont have their race. so we have to drop all candidates in any of these races \n",
    "#so it doesn't screw up our runner_count. \n",
    "# dropping all races where any of the candidates' race could not be found. \n",
    "# qualities = ['Veteran?', 'LGBTQ?', 'STEM?', 'Obama Alum?', 'Race'] \n",
    "# dem_candidates = dem_candidates.dropna(subset=qualities)\n",
    "# dem_candidates[binarydata] = dem_candidates[qualities].replace({'No': 0, 'Yes': 1}) #binarizing the columns of remaining rows. \n",
    "# dem_candidates.shape\n",
    "\n",
    "# Then realizing if i do that the dataset goes to shit so scrapping that and just putting 0s for no and nan. \n",
    "house[house[qualities].isnull().any(axis=1)]['District'].value_counts()\n",
    "\n",
    "# filling in the NaNs in 'qualities' columns with 0s. turning all Nos to 0s and Yes to 1. \n",
    "house[qualities] = house[qualities].replace({'No': 0, 'Yes': 1}).fillna(0)\n",
    "house[qualities] = house[qualities].replace({'White': 0, 'Nonwhite': 1}).fillna(0)"
   ]
  },
  {
   "cell_type": "code",
   "execution_count": 8,
   "id": "3bf96efa-8d3f-4503-87ec-423724e9b9a3",
   "metadata": {},
   "outputs": [
    {
     "data": {
      "text/plain": [
       "(22, 32)"
      ]
     },
     "execution_count": 8,
     "metadata": {},
     "output_type": "execute_result"
    }
   ],
   "source": [
    "#now dealing with un-updated data for Runoffs. \n",
    "\n",
    "#seeing 22 NaNs in General Status and investigating those. Found 22 such rows\n",
    "house['General Status'].value_counts(dropna=False)\n",
    "house[house['General Status'].isnull()].shape"
   ]
  },
  {
   "cell_type": "code",
   "execution_count": 9,
   "id": "43f5ac1d-0087-432e-9387-f2a49c90535b",
   "metadata": {},
   "outputs": [
    {
     "data": {
      "text/plain": [
       "(687, 32)"
      ]
     },
     "execution_count": 9,
     "metadata": {},
     "output_type": "execute_result"
    }
   ],
   "source": [
    "\"\"\"\n",
    "of the resulting 22 rows, finding that 8 are NaNs due to the election not happenign yet. \n",
    "\"\"\"\n",
    "runoff_winners = ['Kendra Horn','Jason Nichols', 'Tim Gilpin', 'Mary Brannon']\n",
    "house.loc[house['Candidate'].isin(runoff_winners),'General Status'] = 'On the Ballot'\n",
    "house.loc[house['Candidate'].isin(runoff_winners), 'Primary Runoff Status'] = 'Advanced'\n",
    "runoff_losers = ['Tom Guild', 'Clay Padgett','Amanda Douglas','Fred Gipson']\n",
    "house.loc[house['Candidate'].isin(runoff_losers),'General Status'] = 'None'\n",
    "\n",
    "\n",
    "\"\"\"\n",
    "okay now that we have done that, the remaining \"NaNs\" upon investigation, can be converted to 'None' (14 rows)\n",
    "\"\"\"\n",
    "house['General Status'] = house['General Status'].fillna(0)\n",
    "\n",
    "#this should now return null. \n",
    "house[house['General Status'].isnull()]\n",
    "\n",
    "\n",
    "\"\"\"\n",
    "Now that the data is clean, we can binarize it\n",
    "\"\"\"\n",
    "house['General Status'] = house['General Status'].replace({'None': 0, 'On the Ballot': 1})\n",
    "\n",
    "house.shape"
   ]
  },
  {
   "cell_type": "code",
   "execution_count": 10,
   "id": "5beac9eb-7382-4e54-bdf7-c463783a52c3",
   "metadata": {},
   "outputs": [],
   "source": [
    "#saving to csv\n",
    "house.to_csv(Path('house_cleaned.csv'))"
   ]
  },
  {
   "cell_type": "markdown",
   "id": "7638f987-fdce-497d-85fa-238887222ea4",
   "metadata": {},
   "source": [
    "```Primary Status```\tWhether the candidate lost (“Lost”) the primary or won/advanced to a runoff (“Advanced”). Supplied by Ballotpedia\n",
    "\n",
    "```Primary Runoff Status```\t“None” if there was no runoff; “On the Ballot” if the candidate advanced to a runoff but it hasn’t been held yet; “Advanced” if the candidate won the runoff; “Lost” if the candidate lost the runoff. Supplied by Ballotpedia.\n",
    "\n",
    "```General Status```\t“On the Ballot” if the candidate won the primary or runoff and has advanced to November; otherwise, “None.” Supplied by Ballotpedia.\n",
    "\n",
    "```Won Primary```\t“Yes” if the candidate won his or her primary and has advanced to November; “No” if he or she lost."
   ]
  },
  {
   "cell_type": "markdown",
   "id": "1b74735a-bc9f-4dd4-aeae-8ed0fe136eed",
   "metadata": {},
   "source": [
    " U.S. House Oklahoma District 5\n",
    "```Democratic primary runoff for U.S. House Oklahoma District 5\n",
    "Kendra Horn defeated Tom Guild in the Democratic primary runoff for U.S. House Oklahoma District 5 on August 28, 2018.\n",
    "\n",
    "Candidate\n",
    "Kendra Horn\t 75.8% \t 22,067\n",
    "Tom Guild \t 24.2% \t 7,043\n",
    "\n",
    "\n",
    "Total votes: 29,110\n",
    "```\n",
    "U.S. House Oklahoma District 2:\n",
    "\n",
    "```\n",
    "Democratic primary runoff for U.S. House Oklahoma District 2\n",
    "Jason Nichols defeated Clay Padgett in the Democratic primary runoff for U.S. House Oklahoma District 2 on August 28, 2018.\n",
    "\n",
    "Jason Nichols\t 56.8% \t19,562\n",
    "Clay Padgett\t 43.2% \t14,850\n",
    "```\n",
    "\n",
    "U.S. House Oklahoma District 1\n",
    "```\n",
    "Tim Gilpin defeated Amanda Douglas in the Democratic primary runoff for U.S. House Oklahoma District 1 on August 28, 2018.\n",
    "Tim Gilpin\t 59.4 \t16,995\n",
    "Amanda Douglas \t 40.6 \t11,628\n",
    "```\n",
    "\n",
    "U.S. House Oklahoma District 4\n",
    "```\n",
    "Democratic primary runoff for \n",
    "Mary Brannon defeated Fred Gipson in the Democratic primary runoff for U.S. House Oklahoma District 4 on August 28, 2018.\n",
    "Mary Brannon\t 57.5% \t15,251\n",
    "Fred Gipson\t 42.5% \t11,268\n",
    "```"
   ]
  },
  {
   "cell_type": "code",
   "execution_count": null,
   "id": "6608a206-df48-4f64-96ca-c40927d13a48",
   "metadata": {},
   "outputs": [],
   "source": []
  },
  {
   "cell_type": "markdown",
   "id": "dfe2ed26-5b6f-42a6-aa00-401a94770a72",
   "metadata": {},
   "source": [
    "### Adding new columns in order to start building model"
   ]
  },
  {
   "cell_type": "code",
   "execution_count": 11,
   "id": "b89eec59-4a86-4463-b42b-8ad5a465cd24",
   "metadata": {},
   "outputs": [
    {
     "data": {
      "text/plain": [
       "(645, 33)"
      ]
     },
     "execution_count": 11,
     "metadata": {},
     "output_type": "execute_result"
    }
   ],
   "source": [
    "def count_candidates_by_district(df, district_column, new_column_name):\n",
    "    \"\"\"\n",
    "    Adds a column to the DataFrame with the count of candidates in each district.\n",
    "\n",
    "    Parameters:\n",
    "    df (pd.DataFrame): The DataFrame containing the candidates and districts.\n",
    "    district_column (str): The name of the column with district information.\n",
    "    new_column_name (str): The name of the new column to hold the counts.\n",
    "\n",
    "    Returns:\n",
    "    pd.DataFrame: The original DataFrame with an additional column for candidate counts per district.\n",
    "    \"\"\"\n",
    "    # Calculate the number of candidates in each district\n",
    "    district_counts = df.groupby(district_column).size().reset_index(name=new_column_name)\n",
    "    \n",
    "    # Merge the counts back into the original DataFrame\n",
    "    df_merged = df.merge(district_counts, on=district_column)\n",
    "\n",
    "    return df_merged\n",
    "\n",
    "\n",
    "house = count_candidates_by_district(house, 'District', 'total_runners') #run the above func to get count of ppl in each race and add that as a new col\n",
    "house = house[house['total_runners']>1] #filter out all the rows where only 1 person ran. \n",
    "house.shape"
   ]
  },
  {
   "cell_type": "code",
   "execution_count": 12,
   "id": "5e5fea31-3724-4120-ae1e-e888ebb3929f",
   "metadata": {},
   "outputs": [
    {
     "data": {
      "text/html": [
       "<div>\n",
       "<style scoped>\n",
       "    .dataframe tbody tr th:only-of-type {\n",
       "        vertical-align: middle;\n",
       "    }\n",
       "\n",
       "    .dataframe tbody tr th {\n",
       "        vertical-align: top;\n",
       "    }\n",
       "\n",
       "    .dataframe thead th {\n",
       "        text-align: right;\n",
       "    }\n",
       "</style>\n",
       "<table border=\"1\" class=\"dataframe\">\n",
       "  <thead>\n",
       "    <tr style=\"text-align: right;\">\n",
       "      <th></th>\n",
       "      <th>Candidate</th>\n",
       "      <th>State</th>\n",
       "      <th>District</th>\n",
       "      <th>Office Type</th>\n",
       "      <th>Race Type</th>\n",
       "      <th>Race Primary Election Date</th>\n",
       "      <th>Primary Status</th>\n",
       "      <th>Primary Runoff Status</th>\n",
       "      <th>General Status</th>\n",
       "      <th>Partisan Lean</th>\n",
       "      <th>...</th>\n",
       "      <th>Warren Endorsed?</th>\n",
       "      <th>Sanders Endorsed?</th>\n",
       "      <th>Our Revolution Endorsed?</th>\n",
       "      <th>Justice Dems Endorsed?</th>\n",
       "      <th>PCCC Endorsed?</th>\n",
       "      <th>Indivisible Endorsed?</th>\n",
       "      <th>WFP Endorsed?</th>\n",
       "      <th>VoteVets Endorsed?</th>\n",
       "      <th>No Labels Support?</th>\n",
       "      <th>total_runners</th>\n",
       "    </tr>\n",
       "  </thead>\n",
       "  <tbody>\n",
       "    <tr>\n",
       "      <th>0</th>\n",
       "      <td>Lizzetta Hill McConnell</td>\n",
       "      <td>AL</td>\n",
       "      <td>U.S. House Alabama District 1</td>\n",
       "      <td>Representative</td>\n",
       "      <td>Regular</td>\n",
       "      <td>6/5/18</td>\n",
       "      <td>Lost</td>\n",
       "      <td>None</td>\n",
       "      <td>0</td>\n",
       "      <td>-30.680000</td>\n",
       "      <td>...</td>\n",
       "      <td>NaN</td>\n",
       "      <td>NaN</td>\n",
       "      <td>NaN</td>\n",
       "      <td>NaN</td>\n",
       "      <td>NaN</td>\n",
       "      <td>NaN</td>\n",
       "      <td>NaN</td>\n",
       "      <td>NaN</td>\n",
       "      <td>NaN</td>\n",
       "      <td>2</td>\n",
       "    </tr>\n",
       "    <tr>\n",
       "      <th>1</th>\n",
       "      <td>Robert Kennedy Jr.</td>\n",
       "      <td>AL</td>\n",
       "      <td>U.S. House Alabama District 1</td>\n",
       "      <td>Representative</td>\n",
       "      <td>Regular</td>\n",
       "      <td>6/5/18</td>\n",
       "      <td>Advanced</td>\n",
       "      <td>None</td>\n",
       "      <td>1</td>\n",
       "      <td>-30.680000</td>\n",
       "      <td>...</td>\n",
       "      <td>NaN</td>\n",
       "      <td>NaN</td>\n",
       "      <td>NaN</td>\n",
       "      <td>NaN</td>\n",
       "      <td>NaN</td>\n",
       "      <td>NaN</td>\n",
       "      <td>NaN</td>\n",
       "      <td>NaN</td>\n",
       "      <td>NaN</td>\n",
       "      <td>2</td>\n",
       "    </tr>\n",
       "    <tr>\n",
       "      <th>2</th>\n",
       "      <td>Audri Scott Williams</td>\n",
       "      <td>AL</td>\n",
       "      <td>U.S. House Alabama District 2</td>\n",
       "      <td>Representative</td>\n",
       "      <td>Regular</td>\n",
       "      <td>6/5/18</td>\n",
       "      <td>Lost</td>\n",
       "      <td>None</td>\n",
       "      <td>0</td>\n",
       "      <td>-33.080002</td>\n",
       "      <td>...</td>\n",
       "      <td>NaN</td>\n",
       "      <td>NaN</td>\n",
       "      <td>NaN</td>\n",
       "      <td>NaN</td>\n",
       "      <td>NaN</td>\n",
       "      <td>NaN</td>\n",
       "      <td>NaN</td>\n",
       "      <td>NaN</td>\n",
       "      <td>NaN</td>\n",
       "      <td>2</td>\n",
       "    </tr>\n",
       "  </tbody>\n",
       "</table>\n",
       "<p>3 rows × 33 columns</p>\n",
       "</div>"
      ],
      "text/plain": [
       "                 Candidate State                       District  \\\n",
       "0  Lizzetta Hill McConnell    AL  U.S. House Alabama District 1   \n",
       "1       Robert Kennedy Jr.    AL  U.S. House Alabama District 1   \n",
       "2     Audri Scott Williams    AL  U.S. House Alabama District 2   \n",
       "\n",
       "      Office Type Race Type Race Primary Election Date Primary Status  \\\n",
       "0  Representative   Regular                     6/5/18           Lost   \n",
       "1  Representative   Regular                     6/5/18       Advanced   \n",
       "2  Representative   Regular                     6/5/18           Lost   \n",
       "\n",
       "  Primary Runoff Status  General Status  Partisan Lean  ...  \\\n",
       "0                  None               0     -30.680000  ...   \n",
       "1                  None               1     -30.680000  ...   \n",
       "2                  None               0     -33.080002  ...   \n",
       "\n",
       "   Warren Endorsed?  Sanders Endorsed?  Our Revolution Endorsed?  \\\n",
       "0                NaN               NaN                       NaN   \n",
       "1                NaN               NaN                       NaN   \n",
       "2                NaN               NaN                       NaN   \n",
       "\n",
       "   Justice Dems Endorsed?  PCCC Endorsed?  Indivisible Endorsed?  \\\n",
       "0                     NaN             NaN                    NaN   \n",
       "1                     NaN             NaN                    NaN   \n",
       "2                     NaN             NaN                    NaN   \n",
       "\n",
       "   WFP Endorsed?  VoteVets Endorsed?  No Labels Support? total_runners  \n",
       "0            NaN                 NaN                 NaN             2  \n",
       "1            NaN                 NaN                 NaN             2  \n",
       "2            NaN                 NaN                 NaN             2  \n",
       "\n",
       "[3 rows x 33 columns]"
      ]
     },
     "execution_count": 12,
     "metadata": {},
     "output_type": "execute_result"
    }
   ],
   "source": [
    "house.head(3)"
   ]
  },
  {
   "cell_type": "markdown",
   "id": "1349af56-a806-4b0b-947c-124f8b6edda7",
   "metadata": {},
   "source": [
    "### Sara -- Frequentist Model using statsmodels.api\n",
    "Why: From lab 5:\n",
    "Let's start by considering the problem from a frequentist lens. To do this, we'll use the statsmodels.api, which allows us to create a model in just a few lines of code.\n",
    "\n",
    "After fitting our model, we can call the .summary() method, and get a breakdown of our model and some details on how well it fit our data.\n",
    "\n"
   ]
  },
  {
   "cell_type": "markdown",
   "id": "c776f91d-49a3-4888-bf2f-b0c723282c43",
   "metadata": {},
   "source": [
    "2a) Fit Poisson GLM model where Temp_Anomaly is a covariate (exogenous variable): No need to modify\n",
    "freq_model = sm.GLM(df[\"Num_Storms\"], exog = sm.add_constant(df[\"Temp_Anomaly\"]), \n",
    "                  family=sm.families.Poisson())\n",
    "freq_res = freq_model.fit()\n",
    "print(freq_res.summary())"
   ]
  },
  {
   "cell_type": "code",
   "execution_count": 14,
   "id": "7a5a7d2a-2c0e-46d3-830e-2ee3b65a89b9",
   "metadata": {},
   "outputs": [
    {
     "name": "stdout",
     "output_type": "stream",
     "text": [
      "                 Generalized Linear Model Regression Results                  \n",
      "==============================================================================\n",
      "Dep. Variable:         General Status   No. Observations:                  645\n",
      "Model:                            GLM   Df Residuals:                      635\n",
      "Model Family:                Binomial   Df Model:                            9\n",
      "Link Function:                  Logit   Scale:                          1.0000\n",
      "Method:                          IRLS   Log-Likelihood:                -343.75\n",
      "Date:                Wed, 06 Dec 2023   Deviance:                       687.50\n",
      "Time:                        22:51:39   Pearson chi2:                     634.\n",
      "No. Iterations:                     5   Pseudo R-squ. (CS):            0.09250\n",
      "Covariance Type:            nonrobust                                         \n",
      "=====================================================================================\n",
      "                        coef    std err          z      P>|z|      [0.025      0.975]\n",
      "-------------------------------------------------------------------------------------\n",
      "const                 0.0746      0.320      0.233      0.816      -0.553       0.702\n",
      "Partisan Lean        -0.0069      0.006     -1.209      0.226      -0.018       0.004\n",
      "Race                  0.0538      0.231      0.233      0.815      -0.398       0.506\n",
      "Veteran?             -0.0397      0.258     -0.154      0.878      -0.545       0.466\n",
      "LGBTQ?                0.0507      0.436      0.116      0.907      -0.804       0.905\n",
      "Self-Funder?          0.6263      0.482      1.300      0.194      -0.318       1.570\n",
      "STEM?                -0.4990      0.263     -1.896      0.058      -1.015       0.017\n",
      "Obama Alum?           0.9070      0.431      2.104      0.035       0.062       1.752\n",
      "Elected Official?     1.2198      0.304      4.013      0.000       0.624       1.816\n",
      "total_runners        -0.3035      0.058     -5.268      0.000      -0.416      -0.191\n",
      "=====================================================================================\n"
     ]
    }
   ],
   "source": [
    "predictors = [ 'Partisan Lean', 'Race', 'Veteran?', 'LGBTQ?', 'Self-Funder?', 'STEM?','Obama Alum?', 'Elected Official?','total_runners']\n",
    "# Fit Poisson GLM model where Temp_Anomaly is a covariate (exogenous variable): No need to modify\n",
    "freq_model = sm.GLM(endog = house[\"General Status\"], exog = sm.add_constant(house[predictors]), \n",
    "                  family=sm.families.Binomial())\n",
    "freq_res = freq_model.fit()\n",
    "print(freq_res.summary())"
   ]
  },
  {
   "cell_type": "markdown",
   "id": "bd584534-b91b-47a3-8fb6-e50dad00e082",
   "metadata": {},
   "source": [
    "using predictors that have no relationship with the response tends to cause a deterioration in the test error rate (since such predictors cause an increase in variance without a corresponding decrease in bias), and so removing such predictors may in turn yield an improvement."
   ]
  },
  {
   "cell_type": "code",
   "execution_count": null,
   "id": "a70b38fc-1fb0-4bf5-b027-d68953207db3",
   "metadata": {},
   "outputs": [],
   "source": []
  },
  {
   "cell_type": "code",
   "execution_count": null,
   "id": "f56adcc6-8a01-4cdc-8dc2-5bbde6c4f51a",
   "metadata": {},
   "outputs": [],
   "source": [
    "train = (Smarket.Year < 2005)\n",
    "Smarket_train = Smarket.loc[train]\n",
    "Smarket_test = Smarket.loc[∼train]\n",
    "\n",
    "X_train, X_test = X.loc[train], X.loc[∼train]\n",
    "y_train, y_test = y.loc[train], y.loc[∼train]\n",
    "glm_train = sm.GLM(\n",
    "    y_train,\n",
    "    X_train,\n",
    "    family=sm.families.Binomial()\n",
    ")\n",
    "results = glm_train.fit()\n",
    "probs = results.predict(exog=X_test)"
   ]
  },
  {
   "cell_type": "markdown",
   "id": "459299ee-8b4a-4c9b-96f8-10216c9bab53",
   "metadata": {
    "tags": []
   },
   "source": [
    "## Fitting a Frequentist Logistic Regression model using Sklearn:\n",
    "To choose the predictors (X) we used domain knowledge. \n",
    "- X: Predictors of General Status\n",
    "- Y: General Status (1 if the candidate advanced to the general election, 0 if not)"
   ]
  },
  {
   "cell_type": "code",
   "execution_count": 289,
   "id": "81a02c96-bb75-4104-a971-45b959741c78",
   "metadata": {},
   "outputs": [],
   "source": [
    "from sklearn.model_selection import train_test_split\n",
    "from sklearn.linear_model import LogisticRegression\n",
    "\n",
    "\n",
    "#setting up the logistic regression model by splitting into train and test\n",
    "train, test = train_test_split(house, test_size = .30, random_state = 101)\n",
    "predictors = [ 'Partisan Lean', 'Race', 'Veteran?', 'LGBTQ?', 'Self-Funder?', 'STEM?','Obama Alum?', 'total_runners']\n",
    "X_train, y_train = train[predictors], train['General Status']\n",
    "X_test, y_test = test[predictors], test['General Status']"
   ]
  },
  {
   "cell_type": "code",
   "execution_count": 290,
   "id": "1fb8f43c-3f9a-4a8e-a60e-ac86ea0d30f1",
   "metadata": {},
   "outputs": [
    {
     "name": "stdout",
     "output_type": "stream",
     "text": [
      "Accuracy on test set: 0.7525773195876289\n"
     ]
    }
   ],
   "source": [
    "# X_train = train[['Partisan Lean', 'Race',\n",
    "#        'Veteran?', 'LGBTQ?', 'Elected Official?', 'Self-Funder?', 'STEM?',\n",
    "#        'Obama Alum?', 'Party Support?', 'Emily Endorsed?', 'total_runners']]\n",
    "# y_train = train['General Status']\n",
    "\n",
    "# X_test = test[['Partisan Lean', 'Race',\n",
    "#        'Veteran?', 'LGBTQ?', 'Elected Official?', 'Self-Funder?', 'STEM?',\n",
    "#        'Obama Alum?', 'Party Support?', 'Emily Endorsed?', 'total_runners']]\n",
    "# y_test = test['General Status']\n",
    "\n",
    "logisticmodel = LogisticRegression(penalty='none', solver='lbfgs')\n",
    "\n",
    "logisticmodel.fit(X_test, y_test)\n",
    "\n",
    "probs = logisticmodel.predict_proba(X_test)[:, 1]\n",
    "y_hat = (probs > 0.5).astype(int)\n",
    "\n",
    "accuracy = np.mean(y_test == y_hat)\n",
    "print(f\"Accuracy on test set: {accuracy}\")"
   ]
  },
  {
   "cell_type": "markdown",
   "id": "62813175-e530-4638-a44c-8e4413f9e18f",
   "metadata": {},
   "source": [
    "We first created a Logistic Regression model using a subset of features in the house dataset. We employed feature engineering to include a column of how many total runners were participating in the election. Because the data on each candidate is not independent since the outcome of a race for a single candidate is affected by the outcome for another candidate in that same race, we included the number of total runners. Additionally, because both Biden and Warren only endorsed 5 candidates each, we excluded those features. Emily's list endorsed 42 candidates in the 2018 house of representative elections, so we intentionally included this column. There were 33 Obama Alums, so we included this as well. "
   ]
  },
  {
   "cell_type": "code",
   "execution_count": 291,
   "id": "2de59a76-7afd-4618-9d06-062cf7457295",
   "metadata": {},
   "outputs": [
    {
     "data": {
      "text/plain": [
       "27.0"
      ]
     },
     "execution_count": 291,
     "metadata": {},
     "output_type": "execute_result"
    }
   ],
   "source": [
    "house['Obama Alum?'].sum()"
   ]
  },
  {
   "cell_type": "markdown",
   "id": "bcd19493-1750-4e03-9088-ff67aa5d879d",
   "metadata": {},
   "source": [
    "## Fitting a Logistic Regression model using statsmodel:"
   ]
  },
  {
   "cell_type": "code",
   "execution_count": 292,
   "id": "a9d1c8bc-e397-4bee-81b6-3d066c5da0e0",
   "metadata": {},
   "outputs": [
    {
     "name": "stdout",
     "output_type": "stream",
     "text": [
      "Optimization terminated successfully.\n",
      "         Current function value: 0.532948\n",
      "         Iterations 6\n",
      "                           Logit Regression Results                           \n",
      "==============================================================================\n",
      "Dep. Variable:         General Status   No. Observations:                  645\n",
      "Model:                          Logit   Df Residuals:                      635\n",
      "Method:                           MLE   Df Model:                            9\n",
      "Date:                Wed, 06 Dec 2023   Pseudo R-squ.:                 0.08346\n",
      "Time:                        19:34:55   Log-Likelihood:                -343.75\n",
      "converged:                       True   LL-Null:                       -375.05\n",
      "Covariance Type:            nonrobust   LLR p-value:                 4.211e-10\n",
      "=====================================================================================\n",
      "                        coef    std err          z      P>|z|      [0.025      0.975]\n",
      "-------------------------------------------------------------------------------------\n",
      "const                 0.0746      0.320      0.233      0.816      -0.553       0.702\n",
      "Partisan Lean        -0.0069      0.006     -1.209      0.226      -0.018       0.004\n",
      "Race                  0.0538      0.231      0.233      0.815      -0.398       0.506\n",
      "Veteran?             -0.0397      0.258     -0.154      0.878      -0.545       0.466\n",
      "LGBTQ?                0.0507      0.436      0.116      0.907      -0.804       0.905\n",
      "Self-Funder?          0.6263      0.482      1.300      0.194      -0.318       1.570\n",
      "STEM?                -0.4990      0.263     -1.896      0.058      -1.015       0.017\n",
      "Obama Alum?           0.9070      0.431      2.104      0.035       0.062       1.752\n",
      "Elected Official?     1.2198      0.304      4.013      0.000       0.624       1.816\n",
      "total_runners        -0.3035      0.058     -5.268      0.000      -0.416      -0.191\n",
      "=====================================================================================\n"
     ]
    }
   ],
   "source": [
    "predictors = [ 'Partisan Lean', 'Race', 'Veteran?', 'LGBTQ?', 'Self-Funder?', 'STEM?','Obama Alum?', 'Elected Official?','total_runners']\n",
    "X = house[predictors]  # independent variables\n",
    "\n",
    "# Add a constant term to the independent variables\n",
    "X = sm.add_constant(X)\n",
    "\n",
    "y = house['General Status']\n",
    "\n",
    "# Fit the logistic regression model\n",
    "model = sm.Logit(y, X)\n",
    "result = model.fit()\n",
    "print(result.summary())"
   ]
  },
  {
   "cell_type": "code",
   "execution_count": 293,
   "id": "f710cdb3-918c-4501-b777-1a6178209131",
   "metadata": {},
   "outputs": [
    {
     "name": "stdout",
     "output_type": "stream",
     "text": [
      "707.5023616616147 752.1948648295725\n"
     ]
    }
   ],
   "source": [
    "print(result.aic, result.bic)"
   ]
  },
  {
   "cell_type": "markdown",
   "id": "ab702174-35d5-4e99-bfbe-d88506136893",
   "metadata": {},
   "source": [
    "While our initial model had a decent accuracy of approximately 84%, we can further optimize our model by selecting the best combination of features. As we can see in the summary from the model above, the log-likelihood is pretty low. Additionally, when we interpret the confidence intervals for the probabilities of the coefficients, we can see that many of these intervals include 0. Thus, it would make sense to re-evaluate these features or take them out. Additionally, when comparing the coefficients, we can see that some of the coefficients only have a marginal affect on the dependent variable, such as 'LGBTQ?' or 'Self-Funder?'."
   ]
  },
  {
   "cell_type": "markdown",
   "id": "6d87af89-9071-490e-a107-f862dcb19561",
   "metadata": {},
   "source": [
    "Forward selection of features:"
   ]
  },
  {
   "cell_type": "code",
   "execution_count": 294,
   "id": "1ccbba2f-b2c5-4055-90eb-a4ada5372426",
   "metadata": {},
   "outputs": [
    {
     "name": "stdout",
     "output_type": "stream",
     "text": [
      "Optimization terminated successfully.\n",
      "         Current function value: 0.574605\n",
      "         Iterations 5\n",
      "Optimization terminated successfully.\n",
      "         Current function value: 0.573922\n",
      "         Iterations 5\n",
      "Optimization terminated successfully.\n",
      "         Current function value: 0.574605\n",
      "         Iterations 5\n",
      "Optimization terminated successfully.\n",
      "         Current function value: 0.574591\n",
      "         Iterations 5\n",
      "Optimization terminated successfully.\n",
      "         Current function value: 0.574534\n",
      "         Iterations 5\n",
      "Optimization terminated successfully.\n",
      "         Current function value: 0.570832\n",
      "         Iterations 5\n",
      "Optimization terminated successfully.\n",
      "         Current function value: 0.567906\n",
      "         Iterations 5\n",
      "Optimization terminated successfully.\n",
      "         Current function value: 0.559242\n",
      "         Iterations 5\n",
      "Optimization terminated successfully.\n",
      "         Current function value: 0.534213\n",
      "         Iterations 6\n",
      "Optimization terminated successfully.\n",
      "         Current function value: 0.534213\n",
      "         Iterations 6\n",
      "                           Logit Regression Results                           \n",
      "==============================================================================\n",
      "Dep. Variable:         General Status   No. Observations:                  645\n",
      "Model:                          Logit   Df Residuals:                      639\n",
      "Method:                           MLE   Df Model:                            5\n",
      "Date:                Wed, 06 Dec 2023   Pseudo R-squ.:                 0.08128\n",
      "Time:                        19:34:56   Log-Likelihood:                -344.57\n",
      "converged:                       True   LL-Null:                       -375.05\n",
      "Covariance Type:            nonrobust   LLR p-value:                 7.655e-12\n",
      "=====================================================================================\n",
      "                        coef    std err          z      P>|z|      [0.025      0.975]\n",
      "-------------------------------------------------------------------------------------\n",
      "const                 0.0984      0.303      0.324      0.746      -0.496       0.693\n",
      "Partisan Lean        -0.0058      0.005     -1.053      0.292      -0.016       0.005\n",
      "STEM?                -0.4711      0.262     -1.801      0.072      -0.984       0.042\n",
      "Obama Alum?           0.9288      0.426      2.180      0.029       0.094       1.764\n",
      "Elected Official?     1.1793      0.300      3.935      0.000       0.592       1.767\n",
      "total_runners        -0.2972      0.057     -5.230      0.000      -0.409      -0.186\n",
      "===================================================================================== 701.1344493060828\n"
     ]
    }
   ],
   "source": [
    "predictors = [ 'Partisan Lean', 'Race', 'Veteran?', 'LGBTQ?', 'Self-Funder?', 'STEM?','Obama Alum?', 'Elected Official?','total_runners']\n",
    "all_predictors_df = house[predictors]\n",
    "\n",
    "\n",
    "y = house['General Status']\n",
    "\n",
    "best_features = []\n",
    "best_aic = float('inf') \n",
    "\n",
    "for feature in all_predictors_df.columns:\n",
    "    # Add a constant term and the current feature\n",
    "    X = sm.add_constant(all_predictors_df[best_features + [feature]])\n",
    "\n",
    "    # Fit the logistic regression model\n",
    "    model = sm.Logit(y, X)\n",
    "    result = model.fit()\n",
    "\n",
    "    # Check AIC and update if it is lower\n",
    "    if result.aic < best_aic:\n",
    "        best_aic = result.aic\n",
    "        best_features.append(feature)\n",
    "\n",
    "# Fit the final model with the best features\n",
    "X_final = sm.add_constant(all_predictors_df[best_features])\n",
    "final_model = sm.Logit(y, X_final)\n",
    "final_result = final_model.fit()\n",
    "\n",
    "\n",
    "print(final_result.summary(), final_result.aic)"
   ]
  },
  {
   "cell_type": "markdown",
   "id": "e9d88b3f-cf09-4cd7-b123-f5fc59aa40ea",
   "metadata": {},
   "source": [
    "@ Nikki I am not sure what this is for? \n",
    "train, test = train_test_split(all_predictors_df, test_size = .30, random_state = 101)"
   ]
  },
  {
   "cell_type": "markdown",
   "id": "ade3e62f-da59-4870-920f-c2e8b5a9719f",
   "metadata": {},
   "source": [
    "Backward selection of features: "
   ]
  },
  {
   "cell_type": "code",
   "execution_count": 295,
   "id": "da208092-485e-4280-a2c5-d3f709d6344f",
   "metadata": {},
   "outputs": [
    {
     "name": "stdout",
     "output_type": "stream",
     "text": [
      "Optimization terminated successfully.\n",
      "         Current function value: 0.532948\n",
      "         Iterations 6\n",
      "Optimization terminated successfully.\n",
      "         Current function value: 0.545254\n",
      "         Iterations 6\n",
      "Optimization terminated successfully.\n",
      "         Current function value: 0.534095\n",
      "         Iterations 6\n",
      "Optimization terminated successfully.\n",
      "         Current function value: 0.535065\n",
      "         Iterations 6\n",
      "Optimization terminated successfully.\n",
      "         Current function value: 0.536471\n",
      "         Iterations 6\n",
      "Optimization terminated successfully.\n",
      "         Current function value: 0.539722\n",
      "         Iterations 5\n",
      "Optimization terminated successfully.\n",
      "         Current function value: 0.536478\n",
      "         Iterations 6\n",
      "Optimization terminated successfully.\n",
      "         Current function value: 0.641653\n",
      "         Iterations 5\n",
      "Optimization terminated successfully.\n",
      "         Current function value: 0.536497\n",
      "         Iterations 6\n",
      "Optimization terminated successfully.\n",
      "         Current function value: 0.536549\n",
      "         Iterations 6\n",
      "Optimization terminated successfully.\n",
      "         Current function value: 0.538479\n",
      "         Iterations 6\n",
      "Optimization terminated successfully.\n",
      "         Current function value: 0.536549\n",
      "         Iterations 6\n",
      "                           Logit Regression Results                           \n",
      "==============================================================================\n",
      "Dep. Variable:         General Status   No. Observations:                  645\n",
      "Model:                          Logit   Df Residuals:                      641\n",
      "Method:                           MLE   Df Model:                            3\n",
      "Date:                Wed, 06 Dec 2023   Pseudo R-squ.:                 0.07727\n",
      "Time:                        19:34:57   Log-Likelihood:                -346.07\n",
      "converged:                       True   LL-Null:                       -375.05\n",
      "Covariance Type:            nonrobust   LLR p-value:                 1.605e-12\n",
      "=====================================================================================\n",
      "                        coef    std err          z      P>|z|      [0.025      0.975]\n",
      "-------------------------------------------------------------------------------------\n",
      "Elected Official?     1.0873      0.286      3.808      0.000       0.528       1.647\n",
      "Obama Alum?           0.8765      0.414      2.115      0.034       0.064       1.689\n",
      "total_runners        -0.2632      0.024    -10.749      0.000      -0.311      -0.215\n",
      "STEM?                -0.3927      0.255     -1.541      0.123      -0.892       0.107\n",
      "=====================================================================================\n"
     ]
    }
   ],
   "source": [
    "predictors = [ 'Partisan Lean', 'Race', 'Veteran?', 'LGBTQ?', 'Self-Funder?', 'STEM?','Obama Alum?', 'Elected Official?','total_runners']\n",
    "all_predictors_df = house[predictors]\n",
    "y = house['General Status']\n",
    "\n",
    "X = sm.add_constant(all_predictors_df)  #.drop returns a df\n",
    "X_shuffled = X.sample(frac=1, axis=1, random_state=42)\n",
    "\n",
    "\n",
    "# Fit the initial model with all features\n",
    "initial_model = sm.Logit(y, X_shuffled)\n",
    "initial_result = initial_model.fit()\n",
    "best_aic = initial_result.aic\n",
    "best_bic = initial_result.bic\n",
    "best_model = initial_model\n",
    "selected_features = list(X_shuffled.columns)\n",
    "\n",
    "# Backward selection\n",
    "\n",
    "# @ Nikki why do we drop the constant\n",
    "for feature in X_shuffled.columns[0:]:  # Exclude the constant term\n",
    "    # Fit the model without the current feature\n",
    "    X_subset = X_shuffled[selected_features].drop(feature, axis=1)\n",
    "    model = sm.Logit(y, X_subset)\n",
    "    result = model.fit()\n",
    "\n",
    "    # Compare AIC and BIC\n",
    "    if result.aic < best_aic and result.bic < best_bic:\n",
    "        best_aic = result.aic\n",
    "        best_bic = result.bic\n",
    "        best_model = model\n",
    "        selected_features.remove(feature)\n",
    "\n",
    "# Fit the final model with the selected features\n",
    "final_result = best_model.fit()\n",
    "\n",
    "# Print the summary of the final model\n",
    "print(final_result.summary())"
   ]
  },
  {
   "cell_type": "markdown",
   "id": "d44ea1a7-23d5-4c72-b3d9-e10de1454962",
   "metadata": {},
   "source": [
    "Testing the best recommended features in a logistic regression model with sklearn: \n",
    "We will only take the four most signifcant regressors according to the forward and backwrard seelction modles/\n"
   ]
  },
  {
   "cell_type": "code",
   "execution_count": 305,
   "id": "18f9468b-c6a7-4482-a8bd-d245187346db",
   "metadata": {},
   "outputs": [
    {
     "name": "stdout",
     "output_type": "stream",
     "text": [
      "Accuracy on test set: 0.7525773195876289\n"
     ]
    }
   ],
   "source": [
    "#house_important_only = house[house['Elected Official','STEM?','Obama Alum?', 'total_runners', 'General Status']]\n",
    "train, test = train_test_split(house, test_size = .30, random_state = 101)\n",
    "new_predictors = ['Elected Official?','STEM?','Obama Alum?', 'total_runners']\n",
    "X_train1, y_train1 = train[new_predictors], train['General Status']\n",
    "X_test1, y_test1 = test[new_predictors], test['General Status']\n",
    "\n",
    "logisticmodel1 = LogisticRegression(\n",
    "    penalty='none', solver='lbfgs'\n",
    ")\n",
    "\n",
    "logisticmodel1.fit(X_test1, y_test1)\n",
    "\n",
    "probs = logisticmodel1.predict_proba(X_test1)[:, 1]\n",
    "y_hat = (probs > 0.5).astype(np.int64)\n",
    "\n",
    "accuracy = np.mean(y_test == y_hat)\n",
    "print(f\"Accuracy on test set: {accuracy}\")"
   ]
  },
  {
   "cell_type": "markdown",
   "id": "cf613b5c-3afc-4f89-a600-2eb775254174",
   "metadata": {},
   "source": [
    "Nonparametric models: Random Forest"
   ]
  },
  {
   "cell_type": "code",
   "execution_count": 306,
   "id": "55dd6514-c79d-4f7e-b49b-7a8b7597ddb3",
   "metadata": {},
   "outputs": [],
   "source": [
    "from sklearn.ensemble import RandomForestClassifier\n",
    "from sklearn.metrics import accuracy_score\n",
    "\n",
    "#Using the optimal features selected in the previous section: -- dominic said to do all possible ones. \n",
    "\n",
    "X_cols = [ 'Partisan Lean', 'Race', 'Veteran?', 'LGBTQ?', 'Self-Funder?', 'STEM?','Obama Alum?', 'Elected Official?','total_runners']\n",
    "y_col = 'General Status'\n",
    "forest_model = RandomForestClassifier()\n",
    "\n",
    "train, test = train_test_split(house, test_size = .25, random_state = 101)\n",
    "forest_model.fit(train[X_cols], train['General Status'])\n",
    "\n",
    "train[\"forest_pred\"] = forest_model.predict(train[X_cols])\n",
    "test[\"forest_pred\"] = forest_model.predict(test[X_cols])"
   ]
  },
  {
   "cell_type": "code",
   "execution_count": 307,
   "id": "8542264d-27cb-4b51-8719-85a069429d32",
   "metadata": {},
   "outputs": [
    {
     "name": "stdout",
     "output_type": "stream",
     "text": [
      "Training set error for random forest: 0.28252896560880664\n",
      "Test set error for random forest:     0.6134237196211233\n",
      "Accuracy: 0.6237113402061856\n"
     ]
    }
   ],
   "source": [
    "train_rmse = np.mean((train[\"forest_pred\"] - train[y_col]) ** 2) ** 0.5\n",
    "test_rmse = np.mean((test[\"forest_pred\"] - test[y_col]) ** 2) ** 0.5\n",
    "forest_accuracy = accuracy_score(test[y_col], test[\"forest_pred\"])\n",
    "\n",
    "print(\"Training set error for random forest:\", train_rmse)\n",
    "print(\"Test set error for random forest:    \", test_rmse)\n",
    "print(\"Accuracy:\", forest_accuracy)"
   ]
  },
  {
   "cell_type": "markdown",
   "id": "5b2ba892-6bbb-4f39-bc52-dd4302d7470b",
   "metadata": {},
   "source": [
    "Nonparametric models: Decision Tree"
   ]
  },
  {
   "cell_type": "code",
   "execution_count": 301,
   "id": "6f7f8747-4726-44bf-a266-4dfb350c4056",
   "metadata": {},
   "outputs": [],
   "source": [
    "from sklearn.tree import DecisionTreeClassifier\n",
    "\n",
    "\n",
    "tree_model = DecisionTreeClassifier()\n",
    "\n",
    "tree_model.fit(train[X_cols], train[y_col])\n",
    "\n",
    "train[\"tree_pred\"] = tree_model.predict(train[X_cols])\n",
    "test[\"tree_pred\"] = tree_model.predict(test[X_cols])"
   ]
  },
  {
   "cell_type": "code",
   "execution_count": 302,
   "id": "ba12afb8-4740-48ed-ad4c-676ef83b11f1",
   "metadata": {},
   "outputs": [
    {
     "name": "stdout",
     "output_type": "stream",
     "text": [
      "Training set error for decision tree: 0.28252896560880664\n",
      "Test set error for decision tree:     0.638135169729236\n",
      "Accuracy: 0.5927835051546392\n"
     ]
    }
   ],
   "source": [
    "train_rmse = np.mean((train[\"tree_pred\"] - train[y_col]) ** 2) ** 0.5\n",
    "test_rmse = np.mean((test[\"tree_pred\"] - test[y_col]) ** 2) ** 0.5\n",
    "\n",
    "print(\"Training set error for decision tree:\", train_rmse)\n",
    "print(\"Test set error for decision tree:    \", test_rmse)\n",
    "\n",
    "\n",
    "tree_accuracy = accuracy_score(test[y_col], test[\"tree_pred\"])\n",
    "print(\"Accuracy:\", tree_accuracy)\n",
    "\n"
   ]
  },
  {
   "cell_type": "markdown",
   "id": "c386dfe0-e80b-4057-b88d-e2e4e9ccf440",
   "metadata": {},
   "source": [
    "```\n",
    "Evaluation Metrics:\n",
    "\n",
    "Besides RMSE and accuracy, consider other metrics like precision, recall, F1 score, especially for imbalanced datasets.\n",
    "\n",
    "Model Complexity:\n",
    "\n",
    "Random Forest's max_features=1 might be too restrictive.\n",
    "Try adjusting max_features and other hyperparameters like n_estimators and max_depth.\n",
    "Model Overfitting:\n",
    "\n",
    "Both models might be overfitting to the training data.\n",
    "Consider implementing cross-validation to better understand model performance.\n",
    "```"
   ]
  },
  {
   "cell_type": "markdown",
   "id": "d56fa09b-c869-42ea-87c2-83759601e779",
   "metadata": {},
   "source": [
    "## Looking into Prevalence"
   ]
  },
  {
   "cell_type": "code",
   "execution_count": 318,
   "id": "69972750-b009-4eb1-83d4-1aa0ae8c4fbe",
   "metadata": {},
   "outputs": [
    {
     "name": "stdout",
     "output_type": "stream",
     "text": [
      "Prevalence of wins: 0.2682170542635659\n"
     ]
    }
   ],
   "source": [
    "#number of rows in house to beign with that actually won. \n",
    "prevalence = len(house[house['General Status']==1])/len(house)\n",
    "print(\"Prevalence of wins:\", prevalence)"
   ]
  },
  {
   "cell_type": "markdown",
   "id": "e37df85f-de2e-46c4-a6f4-84898e5ad6bb",
   "metadata": {},
   "source": [
    "<!-- END QUESTION -->\n",
    "\n",
    "## 2b) Frequentist Regression\n",
    "\n",
    "Let's start by considering the problem from a frequentist lens. To do this, we'll use the `statsmodels.api`, which allows us to create a model in just a few lines of code.\n",
    "\n",
    "After fitting our model, we can call the `.summary()` method, and get a breakdown of our model and some details on how well it fit our data."
   ]
  },
  {
   "cell_type": "code",
   "execution_count": null,
   "id": "bb338cb5-9844-4b09-9acc-d51e05f02e3a",
   "metadata": {},
   "outputs": [],
   "source": [
    "import statsmodels.api as sm"
   ]
  },
  {
   "cell_type": "code",
   "execution_count": 1,
   "id": "0af799ef-629f-48a6-8dfd-2264658187b8",
   "metadata": {},
   "outputs": [
    {
     "ename": "NameError",
     "evalue": "name 'sm' is not defined",
     "output_type": "error",
     "traceback": [
      "\u001b[0;31m---------------------------------------------------------------------------\u001b[0m",
      "\u001b[0;31mNameError\u001b[0m                                 Traceback (most recent call last)",
      "Cell \u001b[0;32mIn[1], line 3\u001b[0m\n\u001b[1;32m      1\u001b[0m \u001b[38;5;66;03m#FROM LAB \u001b[39;00m\n\u001b[1;32m      2\u001b[0m \u001b[38;5;66;03m# Fit Poisson GLM model where Temp_Anomaly is a covariate (exogenous variable): No need to modify\u001b[39;00m\n\u001b[0;32m----> 3\u001b[0m freq_model \u001b[38;5;241m=\u001b[39m \u001b[43msm\u001b[49m\u001b[38;5;241m.\u001b[39mGLM(df[\u001b[38;5;124m\"\u001b[39m\u001b[38;5;124mNum_Storms\u001b[39m\u001b[38;5;124m\"\u001b[39m], exog \u001b[38;5;241m=\u001b[39m sm\u001b[38;5;241m.\u001b[39madd_constant(df[\u001b[38;5;124m\"\u001b[39m\u001b[38;5;124mTemp_Anomaly\u001b[39m\u001b[38;5;124m\"\u001b[39m]), \n\u001b[1;32m      4\u001b[0m                   family\u001b[38;5;241m=\u001b[39msm\u001b[38;5;241m.\u001b[39mfamilies\u001b[38;5;241m.\u001b[39mPoisson())\n\u001b[1;32m      5\u001b[0m freq_res \u001b[38;5;241m=\u001b[39m freq_model\u001b[38;5;241m.\u001b[39mfit()\n\u001b[1;32m      6\u001b[0m \u001b[38;5;28mprint\u001b[39m(freq_res\u001b[38;5;241m.\u001b[39msummary())\n",
      "\u001b[0;31mNameError\u001b[0m: name 'sm' is not defined"
     ]
    }
   ],
   "source": [
    "#FROM LAB \n",
    "# Fit Poisson GLM model where Temp_Anomaly is a covariate (exogenous variable): No need to modify\n",
    "freq_model = sm.GLM(df[\"Num_Storms\"], exog = sm.add_constant(df[\"Temp_Anomaly\"]), \n",
    "                  family=sm.families.Poisson())\n",
    "freq_res = freq_model.fit()\n",
    "print(freq_res.summary())"
   ]
  },
  {
   "cell_type": "code",
   "execution_count": null,
   "id": "b2723faf-105c-44c4-8b5f-1fa2c1947232",
   "metadata": {},
   "outputs": [],
   "source": [
    "model_two = sm.OLS(np.log(Y), sm.add_constant(X)).fit()\n",
    "print(model_two.summary())"
   ]
  },
  {
   "cell_type": "code",
   "execution_count": null,
   "id": "5ab8517d-2e33-47da-9b72-5f229f53f2d6",
   "metadata": {},
   "outputs": [],
   "source": []
  }
 ],
 "metadata": {
  "kernelspec": {
   "display_name": "Python 3 (ipykernel)",
   "language": "python",
   "name": "python3"
  },
  "language_info": {
   "codemirror_mode": {
    "name": "ipython",
    "version": 3
   },
   "file_extension": ".py",
   "mimetype": "text/x-python",
   "name": "python",
   "nbconvert_exporter": "python",
   "pygments_lexer": "ipython3",
   "version": "3.9.15"
  }
 },
 "nbformat": 4,
 "nbformat_minor": 5
}
