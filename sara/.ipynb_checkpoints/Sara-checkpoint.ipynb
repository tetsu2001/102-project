{
 "cells": [
  {
   "cell_type": "markdown",
   "id": "3ef4754b",
   "metadata": {},
   "source": [
    "testing"
   ]
  },
  {
   "cell_type": "markdown",
   "id": "29203716-b05e-402e-8d79-26fce79020c2",
   "metadata": {},
   "source": [
    "asdf"
   ]
  },
  {
   "cell_type": "markdown",
   "id": "b3fefdf1-e173-44df-aac3-2b1fb5947f20",
   "metadata": {},
   "source": [
    "a"
   ]
  },
  {
   "cell_type": "code",
   "execution_count": null,
   "id": "48ce0579-62a0-405e-9244-85a59191d9e7",
   "metadata": {},
   "outputs": [],
   "source": []
  }
 ],
 "metadata": {
  "kernelspec": {
   "display_name": "Python 3 (ipykernel)",
   "language": "python",
   "name": "python3"
  },
  "language_info": {
   "codemirror_mode": {
    "name": "ipython",
    "version": 3
   },
   "file_extension": ".py",
   "mimetype": "text/x-python",
   "name": "python",
   "nbconvert_exporter": "python",
   "pygments_lexer": "ipython3",
   "version": "3.9.15"
  }
 },
 "nbformat": 4,
 "nbformat_minor": 5
}
