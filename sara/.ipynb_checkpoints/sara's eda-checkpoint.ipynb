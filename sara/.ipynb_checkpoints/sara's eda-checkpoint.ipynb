{
 "cells": [
  {
   "cell_type": "code",
   "execution_count": 114,
   "id": "48ce0579-62a0-405e-9244-85a59191d9e7",
   "metadata": {},
   "outputs": [],
   "source": [
    "import numpy as np\n",
    "import pandas as pd\n",
    "%matplotlib inline\n",
    "import matplotlib.pyplot as plt\n",
    "import seaborn as sns\n",
    "import plotly.express as px\n",
    "import warnings\n",
    "warnings.filterwarnings('ignore')\n",
    "from pathlib import Path\n",
    "import statsmodels.api as sm\n",
    "# from fuzzywuzzy import fuzz\n",
    "import statsmodels.api as sm\n",
    "from statsmodels.stats.outliers_influence import variance_inflation_factor\n",
    "import random\n",
    "from imblearn.over_sampling import RandomOverSampler\n",
    "from sklearn.model_selection import cross_validate\n",
    "from sklearn.linear_model import LogisticRegression\n",
    "import numpy as np\n",
    "from sklearn.model_selection import train_test_split\n",
    "from sklearn.metrics import precision_score, recall_score, f1_score, roc_auc_score, average_precision_score, balanced_accuracy_score, matthews_corrcoef\n",
    "from scipy.stats import chi2_contingency"
   ]
  },
  {
   "cell_type": "markdown",
   "id": "8e9859fc-4504-47c0-9afe-bac5ea6b7029",
   "metadata": {},
   "source": [
    "pip install fuzzywuzzy python-Levenshtein"
   ]
  },
  {
   "cell_type": "markdown",
   "id": "f1851507-d90b-401f-b871-3e25076153b6",
   "metadata": {},
   "source": [
    "# cleaning the datasets to prepare for merging"
   ]
  },
  {
   "cell_type": "code",
   "execution_count": 121,
   "id": "d86c5403-5d68-4cc0-bca1-8dd9307e3b70",
   "metadata": {},
   "outputs": [],
   "source": [
    "def barplot(df, group_cols):\n",
    "  \n",
    "    n_cols = len(group_cols)\n",
    "    n_rows = math.ceil(n_cols / 5)\n",
    "    fig_width = 15\n",
    "    fig_height = 15\n",
    "\n",
    "    # Create subplot grid\n",
    "    fig, axs = plt.subplots(n_rows, 5, figsize=(fig_width, fig_height))\n",
    "    axs = axs.flatten()\n",
    "\n",
    "    for i, col in enumerate(group_cols):\n",
    "        proportions_df = df.groupby([col, 'General Status']).size().unstack(fill_value=0)\n",
    "        proportions_df = proportions_df.div(proportions_df.sum(axis=1), axis=0)\n",
    "\n",
    "        # Plot in subplot\n",
    "        ax = axs[i]  # Select subplot\n",
    "        proportions_df.plot(kind='bar', stacked=True, color=['lightblue', 'orange'], ax=ax, use_index=False,sharex=True,sharey=True)\n",
    "        ax.set_title(f'{col}', fontsize=10,wrap=True)\n",
    "        ax.legend(title='Won Primary', loc='upper right', labels=['No', 'Yes'],fontsize=5)\n",
    "\n",
    "    # Hide unused subplots if any\n",
    "    for j in range(i+1, len(axs)):\n",
    "        fig.delaxes(axs[j])\n",
    "\n",
    "    # Adjust layout and save\n",
    "    plt.tight_layout()\n",
    "    plt.savefig(f\"grid_race_win.png\")\n",
    "    plt.legend(title='Won Primary', loc='upper right', labels=['No', 'Yes'],fontsize=5)\n",
    "    plt.show()"
   ]
  },
  {
   "cell_type": "code",
   "execution_count": 276,
   "id": "1878ec23-c218-4b2b-85d9-8ff901406cfa",
   "metadata": {},
   "outputs": [],
   "source": [
    "def binarize_cols(df, nan_threshold=20):\n",
    "    few_NaNs_cols = []\n",
    "    for col in df.columns:\n",
    "        if (df[col].nunique(dropna=False) == 2) or (df[col].nunique(dropna=True) == 2):\n",
    "            unique_vals = df[col].unique()\n",
    "            if (unique_vals[0] !=0 and unique_vals[1] !=0):\n",
    "                print(f\"col:{col}\\n0 means:{unique_vals[0]}\\n1 means: {unique_vals[1]}\\n\")\n",
    "                df[col] = df[col].replace({unique_vals[0]: int(0), unique_vals[1]: int(1)})\n",
    "            df[col].fillna(0, inplace=True) #now this will only make sense tho if we OHE first.    \n",
    "    return df\n",
    "\n",
    "def drop_columns(df, col_lst):\n",
    "    for i in col_lst:\n",
    "        if i in df.columns:\n",
    "            df = df.drop(i, axis=1)\n",
    "    return df\n",
    "\n",
    "\n",
    "def move_column_to_front(df, col_lst):\n",
    "    for column_name in col_lst:\n",
    "        if column_name in df.columns:\n",
    "            df = df[[column_name] + [col for col in df.columns if col != column_name]]\n",
    "    return df\n",
    "\n",
    "def get_info(df):\n",
    "    print(f\"COL VALUE TYPES \\n{df.dtypes} \\n\\ndf shape:{df.shape}\\n\\nall the columns:\\n{df.columns}\")\n",
    "\n",
    "def get_ohe_cols(df, unique_limit=16, exclude = ['total_runners_house','total_runners']):\n",
    "    #object_cols = df.select_dtypes(include=['object']).columns\n",
    "    res = [col for col in df.columns if ((df[col].nunique(dropna=False) <= unique_limit) and (df[col].nunique(dropna=False)>=2) and (col != 'total_runners') and (col != 'General Status') and (col !='Total Endorsements'))]\n",
    "    return res\n",
    "\n",
    "def zero_dropper(df):\n",
    "    for col in df.columns:\n",
    "        if ((df[col].astype(int)==1).mean() >= 0.80):\n",
    "            df = df.drop(col, axis=1)\n",
    "    return df\n",
    "\n",
    "def drop_VIF_col(X, threshold=2):\n",
    "    while True:\n",
    "        vif_info = pd.DataFrame()\n",
    "        vif_info['VIF'] = [variance_inflation_factor(X.values, i) for i in range(X.shape[1])]\n",
    "        vif_info['Column'] = X.columns\n",
    "        vif_info = vif_info.sort_values('VIF', ascending=False)\n",
    "        max_VIF = vif_info['VIF'].iloc[0]\n",
    "\n",
    "        if max_VIF > threshold:\n",
    "            to_drop = vif_info['Column'].iloc[0]\n",
    "            print(f\"Dropped: {to_drop} with VIF of {max_VIF}\")\n",
    "            X = X.drop(to_drop, axis=1)\n",
    "        else:\n",
    "            break\n",
    "\n",
    "    return X  # Returning the modified DataFrame\n",
    "\n",
    "def convert_to_int_if_possible(df, col_lst):\n",
    "    for column_name in col_lst:\n",
    "        temp_col = pd.to_numeric(df[column_name], errors='coerce')\n",
    "        if temp_col.isna().sum() == 0:\n",
    "            if all(temp_col.dropna() == temp_col.dropna().astype(int)):\n",
    "                df[column_name] = temp_col.astype(int)\n",
    "    return df\n",
    "\n",
    "def aic(X, y):\n",
    "    best_features = []\n",
    "    best_aic = float('inf')\n",
    "\n",
    "    for feature in X.columns:\n",
    "        # Create a temporary DataFrame with the current set of best features plus the new feature\n",
    "        X_temp = sm.add_constant(X[best_features + [feature]])\n",
    "\n",
    "       \n",
    "        model = sm.Logit(y, X_temp)  # Fit the logistic regression model\n",
    "        result = model.fit()  # disp=0 suppresses the fit output\n",
    "\n",
    "        # Check AIC and update if it is lower\n",
    "        if result.aic < best_aic:\n",
    "            best_aic = result.aic\n",
    "            best_features.append(feature)\n",
    "\n",
    "    # Fit the final model with the best features\n",
    "    X_final = sm.add_constant(X[best_features])\n",
    "    final_model = sm.Logit(y, X_final)\n",
    "    final_result = final_model.fit()\n",
    "\n",
    "    # You might want to return the final model, its summary, or AIC\n",
    "    print(f\"{best_features}\")\n",
    "    return final_result.summary(), final_result.aic"
   ]
  },
  {
   "cell_type": "code",
   "execution_count": 195,
   "id": "ec540fdc-47de-4881-8af7-7e896f6e0b01",
   "metadata": {},
   "outputs": [],
   "source": [
    "def chi_square_test(df, columns_to_test, outcome_column, significance_level=0.05):\n",
    "    significant_columns = {}\n",
    "    just_cols = []\n",
    "\n",
    "    for column in columns_to_test:\n",
    "        contingency_table = pd.crosstab(df[column], df[outcome_column])\n",
    "        chi2, p, dof, expected = chi2_contingency(contingency_table)\n",
    "        \n",
    "        if p < significance_level:\n",
    "            just_cols.append(column)\n",
    "            significant_columns[column] = p\n",
    "    return just_cols"
   ]
  },
  {
   "cell_type": "markdown",
   "id": "a63e10f4-af33-425f-8a36-7770c8f6c9ec",
   "metadata": {},
   "source": [
    "Loading dataset: "
   ]
  },
  {
   "cell_type": "code",
   "execution_count": 124,
   "id": "b057b09f-5211-47f2-bf09-35f6db231330",
   "metadata": {},
   "outputs": [],
   "source": [
    "house = pd.read_csv('dec10.csv')\n",
    "house = convert_to_int_if_possible(house,list(house.columns))        "
   ]
  },
  {
   "cell_type": "markdown",
   "id": "be2e41fc-f4eb-496f-98da-857c4efcaf39",
   "metadata": {},
   "source": [
    "```categorical``` is any categorical column. \n",
    "\n",
    "```significant_cols``` are the significant ```categorical``` columns based on chi square analysis.\n"
   ]
  },
  {
   "cell_type": "code",
   "execution_count": 196,
   "id": "ac174186-e3fe-41d4-959b-757b26925dbd",
   "metadata": {},
   "outputs": [],
   "source": [
    "categorical = get_ohe_cols(house)\n",
    "significant_cols = chi_square_test(house, categorical, 'General Status')"
   ]
  },
  {
   "cell_type": "markdown",
   "id": "e7ab8858-b066-4cb0-944e-cdcf08e60cca",
   "metadata": {},
   "source": [
    "the resulting significant categories plotted against general status "
   ]
  },
  {
   "cell_type": "code",
   "execution_count": 198,
   "id": "65a35d46-7192-40a9-8b61-4ae677942a49",
   "metadata": {},
   "outputs": [
    {
     "data": {
      "image/png": "[encoded data removed]",
      "text/plain": [
       "<Figure size 1500x1500 with 20 Axes>"
      ]
     },
     "metadata": {},
     "output_type": "display_data"
    }
   ],
   "source": [
    "barplot(new_FEC_merged, significant_cols)"
   ]
  },
  {
   "cell_type": "markdown",
   "id": "425d3a47-05a0-417a-918c-3b75cd00f959",
   "metadata": {},
   "source": [
    "Now that we know which variables are significant, we will OHE hust those. Just OHE the significant columns. \n",
    "\n",
    "```categorical``` is all categorical columns\n",
    "\n",
    "```drop``` is the categories that are NOT significant\n",
    "\n",
    "```house_to_encode``` is the house dataset with ```drop``` columns removed"
   ]
  },
  {
   "cell_type": "code",
   "execution_count": 199,
   "id": "25152eb5-5cde-4bf4-af0d-fc0d2a117ac1",
   "metadata": {},
   "outputs": [],
   "source": [
    "drop = [x for x in categorical if x not in significant_cols]\n",
    "house_to_encode = drop_columns(new_FEC_merged, drop)"
   ]
  },
  {
   "cell_type": "markdown",
   "id": "70712a7d-aefb-4361-9d38-9f4000c53db9",
   "metadata": {},
   "source": [
    "Now we one hot encode all categorical columns in ```house_to_encode```\n",
    "\n",
    "```significant_cols``` is the significant categorical cols based on chi sq test\n",
    "\n",
    "```ohe_result``` is the result of this one-hot-encoded dataframe, with the original, unencoded ```significant_cols``` columns dropped"
   ]
  },
  {
   "cell_type": "code",
   "execution_count": 201,
   "id": "e1997dd2-1b3e-48e4-9538-9e818fd9741c",
   "metadata": {},
   "outputs": [],
   "source": [
    "ohe_result = pd.get_dummies(house_to_encode, columns=significant_cols)\n",
    "ohe_result = drop_columns(ohe_result, significant_cols)"
   ]
  },
  {
   "cell_type": "markdown",
   "id": "cae8a069-5f5d-4c24-a6d5-ba6caec9b4a8",
   "metadata": {},
   "source": [
    "Now i want to manually drop the unexplainable columns to take of multicollinearity. I want this rather than dropping the frist column because our goal is explainiability.\n",
    "\n",
    "\n",
    "```dependence_drop``` is the df with one OHE column dropped from each of the OHE features. "
   ]
  },
  {
   "cell_type": "code",
   "execution_count": 316,
   "id": "cdfb9c4a-0483-452b-9e7e-a342990575bb",
   "metadata": {},
   "outputs": [],
   "source": [
    "contains_no_info =  [x for x in list(ohe_result.columns) if '_0' in x] + [x for x in list(ohe_result.columns) if '_No information' in x] + [x for x in list(ohe_result.columns) if '_Candidate provides complicated/complex/unclear position' in x] + [x for x in list(ohe_result.columns) if '_Candidate provides no information' in x] + [x for x in list(ohe_result.columns) if 'Other' in x]\n",
    "dependence_drop = drop_columns(ohe_result, contains_no_info)"
   ]
  },
  {
   "cell_type": "markdown",
   "id": "ab354b24-52e0-4901-a215-2c6156537b9c",
   "metadata": {},
   "source": [
    "Now we want to drop any columns with low variance. \n",
    "```drop_low_variance``` is the dataframe now with low variance columns dropped"
   ]
  },
  {
   "cell_type": "code",
   "execution_count": 317,
   "id": "0116eeeb-5f61-4afb-b688-9de572867f96",
   "metadata": {},
   "outputs": [],
   "source": [
    "drop_low_variance = zero_dropper(dependence_drop)"
   ]
  },
  {
   "cell_type": "markdown",
   "id": "4ff5f39b-9545-4d87-b994-d44e5c12ea1d",
   "metadata": {},
   "source": [
    "shuffle before doing the VIF. \n",
    "\n",
    "```re_shuffled``` is the df with columns reshuffled so when doing VIF it does it not in order"
   ]
  },
  {
   "cell_type": "code",
   "execution_count": 318,
   "id": "98df44bd-4864-426b-8075-d060f0883469",
   "metadata": {},
   "outputs": [],
   "source": [
    "re_shuffled = drop_low_variance.sample(frac=1, axis=1)"
   ]
  },
  {
   "cell_type": "markdown",
   "id": "48d844b4-e8fe-44dc-ab2e-6550ac6c2819",
   "metadata": {},
   "source": [
    "do VIF to drop highly correlated columns\\\n",
    "\n",
    "```X``` is all the X from ```re_shuffled```\n",
    "\n",
    "```best_X``` is the result of dropping all highly multicollinear columns\n",
    "\n",
    "```regression_ready``` is the dataframe with only the chosen ```best_X``` predicotrs"
   ]
  },
  {
   "cell_type": "code",
   "execution_count": 321,
   "id": "2e36f78d-5518-47ae-bcd5-a5703a0fa1c3",
   "metadata": {},
   "outputs": [
    {
     "name": "stdout",
     "output_type": "stream",
     "text": [
      "Dropped: Total Endorsements with VIF of 27.298273495496204\n",
      "Dropped: Party.Category_Progressive Democrat with VIF of 7.224297533451842\n",
      "Dropped: total_runners with VIF of 4.073562715820594\n",
      "Dropped: Position.on.Climate.Change_Candidate supports regulations and measures to combat climate change with VIF of 3.5691605993644204\n",
      "Dropped: SinglePayer_1 with VIF of 2.576014670753323\n",
      "Dropped: Marital.Status_Married with VIF of 2.4683385045971673\n"
     ]
    }
   ],
   "source": [
    "X = drop_columns(re_shuffled, ['General Status'])\n",
    "best_X = drop_VIF_col(X, 2)\n",
    "#all_cols = ['General Status'] + list(best_X.columns)\n",
    "regression_ready = re_shuffled[['General Status'] + list(best_X.columns)]"
   ]
  },
  {
   "cell_type": "code",
   "execution_count": 322,
   "id": "cb70658d-e84f-413c-92e5-8bfe0bd7fda6",
   "metadata": {
    "tags": []
   },
   "outputs": [],
   "source": [
    "X = drop_columns(regression_ready, ['General Status'])"
   ]
  },
  {
   "cell_type": "code",
   "execution_count": 323,
   "id": "d70cb180-bda3-4c50-9996-17d71d9476e8",
   "metadata": {},
   "outputs": [],
   "source": [
    "def drop_highly_correlated_columns(df, threshold=0.5):\n",
    "    # Compute the correlation matrix\n",
    "    corr_matrix = df.corr().abs()\n",
    "\n",
    "    # Identify pairs of highly correlated features\n",
    "    to_drop = set()\n",
    "    for i in range(len(corr_matrix.columns)):\n",
    "        for j in range(i):\n",
    "            if corr_matrix.iloc[i, j] >= threshold:\n",
    "                # Add one of the pair to the drop set\n",
    "                to_drop.add(corr_matrix.columns[i])\n",
    "\n",
    "    # Drop the selected columns\n",
    "    df_reduced = df.drop(to_drop, axis=1)\n",
    "    return df_reduced\n"
   ]
  },
  {
   "cell_type": "code",
   "execution_count": 324,
   "id": "4c313bfd-4078-4923-abb4-69be1132ba57",
   "metadata": {},
   "outputs": [],
   "source": [
    "drops = drop_highly_correlated_columns(X)"
   ]
  },
  {
   "cell_type": "code",
   "execution_count": 328,
   "id": "b245e4ff-c710-4c84-87cc-9edc21b9dd58",
   "metadata": {},
   "outputs": [],
   "source": [
    "categorical = get_ohe_cols(regression_ready)\n",
    "significant_cols = chi_square_test(regression_ready, categorical, 'General Status')"
   ]
  },
  {
   "cell_type": "code",
   "execution_count": 327,
   "id": "58833426-c3c8-492b-be9d-bd944c315d06",
   "metadata": {},
   "outputs": [
    {
     "data": {
      "image/png": "[encoded data removed]",
      "text/plain": [
       "<Figure size 1500x1500 with 17 Axes>"
      ]
     },
     "metadata": {},
     "output_type": "display_data"
    }
   ],
   "source": [
    "barplot(regression_ready, significant_cols)"
   ]
  },
  {
   "cell_type": "code",
   "execution_count": 331,
   "id": "5b303592-47f2-4736-9594-64eb70370313",
   "metadata": {},
   "outputs": [],
   "source": [
    "drop = [x for x in categorical if x not in significant_cols]\n",
    "house_for_aic = drop_columns(drops, drop)"
   ]
  },
  {
   "cell_type": "code",
   "execution_count": 335,
   "id": "dd7fe210-7485-4540-9684-555644bab9b1",
   "metadata": {},
   "outputs": [
    {
     "name": "stdout",
     "output_type": "stream",
     "text": [
      "Optimization terminated successfully.\n",
      "         Current function value: 0.591612\n",
      "         Iterations 5\n",
      "Optimization terminated successfully.\n",
      "         Current function value: 0.585745\n",
      "         Iterations 5\n",
      "Warning: Maximum number of iterations has been exceeded.\n",
      "         Current function value: 0.573032\n",
      "         Iterations: 35\n",
      "Warning: Maximum number of iterations has been exceeded.\n",
      "         Current function value: 0.568885\n",
      "         Iterations: 35\n",
      "Warning: Maximum number of iterations has been exceeded.\n",
      "         Current function value: inf\n",
      "         Iterations: 35\n"
     ]
    },
    {
     "ename": "LinAlgError",
     "evalue": "Singular matrix",
     "output_type": "error",
     "traceback": [
      "\u001b[0;31m---------------------------------------------------------------------------\u001b[0m",
      "\u001b[0;31mLinAlgError\u001b[0m                               Traceback (most recent call last)",
      "Cell \u001b[0;32mIn[335], line 1\u001b[0m\n\u001b[0;32m----> 1\u001b[0m \u001b[43maic\u001b[49m\u001b[43m(\u001b[49m\u001b[43mhouse_for_aic\u001b[49m\u001b[38;5;241;43m.\u001b[39;49m\u001b[43mastype\u001b[49m\u001b[43m(\u001b[49m\u001b[38;5;28;43mfloat\u001b[39;49m\u001b[43m)\u001b[49m\u001b[43m,\u001b[49m\u001b[43mregression_ready\u001b[49m\u001b[43m[\u001b[49m\u001b[38;5;124;43m'\u001b[39;49m\u001b[38;5;124;43mGeneral Status\u001b[39;49m\u001b[38;5;124;43m'\u001b[39;49m\u001b[43m]\u001b[49m\u001b[43m)\u001b[49m\n",
      "Cell \u001b[0;32mIn[276], line 74\u001b[0m, in \u001b[0;36maic\u001b[0;34m(X, y)\u001b[0m\n\u001b[1;32m     70\u001b[0m X_temp \u001b[38;5;241m=\u001b[39m sm\u001b[38;5;241m.\u001b[39madd_constant(X[best_features \u001b[38;5;241m+\u001b[39m [feature]])\n\u001b[1;32m     73\u001b[0m model \u001b[38;5;241m=\u001b[39m sm\u001b[38;5;241m.\u001b[39mLogit(y, X_temp)  \u001b[38;5;66;03m# Fit the logistic regression model\u001b[39;00m\n\u001b[0;32m---> 74\u001b[0m result \u001b[38;5;241m=\u001b[39m \u001b[43mmodel\u001b[49m\u001b[38;5;241;43m.\u001b[39;49m\u001b[43mfit\u001b[49m\u001b[43m(\u001b[49m\u001b[43m)\u001b[49m  \u001b[38;5;66;03m# disp=0 suppresses the fit output\u001b[39;00m\n\u001b[1;32m     76\u001b[0m \u001b[38;5;66;03m# Check AIC and update if it is lower\u001b[39;00m\n\u001b[1;32m     77\u001b[0m \u001b[38;5;28;01mif\u001b[39;00m result\u001b[38;5;241m.\u001b[39maic \u001b[38;5;241m<\u001b[39m best_aic:\n",
      "File \u001b[0;32m/srv/conda/lib/python3.9/site-packages/statsmodels/discrete/discrete_model.py:1983\u001b[0m, in \u001b[0;36mLogit.fit\u001b[0;34m(self, start_params, method, maxiter, full_output, disp, callback, **kwargs)\u001b[0m\n\u001b[1;32m   1980\u001b[0m \u001b[38;5;129m@Appender\u001b[39m(DiscreteModel\u001b[38;5;241m.\u001b[39mfit\u001b[38;5;241m.\u001b[39m\u001b[38;5;18m__doc__\u001b[39m)\n\u001b[1;32m   1981\u001b[0m \u001b[38;5;28;01mdef\u001b[39;00m \u001b[38;5;21mfit\u001b[39m(\u001b[38;5;28mself\u001b[39m, start_params\u001b[38;5;241m=\u001b[39m\u001b[38;5;28;01mNone\u001b[39;00m, method\u001b[38;5;241m=\u001b[39m\u001b[38;5;124m'\u001b[39m\u001b[38;5;124mnewton\u001b[39m\u001b[38;5;124m'\u001b[39m, maxiter\u001b[38;5;241m=\u001b[39m\u001b[38;5;241m35\u001b[39m,\n\u001b[1;32m   1982\u001b[0m         full_output\u001b[38;5;241m=\u001b[39m\u001b[38;5;241m1\u001b[39m, disp\u001b[38;5;241m=\u001b[39m\u001b[38;5;241m1\u001b[39m, callback\u001b[38;5;241m=\u001b[39m\u001b[38;5;28;01mNone\u001b[39;00m, \u001b[38;5;241m*\u001b[39m\u001b[38;5;241m*\u001b[39mkwargs):\n\u001b[0;32m-> 1983\u001b[0m     bnryfit \u001b[38;5;241m=\u001b[39m \u001b[38;5;28;43msuper\u001b[39;49m\u001b[43m(\u001b[49m\u001b[43m)\u001b[49m\u001b[38;5;241;43m.\u001b[39;49m\u001b[43mfit\u001b[49m\u001b[43m(\u001b[49m\u001b[43mstart_params\u001b[49m\u001b[38;5;241;43m=\u001b[39;49m\u001b[43mstart_params\u001b[49m\u001b[43m,\u001b[49m\n\u001b[1;32m   1984\u001b[0m \u001b[43m                          \u001b[49m\u001b[43mmethod\u001b[49m\u001b[38;5;241;43m=\u001b[39;49m\u001b[43mmethod\u001b[49m\u001b[43m,\u001b[49m\n\u001b[1;32m   1985\u001b[0m \u001b[43m                          \u001b[49m\u001b[43mmaxiter\u001b[49m\u001b[38;5;241;43m=\u001b[39;49m\u001b[43mmaxiter\u001b[49m\u001b[43m,\u001b[49m\n\u001b[1;32m   1986\u001b[0m \u001b[43m                          \u001b[49m\u001b[43mfull_output\u001b[49m\u001b[38;5;241;43m=\u001b[39;49m\u001b[43mfull_output\u001b[49m\u001b[43m,\u001b[49m\n\u001b[1;32m   1987\u001b[0m \u001b[43m                          \u001b[49m\u001b[43mdisp\u001b[49m\u001b[38;5;241;43m=\u001b[39;49m\u001b[43mdisp\u001b[49m\u001b[43m,\u001b[49m\n\u001b[1;32m   1988\u001b[0m \u001b[43m                          \u001b[49m\u001b[43mcallback\u001b[49m\u001b[38;5;241;43m=\u001b[39;49m\u001b[43mcallback\u001b[49m\u001b[43m,\u001b[49m\n\u001b[1;32m   1989\u001b[0m \u001b[43m                          \u001b[49m\u001b[38;5;241;43m*\u001b[39;49m\u001b[38;5;241;43m*\u001b[39;49m\u001b[43mkwargs\u001b[49m\u001b[43m)\u001b[49m\n\u001b[1;32m   1991\u001b[0m     discretefit \u001b[38;5;241m=\u001b[39m LogitResults(\u001b[38;5;28mself\u001b[39m, bnryfit)\n\u001b[1;32m   1992\u001b[0m     \u001b[38;5;28;01mreturn\u001b[39;00m BinaryResultsWrapper(discretefit)\n",
      "File \u001b[0;32m/srv/conda/lib/python3.9/site-packages/statsmodels/discrete/discrete_model.py:230\u001b[0m, in \u001b[0;36mDiscreteModel.fit\u001b[0;34m(self, start_params, method, maxiter, full_output, disp, callback, **kwargs)\u001b[0m\n\u001b[1;32m    227\u001b[0m \u001b[38;5;28;01melse\u001b[39;00m:\n\u001b[1;32m    228\u001b[0m     \u001b[38;5;28;01mpass\u001b[39;00m  \u001b[38;5;66;03m# TODO: make a function factory to have multiple call-backs\u001b[39;00m\n\u001b[0;32m--> 230\u001b[0m mlefit \u001b[38;5;241m=\u001b[39m \u001b[38;5;28;43msuper\u001b[39;49m\u001b[43m(\u001b[49m\u001b[43m)\u001b[49m\u001b[38;5;241;43m.\u001b[39;49m\u001b[43mfit\u001b[49m\u001b[43m(\u001b[49m\u001b[43mstart_params\u001b[49m\u001b[38;5;241;43m=\u001b[39;49m\u001b[43mstart_params\u001b[49m\u001b[43m,\u001b[49m\n\u001b[1;32m    231\u001b[0m \u001b[43m                     \u001b[49m\u001b[43mmethod\u001b[49m\u001b[38;5;241;43m=\u001b[39;49m\u001b[43mmethod\u001b[49m\u001b[43m,\u001b[49m\n\u001b[1;32m    232\u001b[0m \u001b[43m                     \u001b[49m\u001b[43mmaxiter\u001b[49m\u001b[38;5;241;43m=\u001b[39;49m\u001b[43mmaxiter\u001b[49m\u001b[43m,\u001b[49m\n\u001b[1;32m    233\u001b[0m \u001b[43m                     \u001b[49m\u001b[43mfull_output\u001b[49m\u001b[38;5;241;43m=\u001b[39;49m\u001b[43mfull_output\u001b[49m\u001b[43m,\u001b[49m\n\u001b[1;32m    234\u001b[0m \u001b[43m                     \u001b[49m\u001b[43mdisp\u001b[49m\u001b[38;5;241;43m=\u001b[39;49m\u001b[43mdisp\u001b[49m\u001b[43m,\u001b[49m\n\u001b[1;32m    235\u001b[0m \u001b[43m                     \u001b[49m\u001b[43mcallback\u001b[49m\u001b[38;5;241;43m=\u001b[39;49m\u001b[43mcallback\u001b[49m\u001b[43m,\u001b[49m\n\u001b[1;32m    236\u001b[0m \u001b[43m                     \u001b[49m\u001b[38;5;241;43m*\u001b[39;49m\u001b[38;5;241;43m*\u001b[39;49m\u001b[43mkwargs\u001b[49m\u001b[43m)\u001b[49m\n\u001b[1;32m    238\u001b[0m \u001b[38;5;28;01mreturn\u001b[39;00m mlefit\n",
      "File \u001b[0;32m/srv/conda/lib/python3.9/site-packages/statsmodels/base/model.py:579\u001b[0m, in \u001b[0;36mLikelihoodModel.fit\u001b[0;34m(self, start_params, method, maxiter, full_output, disp, fargs, callback, retall, skip_hessian, **kwargs)\u001b[0m\n\u001b[1;32m    577\u001b[0m     Hinv \u001b[38;5;241m=\u001b[39m cov_params_func(\u001b[38;5;28mself\u001b[39m, xopt, retvals)\n\u001b[1;32m    578\u001b[0m \u001b[38;5;28;01melif\u001b[39;00m method \u001b[38;5;241m==\u001b[39m \u001b[38;5;124m'\u001b[39m\u001b[38;5;124mnewton\u001b[39m\u001b[38;5;124m'\u001b[39m \u001b[38;5;129;01mand\u001b[39;00m full_output:\n\u001b[0;32m--> 579\u001b[0m     Hinv \u001b[38;5;241m=\u001b[39m \u001b[43mnp\u001b[49m\u001b[38;5;241;43m.\u001b[39;49m\u001b[43mlinalg\u001b[49m\u001b[38;5;241;43m.\u001b[39;49m\u001b[43minv\u001b[49m\u001b[43m(\u001b[49m\u001b[38;5;241;43m-\u001b[39;49m\u001b[43mretvals\u001b[49m\u001b[43m[\u001b[49m\u001b[38;5;124;43m'\u001b[39;49m\u001b[38;5;124;43mHessian\u001b[39;49m\u001b[38;5;124;43m'\u001b[39;49m\u001b[43m]\u001b[49m\u001b[43m)\u001b[49m \u001b[38;5;241m/\u001b[39m nobs\n\u001b[1;32m    580\u001b[0m \u001b[38;5;28;01melif\u001b[39;00m \u001b[38;5;129;01mnot\u001b[39;00m skip_hessian:\n\u001b[1;32m    581\u001b[0m     H \u001b[38;5;241m=\u001b[39m \u001b[38;5;241m-\u001b[39m\u001b[38;5;241m1\u001b[39m \u001b[38;5;241m*\u001b[39m \u001b[38;5;28mself\u001b[39m\u001b[38;5;241m.\u001b[39mhessian(xopt)\n",
      "File \u001b[0;32m/srv/conda/lib/python3.9/site-packages/numpy/linalg/linalg.py:561\u001b[0m, in \u001b[0;36minv\u001b[0;34m(a)\u001b[0m\n\u001b[1;32m    546\u001b[0m \u001b[38;5;129m@array_function_dispatch\u001b[39m(_matrix_power_dispatcher)\n\u001b[1;32m    547\u001b[0m \u001b[38;5;28;01mdef\u001b[39;00m \u001b[38;5;21mmatrix_power\u001b[39m(a, n):\n\u001b[1;32m    548\u001b[0m \u001b[38;5;250m    \u001b[39m\u001b[38;5;124;03m\"\"\"\u001b[39;00m\n\u001b[1;32m    549\u001b[0m \u001b[38;5;124;03m    Raise a square matrix to the (integer) power `n`.\u001b[39;00m\n\u001b[1;32m    550\u001b[0m \n\u001b[1;32m    551\u001b[0m \u001b[38;5;124;03m    For positive integers `n`, the power is computed by repeated matrix\u001b[39;00m\n\u001b[1;32m    552\u001b[0m \u001b[38;5;124;03m    squarings and matrix multiplications. If ``n == 0``, the identity matrix\u001b[39;00m\n\u001b[1;32m    553\u001b[0m \u001b[38;5;124;03m    of the same shape as M is returned. If ``n < 0``, the inverse\u001b[39;00m\n\u001b[1;32m    554\u001b[0m \u001b[38;5;124;03m    is computed and then raised to the ``abs(n)``.\u001b[39;00m\n\u001b[1;32m    555\u001b[0m \n\u001b[1;32m    556\u001b[0m \u001b[38;5;124;03m    .. note:: Stacks of object matrices are not currently supported.\u001b[39;00m\n\u001b[1;32m    557\u001b[0m \n\u001b[1;32m    558\u001b[0m \u001b[38;5;124;03m    Parameters\u001b[39;00m\n\u001b[1;32m    559\u001b[0m \u001b[38;5;124;03m    ----------\u001b[39;00m\n\u001b[1;32m    560\u001b[0m \u001b[38;5;124;03m    a : (..., M, M) array_like\u001b[39;00m\n\u001b[0;32m--> 561\u001b[0m \u001b[38;5;124;03m        Matrix to be \"powered\".\u001b[39;00m\n\u001b[1;32m    562\u001b[0m \u001b[38;5;124;03m    n : int\u001b[39;00m\n\u001b[1;32m    563\u001b[0m \u001b[38;5;124;03m        The exponent can be any integer or long integer, positive,\u001b[39;00m\n\u001b[1;32m    564\u001b[0m \u001b[38;5;124;03m        negative, or zero.\u001b[39;00m\n\u001b[1;32m    565\u001b[0m \n\u001b[1;32m    566\u001b[0m \u001b[38;5;124;03m    Returns\u001b[39;00m\n\u001b[1;32m    567\u001b[0m \u001b[38;5;124;03m    -------\u001b[39;00m\n\u001b[1;32m    568\u001b[0m \u001b[38;5;124;03m    a**n : (..., M, M) ndarray or matrix object\u001b[39;00m\n\u001b[1;32m    569\u001b[0m \u001b[38;5;124;03m        The return value is the same shape and type as `M`;\u001b[39;00m\n\u001b[1;32m    570\u001b[0m \u001b[38;5;124;03m        if the exponent is positive or zero then the type of the\u001b[39;00m\n\u001b[1;32m    571\u001b[0m \u001b[38;5;124;03m        elements is the same as those of `M`. If the exponent is\u001b[39;00m\n\u001b[1;32m    572\u001b[0m \u001b[38;5;124;03m        negative the elements are floating-point.\u001b[39;00m\n\u001b[1;32m    573\u001b[0m \n\u001b[1;32m    574\u001b[0m \u001b[38;5;124;03m    Raises\u001b[39;00m\n\u001b[1;32m    575\u001b[0m \u001b[38;5;124;03m    ------\u001b[39;00m\n\u001b[1;32m    576\u001b[0m \u001b[38;5;124;03m    LinAlgError\u001b[39;00m\n\u001b[1;32m    577\u001b[0m \u001b[38;5;124;03m        For matrices that are not square or that (for negative powers) cannot\u001b[39;00m\n\u001b[1;32m    578\u001b[0m \u001b[38;5;124;03m        be inverted numerically.\u001b[39;00m\n\u001b[1;32m    579\u001b[0m \n\u001b[1;32m    580\u001b[0m \u001b[38;5;124;03m    Examples\u001b[39;00m\n\u001b[1;32m    581\u001b[0m \u001b[38;5;124;03m    --------\u001b[39;00m\n\u001b[1;32m    582\u001b[0m \u001b[38;5;124;03m    >>> from numpy.linalg import matrix_power\u001b[39;00m\n\u001b[1;32m    583\u001b[0m \u001b[38;5;124;03m    >>> i = np.array([[0, 1], [-1, 0]]) # matrix equiv. of the imaginary unit\u001b[39;00m\n\u001b[1;32m    584\u001b[0m \u001b[38;5;124;03m    >>> matrix_power(i, 3) # should = -i\u001b[39;00m\n\u001b[1;32m    585\u001b[0m \u001b[38;5;124;03m    array([[ 0, -1],\u001b[39;00m\n\u001b[1;32m    586\u001b[0m \u001b[38;5;124;03m           [ 1,  0]])\u001b[39;00m\n\u001b[1;32m    587\u001b[0m \u001b[38;5;124;03m    >>> matrix_power(i, 0)\u001b[39;00m\n\u001b[1;32m    588\u001b[0m \u001b[38;5;124;03m    array([[1, 0],\u001b[39;00m\n\u001b[1;32m    589\u001b[0m \u001b[38;5;124;03m           [0, 1]])\u001b[39;00m\n\u001b[1;32m    590\u001b[0m \u001b[38;5;124;03m    >>> matrix_power(i, -3) # should = 1/(-i) = i, but w/ f.p. elements\u001b[39;00m\n\u001b[1;32m    591\u001b[0m \u001b[38;5;124;03m    array([[ 0.,  1.],\u001b[39;00m\n\u001b[1;32m    592\u001b[0m \u001b[38;5;124;03m           [-1.,  0.]])\u001b[39;00m\n\u001b[1;32m    593\u001b[0m \n\u001b[1;32m    594\u001b[0m \u001b[38;5;124;03m    Somewhat more sophisticated example\u001b[39;00m\n\u001b[1;32m    595\u001b[0m \n\u001b[1;32m    596\u001b[0m \u001b[38;5;124;03m    >>> q = np.zeros((4, 4))\u001b[39;00m\n\u001b[1;32m    597\u001b[0m \u001b[38;5;124;03m    >>> q[0:2, 0:2] = -i\u001b[39;00m\n\u001b[1;32m    598\u001b[0m \u001b[38;5;124;03m    >>> q[2:4, 2:4] = i\u001b[39;00m\n\u001b[1;32m    599\u001b[0m \u001b[38;5;124;03m    >>> q # one of the three quaternion units not equal to 1\u001b[39;00m\n\u001b[1;32m    600\u001b[0m \u001b[38;5;124;03m    array([[ 0., -1.,  0.,  0.],\u001b[39;00m\n\u001b[1;32m    601\u001b[0m \u001b[38;5;124;03m           [ 1.,  0.,  0.,  0.],\u001b[39;00m\n\u001b[1;32m    602\u001b[0m \u001b[38;5;124;03m           [ 0.,  0.,  0.,  1.],\u001b[39;00m\n\u001b[1;32m    603\u001b[0m \u001b[38;5;124;03m           [ 0.,  0., -1.,  0.]])\u001b[39;00m\n\u001b[1;32m    604\u001b[0m \u001b[38;5;124;03m    >>> matrix_power(q, 2) # = -np.eye(4)\u001b[39;00m\n\u001b[1;32m    605\u001b[0m \u001b[38;5;124;03m    array([[-1.,  0.,  0.,  0.],\u001b[39;00m\n\u001b[1;32m    606\u001b[0m \u001b[38;5;124;03m           [ 0., -1.,  0.,  0.],\u001b[39;00m\n\u001b[1;32m    607\u001b[0m \u001b[38;5;124;03m           [ 0.,  0., -1.,  0.],\u001b[39;00m\n\u001b[1;32m    608\u001b[0m \u001b[38;5;124;03m           [ 0.,  0.,  0., -1.]])\u001b[39;00m\n\u001b[1;32m    609\u001b[0m \n\u001b[1;32m    610\u001b[0m \u001b[38;5;124;03m    \"\"\"\u001b[39;00m\n\u001b[1;32m    611\u001b[0m     a \u001b[38;5;241m=\u001b[39m asanyarray(a)\n\u001b[1;32m    612\u001b[0m     _assert_stacked_2d(a)\n",
      "File \u001b[0;32m/srv/conda/lib/python3.9/site-packages/numpy/linalg/linalg.py:112\u001b[0m, in \u001b[0;36m_raise_linalgerror_singular\u001b[0;34m(err, flag)\u001b[0m\n\u001b[1;32m    109\u001b[0m     extobj[\u001b[38;5;241m2\u001b[39m] \u001b[38;5;241m=\u001b[39m callback\n\u001b[1;32m    110\u001b[0m     \u001b[38;5;28;01mreturn\u001b[39;00m extobj\n\u001b[0;32m--> 112\u001b[0m \u001b[38;5;28;01mdef\u001b[39;00m \u001b[38;5;21m_makearray\u001b[39m(a):\n\u001b[1;32m    113\u001b[0m     new \u001b[38;5;241m=\u001b[39m asarray(a)\n\u001b[1;32m    114\u001b[0m     wrap \u001b[38;5;241m=\u001b[39m \u001b[38;5;28mgetattr\u001b[39m(a, \u001b[38;5;124m\"\u001b[39m\u001b[38;5;124m__array_prepare__\u001b[39m\u001b[38;5;124m\"\u001b[39m, new\u001b[38;5;241m.\u001b[39m__array_wrap__)\n",
      "\u001b[0;31mLinAlgError\u001b[0m: Singular matrix"
     ]
    }
   ],
   "source": [
    "aic(house_for_aic.astype(float),regression_ready['General Status'])"
   ]
  },
  {
   "cell_type": "code",
   "execution_count": null,
   "id": "fd19f7cd-8d77-43a2-a8bc-42ec0ac64001",
   "metadata": {},
   "outputs": [],
   "source": [
    "\"Education_Associate's or less\""
   ]
  },
  {
   "cell_type": "markdown",
   "id": "b1eec90b-b940-4123-bd7a-55ad33f08b77",
   "metadata": {},
   "source": [
    "## We've dropped all the columns with high VIFs, so now we have a model to start with. We use a forward selectio nmodel staqrting with the un-dropped predictor columns. The resulting summary will tell us the 95% confidence interval of the coefficient for all the coefficients of the \"best\" predictors chosen by the forward selection function. We will look at these results, particularly whether the interval contains 0 or not, to remove more features and fit the model again. "
   ]
  },
  {
   "cell_type": "code",
   "execution_count": 279,
   "id": "7521c333-4628-4c91-9f84-be0fa7469a78",
   "metadata": {
    "tags": []
   },
   "outputs": [
    {
     "ename": "NameError",
     "evalue": "name 'df' is not defined",
     "output_type": "error",
     "traceback": [
      "\u001b[0;31m---------------------------------------------------------------------------\u001b[0m",
      "\u001b[0;31mNameError\u001b[0m                                 Traceback (most recent call last)",
      "Cell \u001b[0;32mIn[279], line 1\u001b[0m\n\u001b[0;32m----> 1\u001b[0m aic(\u001b[43mdf\u001b[49m[X_lst]\u001b[38;5;241m.\u001b[39mastype(\u001b[38;5;28mfloat\u001b[39m),df[\u001b[38;5;124m'\u001b[39m\u001b[38;5;124mGeneral Status\u001b[39m\u001b[38;5;124m'\u001b[39m])\n",
      "\u001b[0;31mNameError\u001b[0m: name 'df' is not defined"
     ]
    }
   ],
   "source": [
    "aic(df[X_lst].astype(float),df['General Status'])"
   ]
  },
  {
   "cell_type": "markdown",
   "id": "97650b20-2213-4eb8-af97-adbae4574085",
   "metadata": {},
   "source": [
    "## now we can inspect these best fit columns and remove those that were insignificant. ```exclude_cols``` contains a list of all such columns"
   ]
  },
  {
   "cell_type": "code",
   "execution_count": 129,
   "id": "4a4c70fd-e7da-4a38-8f78-ceed7d1e8cd8",
   "metadata": {},
   "outputs": [],
   "source": [
    "#Precision: Measures the proportion of true positives among all predicted positives. Good for minimizing false positives.\n",
    "#Recall (Sensitivity): Measures the proportion of actual positives correctly identified. Important when missing true positives is costly."
   ]
  },
  {
   "cell_type": "code",
   "execution_count": 159,
   "id": "7fe6b0a7-e468-43a3-90f2-d43ed1247d36",
   "metadata": {},
   "outputs": [],
   "source": [
    "exclude_cols = ['Listed.military.service.','Elected Official?'\n",
    "                ,'Gun Sense Candidate?_0.0','Our Revolution Endorsed?_0.0'\n",
    "                ,'Education_No Education Information Listed','Education_Master\\'s Degree (includes MBA)']\n",
    "\n",
    "included_cols = [col for col in X_lst if col not in exclude_cols]"
   ]
  },
  {
   "cell_type": "code",
   "execution_count": 139,
   "id": "f68bd796-c5a1-4e8e-846a-974befe773de",
   "metadata": {},
   "outputs": [
    {
     "name": "stdout",
     "output_type": "stream",
     "text": [
      "Optimization terminated successfully.\n",
      "         Current function value: 0.602383\n",
      "         Iterations 5\n",
      "Optimization terminated successfully.\n",
      "         Current function value: 0.427569\n",
      "         Iterations 8\n",
      "Optimization terminated successfully.\n",
      "         Current function value: 0.397224\n",
      "         Iterations 8\n",
      "Optimization terminated successfully.\n",
      "         Current function value: 0.392317\n",
      "         Iterations 8\n",
      "Optimization terminated successfully.\n",
      "         Current function value: 0.389321\n",
      "         Iterations 8\n",
      "Optimization terminated successfully.\n",
      "         Current function value: 0.388222\n",
      "         Iterations 8\n",
      "Optimization terminated successfully.\n",
      "         Current function value: 0.373979\n",
      "         Iterations 8\n",
      "Optimization terminated successfully.\n",
      "         Current function value: 0.366293\n",
      "         Iterations 8\n",
      "Optimization terminated successfully.\n",
      "         Current function value: 0.359008\n",
      "         Iterations 8\n",
      "Optimization terminated successfully.\n",
      "         Current function value: 0.343021\n",
      "         Iterations 8\n",
      "Optimization terminated successfully.\n",
      "         Current function value: 0.336429\n",
      "         Iterations 8\n",
      "Optimization terminated successfully.\n",
      "         Current function value: 0.323460\n",
      "         Iterations 8\n",
      "Optimization terminated successfully.\n",
      "         Current function value: 0.323437\n",
      "         Iterations 8\n",
      "Optimization terminated successfully.\n",
      "         Current function value: 0.319486\n",
      "         Iterations 8\n",
      "Optimization terminated successfully.\n",
      "         Current function value: 0.319466\n",
      "         Iterations 8\n",
      "Optimization terminated successfully.\n",
      "         Current function value: 0.318764\n",
      "         Iterations 8\n",
      "Optimization terminated successfully.\n",
      "         Current function value: 0.318825\n",
      "         Iterations 8\n",
      "Optimization terminated successfully.\n",
      "         Current function value: 0.313546\n",
      "         Iterations 9\n",
      "Optimization terminated successfully.\n",
      "         Current function value: 0.313385\n",
      "         Iterations 9\n",
      "Optimization terminated successfully.\n",
      "         Current function value: 0.311825\n",
      "         Iterations 9\n",
      "Optimization terminated successfully.\n",
      "         Current function value: 0.311621\n",
      "         Iterations 9\n",
      "Optimization terminated successfully.\n",
      "         Current function value: 0.311446\n",
      "         Iterations 9\n",
      "Optimization terminated successfully.\n",
      "         Current function value: 0.309500\n",
      "         Iterations 9\n",
      "Optimization terminated successfully.\n",
      "         Current function value: 0.309500\n",
      "         Iterations 9\n",
      "['Partisan Lean', 'receipts', 'Female', 'Race', 'STEM?', 'Party Support?_0.0', 'Gun Sense Candidate?_1.0', 'Our Revolution Endorsed?_1.0', 'Justice Dems Endorsed?_0.0', 'Indivisible Endorsed?_0.0', 'VoteVets Endorsed?_0.0', 'Education_J.D.', 'Position.on.National.Debt.Deficit_Candidate calls for lowering the national debt or calls for deficit reduction', 'Position.on.Criminal.Justice.Reform_Candidate supports major criminal justice reform', 'Party.Category_Establishment Democrat']\n"
     ]
    },
    {
     "data": {
      "text/plain": [
       "(<class 'statsmodels.iolib.summary.Summary'>\n",
       " \"\"\"\n",
       "                            Logit Regression Results                           \n",
       " ==============================================================================\n",
       " Dep. Variable:         General Status   No. Observations:                  632\n",
       " Model:                          Logit   Df Residuals:                      616\n",
       " Method:                           MLE   Df Model:                           15\n",
       " Date:                Sun, 10 Dec 2023   Pseudo R-squ.:                  0.4938\n",
       " Time:                        07:37:36   Log-Likelihood:                -195.60\n",
       " converged:                       True   LL-Null:                       -386.40\n",
       " Covariance Type:            nonrobust   LLR p-value:                 5.045e-72\n",
       " ===================================================================================================================================================================================\n",
       "                                                                                                                       coef    std err          z      P>|z|      [0.025      0.975]\n",
       " -----------------------------------------------------------------------------------------------------------------------------------------------------------------------------------\n",
       " const                                                                                                              -4.0579      0.436     -9.311      0.000      -4.912      -3.204\n",
       " Partisan Lean                                                                                                      -0.0569      0.009     -6.489      0.000      -0.074      -0.040\n",
       " receipts                                                                                                         2.059e-06   2.67e-07      7.717      0.000    1.54e-06    2.58e-06\n",
       " Female                                                                                                              1.5460      0.271      5.700      0.000       1.014       2.078\n",
       " Race                                                                                                                1.1064      0.328      3.368      0.001       0.463       1.750\n",
       " STEM?                                                                                                              -0.6350      0.356     -1.784      0.074      -1.333       0.063\n",
       " Party Support?_0.0                                                                                                 -2.1174      0.655     -3.233      0.001      -3.401      -0.834\n",
       " Gun Sense Candidate?_1.0                                                                                            1.0226      0.308      3.315      0.001       0.418       1.627\n",
       " Our Revolution Endorsed?_1.0                                                                                        1.3710      0.385      3.557      0.000       0.615       2.127\n",
       " Justice Dems Endorsed?_0.0                                                                                         -1.7005      0.486     -3.496      0.000      -2.654      -0.747\n",
       " Indivisible Endorsed?_0.0                                                                                          -1.5299      0.554     -2.760      0.006      -2.616      -0.444\n",
       " VoteVets Endorsed?_0.0                                                                                             -2.6360      0.703     -3.750      0.000      -4.014      -1.258\n",
       " Education_J.D.                                                                                                      0.8922      0.342      2.608      0.009       0.222       1.563\n",
       " Position.on.National.Debt.Deficit_Candidate calls for lowering the national debt or calls for deficit reduction     1.0909      0.384      2.843      0.004       0.339       1.843\n",
       " Position.on.Criminal.Justice.Reform_Candidate supports major criminal justice reform                               -0.3300      0.284     -1.161      0.246      -0.887       0.227\n",
       " Party.Category_Establishment Democrat                                                                               0.4669      0.273      1.710      0.087      -0.068       1.002\n",
       " ===================================================================================================================================================================================\n",
       " \"\"\",\n",
       " 423.2076283897824)"
      ]
     },
     "execution_count": 139,
     "metadata": {},
     "output_type": "execute_result"
    }
   ],
   "source": [
    "#trying again this time. \n",
    "aic(df[included_cols].astype(float),df['General Status'])"
   ]
  },
  {
   "cell_type": "markdown",
   "id": "d832219b-1154-4f4b-a4a4-3f58190e1550",
   "metadata": {},
   "source": [
    "# The AIC from that model was 423.2076283897824. We will exclde insignificant columns in the interest of imrpvoing our model ."
   ]
  },
  {
   "cell_type": "code",
   "execution_count": 163,
   "id": "daad5159-4f2e-417d-826a-9d4dc74fcb56",
   "metadata": {},
   "outputs": [],
   "source": [
    "exclude_cols = ['Listed.military.service.','Elected Official?'\n",
    "                ,'Gun Sense Candidate?_0.0','Our Revolution Endorsed?_0.0'\n",
    "                ,'Education_No Education Information Listed','Education_Master\\'s Degree (includes MBA)', 'STEM?','receipts']\n",
    "\n",
    "included_cols = [col for col in X_lst if col not in exclude_cols]"
   ]
  },
  {
   "cell_type": "code",
   "execution_count": 164,
   "id": "0ee2bb24-6e75-4c41-a710-ffc7d8b3006a",
   "metadata": {},
   "outputs": [
    {
     "name": "stdout",
     "output_type": "stream",
     "text": [
      "Optimization terminated successfully.\n",
      "         Current function value: 0.602383\n",
      "         Iterations 5\n",
      "Optimization terminated successfully.\n",
      "         Current function value: 0.561420\n",
      "         Iterations 5\n",
      "Optimization terminated successfully.\n",
      "         Current function value: 0.561006\n",
      "         Iterations 5\n",
      "Optimization terminated successfully.\n",
      "         Current function value: 0.558923\n",
      "         Iterations 6\n",
      "Optimization terminated successfully.\n",
      "         Current function value: 0.536978\n",
      "         Iterations 7\n",
      "Optimization terminated successfully.\n",
      "         Current function value: 0.520457\n",
      "         Iterations 7\n",
      "Optimization terminated successfully.\n",
      "         Current function value: 0.517502\n",
      "         Iterations 7\n",
      "Optimization terminated successfully.\n",
      "         Current function value: 0.515056\n",
      "         Iterations 7\n",
      "Optimization terminated successfully.\n",
      "         Current function value: 0.506750\n",
      "         Iterations 7\n",
      "Optimization terminated successfully.\n",
      "         Current function value: 0.502910\n",
      "         Iterations 7\n",
      "Optimization terminated successfully.\n",
      "         Current function value: 0.501899\n",
      "         Iterations 7\n",
      "Optimization terminated successfully.\n",
      "         Current function value: 0.492035\n",
      "         Iterations 7\n",
      "Optimization terminated successfully.\n",
      "         Current function value: 0.490313\n",
      "         Iterations 7\n",
      "Optimization terminated successfully.\n",
      "         Current function value: 0.488508\n",
      "         Iterations 7\n",
      "Optimization terminated successfully.\n",
      "         Current function value: 0.487499\n",
      "         Iterations 7\n",
      "Optimization terminated successfully.\n",
      "         Current function value: 0.481927\n",
      "         Iterations 7\n",
      "Optimization terminated successfully.\n",
      "         Current function value: 0.481901\n",
      "         Iterations 7\n",
      "Optimization terminated successfully.\n",
      "         Current function value: 0.480972\n",
      "         Iterations 7\n",
      "Optimization terminated successfully.\n",
      "         Current function value: 0.481829\n",
      "         Iterations 7\n",
      "Optimization terminated successfully.\n",
      "         Current function value: 0.481797\n",
      "         Iterations 7\n",
      "Optimization terminated successfully.\n",
      "         Current function value: 0.474616\n",
      "         Iterations 7\n",
      "Optimization terminated successfully.\n",
      "         Current function value: 0.474616\n",
      "         Iterations 7\n",
      "['Partisan Lean', 'Female', 'Previous.Electoral.Experience', 'Party Support?_0.0', 'Gun Sense Candidate?_1.0', 'Our Revolution Endorsed?_1.0', 'Justice Dems Endorsed?_0.0', 'Indivisible Endorsed?_0.0', 'VoteVets Endorsed?_0.0', 'Education_J.D.', 'Marital.Status_No information', 'Position.on.Affordable.Care.Act..ObamaCare._Candidate provides no information', 'Position.on.National.Debt.Deficit_Candidate calls for lowering the national debt or calls for deficit reduction', 'Party.Category_Establishment Democrat']\n"
     ]
    },
    {
     "data": {
      "text/plain": [
       "(<class 'statsmodels.iolib.summary.Summary'>\n",
       " \"\"\"\n",
       "                            Logit Regression Results                           \n",
       " ==============================================================================\n",
       " Dep. Variable:         General Status   No. Observations:                  632\n",
       " Model:                          Logit   Df Residuals:                      617\n",
       " Method:                           MLE   Df Model:                           14\n",
       " Date:                Sun, 10 Dec 2023   Pseudo R-squ.:                  0.2237\n",
       " Time:                        08:06:21   Log-Likelihood:                -299.96\n",
       " converged:                       True   LL-Null:                       -386.40\n",
       " Covariance Type:            nonrobust   LLR p-value:                 1.780e-29\n",
       " ===================================================================================================================================================================================\n",
       "                                                                                                                       coef    std err          z      P>|z|      [0.025      0.975]\n",
       " -----------------------------------------------------------------------------------------------------------------------------------------------------------------------------------\n",
       " const                                                                                                              -2.3126      0.298     -7.770      0.000      -2.896      -1.729\n",
       " Partisan Lean                                                                                                      -0.0232      0.006     -3.920      0.000      -0.035      -0.012\n",
       " Female                                                                                                              1.4356      0.212      6.760      0.000       1.019       1.852\n",
       " Previous.Electoral.Experience                                                                                       0.4682      0.300      1.559      0.119      -0.120       1.057\n",
       " Party Support?_0.0                                                                                                 -1.7185      0.465     -3.699      0.000      -2.629      -0.808\n",
       " Gun Sense Candidate?_1.0                                                                                            1.0584      0.234      4.530      0.000       0.600       1.516\n",
       " Our Revolution Endorsed?_1.0                                                                                        0.7662      0.324      2.366      0.018       0.132       1.401\n",
       " Justice Dems Endorsed?_0.0                                                                                         -0.3779      0.286     -1.321      0.186      -0.938       0.183\n",
       " Indivisible Endorsed?_0.0                                                                                          -1.2153      0.411     -2.956      0.003      -2.021      -0.409\n",
       " VoteVets Endorsed?_0.0                                                                                             -1.0758      0.420     -2.563      0.010      -1.898      -0.253\n",
       " Education_J.D.                                                                                                      0.9445      0.260      3.633      0.000       0.435       1.454\n",
       " Marital.Status_No information                                                                                      -0.1898      0.215     -0.882      0.378      -0.611       0.232\n",
       " Position.on.Affordable.Care.Act..ObamaCare._Candidate provides no information                                      -0.3555      0.316     -1.124      0.261      -0.975       0.264\n",
       " Position.on.National.Debt.Deficit_Candidate calls for lowering the national debt or calls for deficit reduction     0.8298      0.289      2.871      0.004       0.263       1.396\n",
       " Party.Category_Establishment Democrat                                                                               0.6333      0.210      3.014      0.003       0.221       1.045\n",
       " ===================================================================================================================================================================================\n",
       " \"\"\",\n",
       " 629.9148427647372)"
      ]
     },
     "execution_count": 164,
     "metadata": {},
     "output_type": "execute_result"
    }
   ],
   "source": [
    "aic(df[included_cols].astype(float),df['General Status'])"
   ]
  },
  {
   "cell_type": "markdown",
   "id": "5a31c10b-7238-4c47-a257-b3e9f25e8da6",
   "metadata": {},
   "source": [
    "# Yikes, tyrns out that excluding those columns made the AIC actually worse.\n",
    "# . I'll do the same process one more time if not just for the vibes, and also to see if shit gets better"
   ]
  },
  {
   "cell_type": "code",
   "execution_count": 167,
   "id": "2c5b6687-24b5-4d7c-a9f3-cc8bbe340b50",
   "metadata": {},
   "outputs": [],
   "source": [
    "exclude_cols = ['Listed.military.service.','Elected Official?'\n",
    "                ,'Gun Sense Candidate?_0.0','Our Revolution Endorsed?_0.0'\n",
    "                ,'Education_No Education Information Listed','Education_Master\\'s Degree (includes MBA)'\n",
    "                , 'STEM?','receipts','Marital.Status_No information','Position.on.Affordable.Care.Act..ObamaCare._Candidate provides no information'\n",
    "                , 'Previous.Electoral.Experience', 'Justice Dems Endorsed?_0.0'\n",
    "               ]\n",
    "\n",
    "included_cols = [col for col in X_lst if col not in exclude_cols]"
   ]
  },
  {
   "cell_type": "code",
   "execution_count": 168,
   "id": "95de9cbd-308a-4e52-a843-0fc69e89e66b",
   "metadata": {},
   "outputs": [
    {
     "name": "stdout",
     "output_type": "stream",
     "text": [
      "Optimization terminated successfully.\n",
      "         Current function value: 0.602383\n",
      "         Iterations 5\n",
      "Optimization terminated successfully.\n",
      "         Current function value: 0.561420\n",
      "         Iterations 5\n",
      "Optimization terminated successfully.\n",
      "         Current function value: 0.561006\n",
      "         Iterations 5\n",
      "Optimization terminated successfully.\n",
      "         Current function value: 0.538614\n",
      "         Iterations 7\n",
      "Optimization terminated successfully.\n",
      "         Current function value: 0.522378\n",
      "         Iterations 7\n",
      "Optimization terminated successfully.\n",
      "         Current function value: 0.519734\n",
      "         Iterations 7\n",
      "Optimization terminated successfully.\n",
      "         Current function value: 0.509500\n",
      "         Iterations 7\n",
      "Optimization terminated successfully.\n",
      "         Current function value: 0.505738\n",
      "         Iterations 7\n",
      "Optimization terminated successfully.\n",
      "         Current function value: 0.504792\n",
      "         Iterations 7\n",
      "Optimization terminated successfully.\n",
      "         Current function value: 0.494647\n",
      "         Iterations 7\n",
      "Optimization terminated successfully.\n",
      "         Current function value: 0.493864\n",
      "         Iterations 7\n",
      "Optimization terminated successfully.\n",
      "         Current function value: 0.487535\n",
      "         Iterations 7\n",
      "Optimization terminated successfully.\n",
      "         Current function value: 0.487321\n",
      "         Iterations 7\n",
      "Optimization terminated successfully.\n",
      "         Current function value: 0.486792\n",
      "         Iterations 7\n",
      "Optimization terminated successfully.\n",
      "         Current function value: 0.487522\n",
      "         Iterations 7\n",
      "Optimization terminated successfully.\n",
      "         Current function value: 0.487493\n",
      "         Iterations 7\n",
      "Optimization terminated successfully.\n",
      "         Current function value: 0.479721\n",
      "         Iterations 7\n",
      "Optimization terminated successfully.\n",
      "         Current function value: 0.479721\n",
      "         Iterations 7\n",
      "['Partisan Lean', 'Female', 'Party Support?_0.0', 'Gun Sense Candidate?_1.0', 'Our Revolution Endorsed?_1.0', 'Indivisible Endorsed?_0.0', 'VoteVets Endorsed?_0.0', 'Education_J.D.', 'Position.on.National.Debt.Deficit_Candidate calls for lowering the national debt or calls for deficit reduction', 'Party.Category_Establishment Democrat']\n"
     ]
    },
    {
     "data": {
      "text/plain": [
       "(<class 'statsmodels.iolib.summary.Summary'>\n",
       " \"\"\"\n",
       "                            Logit Regression Results                           \n",
       " ==============================================================================\n",
       " Dep. Variable:         General Status   No. Observations:                  632\n",
       " Model:                          Logit   Df Residuals:                      621\n",
       " Method:                           MLE   Df Model:                           10\n",
       " Date:                Sun, 10 Dec 2023   Pseudo R-squ.:                  0.2154\n",
       " Time:                        08:07:46   Log-Likelihood:                -303.18\n",
       " converged:                       True   LL-Null:                       -386.40\n",
       " Covariance Type:            nonrobust   LLR p-value:                 1.512e-30\n",
       " ===================================================================================================================================================================================\n",
       "                                                                                                                       coef    std err          z      P>|z|      [0.025      0.975]\n",
       " -----------------------------------------------------------------------------------------------------------------------------------------------------------------------------------\n",
       " const                                                                                                              -2.4484      0.258     -9.472      0.000      -2.955      -1.942\n",
       " Partisan Lean                                                                                                      -0.0224      0.006     -4.050      0.000      -0.033      -0.012\n",
       " Female                                                                                                              1.4476      0.211      6.850      0.000       1.033       1.862\n",
       " Party Support?_0.0                                                                                                 -1.7648      0.463     -3.808      0.000      -2.673      -0.856\n",
       " Gun Sense Candidate?_1.0                                                                                            1.0607      0.230      4.605      0.000       0.609       1.512\n",
       " Our Revolution Endorsed?_1.0                                                                                        0.8310      0.317      2.621      0.009       0.210       1.452\n",
       " Indivisible Endorsed?_0.0                                                                                          -1.3328      0.402     -3.312      0.001      -2.122      -0.544\n",
       " VoteVets Endorsed?_0.0                                                                                             -1.0684      0.410     -2.605      0.009      -1.872      -0.264\n",
       " Education_J.D.                                                                                                      1.0175      0.253      4.029      0.000       0.522       1.512\n",
       " Position.on.National.Debt.Deficit_Candidate calls for lowering the national debt or calls for deficit reduction     0.8483      0.286      2.965      0.003       0.288       1.409\n",
       " Party.Category_Establishment Democrat                                                                               0.6473      0.208      3.114      0.002       0.240       1.055\n",
       " ===================================================================================================================================================================================\n",
       " \"\"\",\n",
       " 628.3672382075056)"
      ]
     },
     "execution_count": 168,
     "metadata": {},
     "output_type": "execute_result"
    }
   ],
   "source": [
    "aic(df[included_cols].astype(float),df['General Status'])"
   ]
  },
  {
   "cell_type": "markdown",
   "id": "f3f58c79-558a-4809-b24e-197ba981d1a6",
   "metadata": {},
   "source": [
    "## Damn that's crazy it wen tdown like by 1. So we will use the first model becaues that. had thelowest AIC. "
   ]
  },
  {
   "cell_type": "code",
   "execution_count": 176,
   "id": "554463a9-1623-4724-881b-4e6fbadb061e",
   "metadata": {},
   "outputs": [],
   "source": [
    "from sklearn.model_selection import train_test_split\n",
    "from sklearn.linear_model import LogisticRegression\n",
    "from sklearn.metrics import precision_score, recall_score, f1_score, roc_auc_score, average_precision_score, balanced_accuracy_score, matthews_corrcoef\n",
    "\n",
    "def do_regression(df, y_col, predictor_list): \n",
    "    \n",
    "    train, test = train_test_split(df, test_size = .30, random_state = 101)\n",
    "    X_train = train[predictor_list]\n",
    "    y_train = train[y_col]\n",
    "    X_test = test[predictor_list]\n",
    "    y_test = test[y_col]\n",
    "    logisticmodel = LogisticRegression(penalty='none', solver='lbfgs')\n",
    "    logisticmodel.fit(X_test, y_test)\n",
    "    probs = logisticmodel.predict_proba(X_test)[:, 1]\n",
    "    y_hat = (probs > 0.5).astype(np.int64)\n",
    "    accuracy = np.mean(y_test == y_hat)\n",
    "    \n",
    "    precision = precision_score(y_test, y_hat)\n",
    "    recall = recall_score(y_test, y_hat)\n",
    "    # Display the results\n",
    "    print(f'Precision: {precision}')\n",
    "    prevalence = np.mean(df[y_col] == 1)\n",
    "    print(f\"Prevalence: {prevalence}\")\n",
    "    print(f'Recall: {recall:.4f}')\n",
    "    f1 = f1_score(y_test, y_hat)\n",
    "    roc_auc = roc_auc_score(y_test, y_hat)\n",
    "    average_precision = average_precision_score(y_test, y_hat)\n",
    "    balanced_accuracy = balanced_accuracy_score(y_test, y_hat)\n",
    "    print(f\"Accuracy on test set: {accuracy}\")"
   ]
  },
  {
   "cell_type": "code",
   "execution_count": 177,
   "id": "a56072af-81e6-46b0-b54a-e0609fe370c1",
   "metadata": {},
   "outputs": [
    {
     "name": "stdout",
     "output_type": "stream",
     "text": [
      "Precision: 0.27976190476190477\n",
      "Prevalence: 0.30063291139240506\n",
      "Recall: 0.9592\n",
      "Accuracy on test set: 0.3526315789473684\n"
     ]
    }
   ],
   "source": [
    "best_model_cols = ['Partisan Lean', 'receipts', 'Female', 'Race', 'STEM?', 'Party Support?_0.0', 'Gun Sense Candidate?_1.0', 'Our Revolution Endorsed?_1.0'\n",
    "                   , 'Justice Dems Endorsed?_0.0', 'Indivisible Endorsed?_0.0'\n",
    "                   , 'VoteVets Endorsed?_0.0', 'Education_J.D.', 'Position.on.National.Debt.Deficit_Candidate calls for lowering the national debt or calls for deficit reduction'\n",
    "                   , 'Position.on.Criminal.Justice.Reform_Candidate supports major criminal justice reform', 'Party.Category_Establishment Democrat']\n",
    "\n",
    "\n",
    "#include_cols_regresion = ['receipts', 'Female', 'STEM?', 'Party Support?_0.0', 'Emily Endorsed?_0.0', 'Gun Sense Candidate?_1.0', 'Our Revolution Endorsed?_1.0', 'Justice Dems Endorsed?_0.0', 'Indivisible Endorsed?_0.0', 'VoteVets Endorsed?_0.0', 'Position.on.Business.Regulations_Candidate supports placing smart regulations on business', 'Position.on.National.Debt.Deficit_Candidate calls for lowering the national debt or calls for deficit reduction', 'Party.Category_Establishment Democrat']\n",
    "do_regression(df, 'General Status', best_model_cols)"
   ]
  },
  {
   "cell_type": "code",
   "execution_count": null,
   "id": "91f7eff2-036f-45fe-bae3-5aedc83acd9e",
   "metadata": {},
   "outputs": [],
   "source": []
  },
  {
   "cell_type": "code",
   "execution_count": 178,
   "id": "fc0ae02a-64b7-4fef-893b-82071d600cd0",
   "metadata": {},
   "outputs": [],
   "source": [
    "def do_regression_cv(df, y_col, predictor_list):\n",
    "    X = df[predictor_list]\n",
    "    y = df[y_col]\n",
    "\n",
    "    logisticmodel = LogisticRegression(penalty='none', solver='lbfgs')\n",
    "\n",
    "    # Using cross-validation\n",
    "    scoring = ['precision', 'recall', 'f1', 'roc_auc', 'average_precision', 'balanced_accuracy']\n",
    "    cv_results = cross_validate(logisticmodel, X, y, cv=5, scoring=scoring)\n",
    "\n",
    "    # Display the results\n",
    "    for score in scoring:\n",
    "        print(f\"{score.capitalize()}: {np.mean(cv_results['test_' + score]):.4f}\")\n",
    "\n",
    "    prevalence = np.mean(y == 1)\n",
    "    print(f\"Prevalence: {prevalence}\")\n"
   ]
  },
  {
   "cell_type": "code",
   "execution_count": null,
   "id": "d8993664-6c87-4de5-82e0-9a287f76ca8e",
   "metadata": {},
   "outputs": [],
   "source": []
  },
  {
   "cell_type": "markdown",
   "id": "5a701a46-9a3f-4815-b2b8-6afbf99f1789",
   "metadata": {
    "tags": []
   },
   "source": [
    "## Deprecated"
   ]
  },
  {
   "cell_type": "code",
   "execution_count": null,
   "id": "1c9c7f7d-3d11-4f17-97df-06461cfcbb88",
   "metadata": {},
   "outputs": [],
   "source": [
    "\n",
    "\n",
    "\n",
    "\n",
    "# ohe_result = pd.get_dummies(ohe_this, columns=ohe_cols)\n",
    "\n",
    "# ohe_result = drop_columns(ohe_result, ohe_cols)\n",
    "# #ohe_result\n",
    "\n",
    "ohe_result.columns\n",
    "\n",
    "to_binarize = ohe_result.copy()\n",
    "binarized = binarize_cols(to_binarize)\n",
    "#binarized\n",
    "\n",
    "binarized\n",
    "to_resample = binarized.copy()\n",
    "to_resample.columns\n",
    "\n",
    "to_resample['No Labels Support?_No'].sum()\n",
    "\n",
    "to_resample['No Labels Support?_Yes'].sum()\n",
    "\n",
    "X_to_oversample = to_resample.drop(['General Status'],axis=1)\n",
    "y_to_oversample = to_resample['General Status']\n",
    "\n",
    "from imblearn.over_sampling import RandomOverSampler\n",
    "ros = RandomOverSampler(sampling_strategy=0.4,random_state=101)\n",
    "\n",
    "ros.fit(X_to_oversample, y_to_oversample)\n",
    "\n",
    "X_resampled, y_resampled = ros.fit_resample(X_to_oversample, y_to_oversample)\n"
   ]
  },
  {
   "cell_type": "code",
   "execution_count": null,
   "id": "8b03ccf8-036d-422c-9420-525ae0fde1ab",
   "metadata": {},
   "outputs": [],
   "source": [
    "combined_df = pd.concat([X_resampled, y_resampled.reset_index(drop=True)], axis=1)\n",
    "# Shuffle the combined DataFrame\n",
    "shuffled_df = combined_df.sample(frac=1, random_state=101).reset_index(drop=True)\n",
    "\n",
    "# Split the DataFrame back into X and y\n",
    "X_resampled_shuffled = shuffled_df.iloc[:, :-1]\n",
    "y_resampled_shuffled = shuffled_df.iloc[:, -1]\n"
   ]
  },
  {
   "cell_type": "code",
   "execution_count": null,
   "id": "ced2c484-eea7-4347-bf45-12bec5620321",
   "metadata": {
    "jupyter": {
     "source_hidden": true
    },
    "tags": []
   },
   "outputs": [],
   "source": [
    "shuffled_df.columns\n",
    "shuffled_df = move_column_to_front(shuffled_df,['General Status'])\n",
    "\n",
    "shuffled_df.columns\n",
    "shuffled_df = drop_columns(shuffled_df, ['total_runners_brookings_2', 'Race_Nonwhite', 'Guns Sense Candidate?_No', 'Position.on.Legalization.Decriminalization.of.Marijuana.Policy_Candidate provides no information' ])\n",
    "shuffled_df.shape\n",
    "\n",
    "\n",
    "\n",
    "\n",
    "\n",
    "to_drop_sparse = shuffled_df.copy()\n",
    "dropped_sparse = zero_dropper(to_drop_sparse)\n",
    "dropped_sparse.columns\n",
    "\n",
    "\n",
    "\n",
    "\n",
    "\n",
    "X = dropped_sparse.drop('General Status', axis=1)\n",
    "best_X = drop_VIF_col(X)\n",
    "best_X_lst = list(best_X.columns)\n",
    "\n",
    "best_X_lst\n",
    "\n",
    "y_best_X_lst = best_X_lst + ['General Status']\n",
    "\n",
    "X = best_X.copy()\n",
    "vif_info = pd.DataFrame()\n",
    "vif_info['VIF'] = [variance_inflation_factor(X.values, i) for i in range(X.shape[1])]\n",
    "vif_info['Column'] = X.columns\n",
    "vif_info = vif_info.sort_values('VIF', ascending=False)\n",
    "\n",
    "def aic(X, y):\n",
    "    best_features = []\n",
    "    best_aic = float('inf')\n",
    "\n",
    "    for feature in X.columns:\n",
    "        # Create a temporary DataFrame with the current set of best features plus the new feature\n",
    "        X_temp = sm.add_constant(X[best_features + [feature]])\n",
    "\n",
    "       \n",
    "        model = sm.Logit(y, X_temp)  # Fit the logistic regression model\n",
    "        result = model.fit()  # disp=0 suppresses the fit output\n",
    "\n",
    "        # Check AIC and update if it is lower\n",
    "        if result.aic < best_aic:\n",
    "            best_aic = result.aic\n",
    "            best_features.append(feature)\n",
    "\n",
    "    # Fit the final model with the best features\n",
    "    X_final = sm.add_constant(X[best_features])\n",
    "    final_model = sm.Logit(y, X_final)\n",
    "    final_result = final_model.fit(disp=0)\n",
    "\n",
    "    # You might want to return the final model, its summary, or AIC\n",
    "    print(f\"{best_features}\")\n",
    "    return final_result.summary(), final_result.aic\n",
    "\n",
    "\n",
    "shuffled_df = shuffled_df.sample(frac=1).reset_index(drop=True)\n",
    "fwd_selection_X = shuffled_df.drop('General Status',axis=1).dropna()\n",
    "fwd_selection_X = fwd_selection_X.astype(float)\n",
    "fwd_selection_y = shuffled_df['General Status']\n",
    "\n",
    "aic(fwd_selection_X, fwd_selection_y)\n",
    "\n",
    "X = output.drop('General Status',axis=1).dropna()\n",
    "X = X.astype(float)\n",
    "y = output['General Status']\n",
    "\n",
    "#aic(X, y)\n",
    "output\n",
    "\n",
    "from sklearn.model_selection import train_test_split\n",
    "from sklearn.linear_model import LogisticRegression\n",
    "from sklearn.metrics import precision_score, recall_score, f1_score, roc_auc_score, average_precision_score, balanced_accuracy_score, matthews_corrcoef\n",
    "\n",
    "def do_regression(df, y_col, predictor_list): \n",
    "    train, test = train_test_split(df, test_size = .30, random_state = 101)\n",
    "    X_train = train[predictor_list]\n",
    "    y_train = train[y_col]\n",
    "    X_test = test[predictor_list]\n",
    "    y_test = test[y_col]\n",
    "    logisticmodel = LogisticRegression(penalty='none', solver='lbfgs')\n",
    "    logisticmodel.fit(X_test, y_test)\n",
    "    probs = logisticmodel.predict_proba(X_test)[:, 1]\n",
    "    y_hat = (probs > 0.5).astype(np.int64)\n",
    "    accuracy = np.mean(y_test == y_hat)\n",
    "    \n",
    "    precision = precision_score(y_test, y_hat)\n",
    "    recall = recall_score(y_test, y_hat)\n",
    "    # Display the results\n",
    "    print(f'Precision: {precision:.4f}')\n",
    "    prevalence = np.mean(df[y_col] == 1)\n",
    "    print(f\"Prevalence: {prevalence}\")\n",
    "    print(f'Recall: {recall:.4f}')\n",
    "    f1 = f1_score(y_test, y_hat)\n",
    "    roc_auc = roc_auc_score(y_test, y_hat)\n",
    "    average_precision = average_precision_score(y_test, y_hat)\n",
    "    balanced_accuracy = balanced_accuracy_score(y_test, y_hat)\n",
    "    print(f\"Accuracy on test set: {accuracy}\")\n",
    "\n",
    "\n",
    "do_regression(output,'General Status',new_predictors)\n",
    "\n",
    "from sklearn.model_selection import cross_validate\n",
    "from sklearn.linear_model import LogisticRegression\n",
    "import numpy as np\n",
    "from sklearn.model_selection import train_test_split\n",
    "from sklearn.linear_model import LogisticRegression\n",
    "from sklearn.metrics import precision_score, recall_score, f1_score, roc_auc_score, average_precision_score, balanced_accuracy_score, matthews_corrcoef\n",
    "\n",
    "\n",
    "def do_regression_cv(df, y_col, predictor_list):\n",
    "    X = df[predictor_list]\n",
    "    y = df[y_col]\n",
    "\n",
    "    logisticmodel = LogisticRegression(penalty='none', solver='lbfgs')\n",
    "\n",
    "    # Using cross-validation\n",
    "    scoring = ['precision', 'recall', 'f1', 'roc_auc', 'average_precision', 'balanced_accuracy']\n",
    "    cv_results = cross_validate(logisticmodel, X, y, cv=5, scoring=scoring)\n",
    "\n",
    "    # Display the results\n",
    "    for score in scoring:\n",
    "        print(f\"{score.capitalize()}: {np.mean(cv_results['test_' + score]):.4f}\")\n",
    "\n",
    "    prevalence = np.mean(y == 1)\n",
    "    print(f\"Prevalence: {prevalence}\")\n",
    "\n",
    "# Example usage\n",
    "# do_regression(df, 'your_target_column', ['list', 'of', 'predictor', 'columns'])\n",
    "\n",
    "\n",
    "do_regression_cv(output,'General Status',new_predictors)\n",
    "\n",
    "from sklearn.metrics import confusion_matrix\n",
    "\n",
    "# from sklearn.feature_selection import SequentialFeatureSelector\n",
    "# feature_selector = SequentialFeatureSelector(\n",
    "#         LogisticRegression(),\n",
    "#         n_features_to_select=\"auto\",\n",
    "#         direction=\"forward\"\n",
    "#     )\n",
    "\n",
    "\n",
    "# from sklearn.feature_selection import SequentialFeatureSelector\n",
    "# from sklearn.neighbors import KNeighborsClassifier\n",
    "# from sklearn.datasets import load_iris\n",
    "# X, y = load_iris(return_X_y=True)\n",
    "# knn = KNeighborsClassifier(n_neighbors=3)\n",
    "# sfs = SequentialFeatureSelector(knn, n_features_to_select=3)\n",
    "# sfs.fit(X, y)\n",
    "# sfs.get_support()\n",
    "# sfs.transform(X).shape\n",
    "\n",
    "# def ohe_and_avoid_multicollinearity(df, columns_to_ohe):\n",
    "#     # nan_columns_dropped = []\n",
    "#     # first_cols_dropped = []\n",
    "#     my_last_fucking_straw = []\n",
    "#     res = df.copy()\n",
    "#     for col in columns_to_ohe:\n",
    "#         ohe_df = pd.get_dummies(res[col], prefix=col,dummy_na=True)\n",
    "#         res = res.drop(col, axis=1)\n",
    "#         res = pd.concat([res, ohe_df], axis=1)\n",
    "#         my_last_fucking_straw.append(col)\n",
    "#             # nan_col = col + '_nan'\n",
    "#             # if (nan_col in ohe_df.columns):\n",
    "#             #     valid = (ohe_df[nan_col]==1).sum()>50\n",
    "#             #     if valid:\n",
    "#             #         ohe_df = ohe_df.drop(nan_col, axis=1)\n",
    "#             #         nan_columns_dropped.append([col, nan_col])\n",
    "#             # else:\n",
    "#             #     first_cols_dropped.append([col, ohe_df.iloc[:, 0]])\n",
    "#             #     ohe_df = ohe_df.iloc[:, 1:]\n",
    "#             # # Merge the OHE columns back into the original dataframe\n",
    "\n",
    "#             #print(\"\\n\".join(my_list))\n",
    "#     # for i in nan_columns_dropped:\n",
    "#     #     print(f\"col:  {i[0]}\\ndrop: {i[1]}\\n\")\n",
    "#     # for i in first_cols_dropped:\n",
    "#     #     print(f\"col:  {i[0]}\\ndrop: {i[1].name}\\n\")\n",
    "#     # print(f\"number of cols expected to OHE: {len(columns_to_ohe)}\\nnumber of cols dropped: {len(nan_columns_dropped) + len(first_cols_dropped)}\")    \n",
    "#     print(f\"{my_last_fucking_straw}\")\n",
    "#     return res\n",
    "\n",
    "#new_df = ohe_and_avoid_multicollinearity(new_df, ohe_cols)\n",
    "\n",
    "# def drop_columns(df, col_lst):\n",
    "#     for i in col_lst:\n",
    "#         if i in df.columns:\n",
    "#             df.drop(i, axis=1)\n",
    "#     return df\n",
    "\n",
    "# new_df = drop_columns(new_df.copy(),['Primary.Outcome', 'District Abbrev','House Candidate','Brookings Candidate','total_runners_house','District','Previous.Electoral.Experience','SinglePayer'])\n",
    "# new_df = move_column_to_front(new_df, ['General Status'])\n",
    "\n",
    "\n",
    "new_df.to_csv(Path('ready_for_modelling.csv'))\n",
    "\n",
    "# correlation_matrix = new_df.corr()\n",
    "# cols = correlation_matrix.columns\n",
    "# #correlation_matrix\n",
    "# new_df = drop_columns(new_df,['Primary.Outcome', 'District Abbrev','House Candidate','Brookings Candidate','total_runners_house','District','Previous.Electoral.Experience','SinglePayer'])\n",
    "\n",
    "# new_df\n",
    "\n",
    "# y = new_df['General Status']# a series\n",
    "# y\n",
    "\n",
    "# X = drop_columns(new_df, ['General Status']) # a df\n",
    "# #X = X.drop(['General Status'],axis=1)\n",
    "# #drop_columns\n",
    "# X.copy()\n",
    "\n",
    "X.columns\n",
    "\n",
    "# import statsmodels.api as sm\n",
    "\n",
    "# def aic(X, y):\n",
    "#     best_features = []\n",
    "#     best_aic = float('inf')\n",
    "\n",
    "#     for feature in X.columns:\n",
    "#         # Create a temporary DataFrame with the current set of best features plus the new feature\n",
    "#         X_temp = sm.add_constant(X[best_features + [feature]])\n",
    "\n",
    "       \n",
    "#         model = sm.Logit(y, X_temp)  # Fit the logistic regression model\n",
    "#         result = model.fit()  # disp=0 suppresses the fit output\n",
    "\n",
    "#         # Check AIC and update if it is lower\n",
    "#         if result.aic < best_aic:\n",
    "#             best_aic = result.aic\n",
    "#             best_features.append(feature)\n",
    "\n",
    "#     # Fit the final model with the best features\n",
    "#     X_final = sm.add_constant(X[best_features])\n",
    "#     final_model = sm.Logit(y, X_final)\n",
    "#     final_result = final_model.fit(disp=0)\n",
    "\n",
    "#     # You might want to return the final model, its summary, or AIC\n",
    "#     return final_result.summary(), final_result.aic\n",
    "\n",
    "\n",
    "# aic(X.copy(),y.copy())\n",
    "\n",
    "The smallest possible value for VIF is 1, which indicates the complete absence of collinearity. Typically in practice there is a small amount of collinearity among the predictors. As a rule of thumb, a VIF value that exceeds 5 or 10 indicates a problematic amount of collinearity.In the Credit data, a regression of balance on age, rating, and limit indicates that the predictors have VIF values of 1.01, 160.67, and 160.59. As we suspected, there is considerable collinearity in the data!When faced with the problem of collinearity, there are two simple solu- tions. The first is to drop one of the problematic variables from the regres- sion. This can usually be done without much compromise to the regression fit, since the presence of collinearity implies that the information that this variable provides about the response is redundant in the presence of the other variables. For instance, if we regress balance onto age and limit, without the rating predictor, then the resulting VIF values are close to the minimum possible value of 1, and the R2 drops from 0.754 to 0.75. So dropping rating from the set of predictors has effectively solved the collinearity problem without compromising the fit."
   ]
  },
  {
   "cell_type": "code",
   "execution_count": null,
   "id": "9475e0cc-87e8-48c1-aa87-79d93097cfe3",
   "metadata": {},
   "outputs": [],
   "source": [
    "# correlation_df = pd.DataFrame(correlation_matrix.iloc[0]).abs().sort_values(\"General Status\",ascending=False)\n",
    "# correlation_df.head(3)"
   ]
  },
  {
   "cell_type": "code",
   "execution_count": 549,
   "id": "1d4ff34d-e0d2-4073-bd6d-ae7ba27066c5",
   "metadata": {},
   "outputs": [],
   "source": [
    "# from statsmodels.stats.outliers_influence import variance_inflation_factor "
   ]
  },
  {
   "cell_type": "code",
   "execution_count": 548,
   "id": "2f1d10dc-c0f0-446a-a40e-b9c4cc8169fd",
   "metadata": {},
   "outputs": [],
   "source": [
    "#get_X_df(new_df, 'General Status').columns"
   ]
  },
  {
   "cell_type": "code",
   "execution_count": null,
   "id": "2414980e-0336-4959-b04c-3953d3e785c4",
   "metadata": {},
   "outputs": [],
   "source": [
    "# def aic(X, y):\n",
    "#     best_features = []\n",
    "#     best_aic = float('inf') \n",
    "\n",
    "#     for feature in X.columns:\n",
    "#         # Add a constant term and the current feature\n",
    "#         X = sm.add_constant(X[best_features + [feature]])\n",
    "\n",
    "#         # Fit the logistic regression model\n",
    "#         model = sm.Logit(y, X)\n",
    "#         result = model.fit()\n",
    "\n",
    "#         # Check AIC and update if it is lower\n",
    "#         if result.aic < best_aic:\n",
    "#             best_aic = result.aic\n",
    "#             best_features.append(feature)\n",
    "\n",
    "#     # Fit the final model with the best features\n",
    "#     X_final = sm.add_constant(X[best_features])\n",
    "#     final_model = sm.Logit(y, X_final)\n",
    "#     final_result = final_model.fit()\n",
    "\n",
    "#     print(final_result.summary(), final_result.aic)"
   ]
  },
  {
   "cell_type": "code",
   "execution_count": 353,
   "id": "7379d0dd-d66b-4097-a452-e5c753de6b2b",
   "metadata": {},
   "outputs": [],
   "source": [
    "# from sklearn.preprocessing import OneHotEncoder\n",
    "# encoder = OneHotEncoder(drop='first')\n",
    "# encoder.fit(new_df[to_ohe])\n",
    "# encoded_data = encoder.transform(new_df[to_ohe]).toarray()\n",
    "# encoded_df = pd.DataFrame(encoded_data, columns=encoder.get_feature_names_out())\n",
    "# final_df = pd.concat([new_df, encoded_df], axis=1)\n",
    "# final_df.drop(to_ohe, axis=1, inplace=True)"
   ]
  },
  {
   "cell_type": "code",
   "execution_count": 264,
   "id": "3c6c6c9f-e6e3-4b68-a720-8ee66c6c6f0e",
   "metadata": {
    "tags": []
   },
   "outputs": [],
   "source": [
    "# #new_df.columns\n",
    "\n",
    "# new_df[['General Status', 'Partisan Lean','Candidate.Gender',\n",
    "#        'Listed.military.service.', 'Education', 'Marital.Status',\n",
    "#        'Previous.Electoral.Experience',\n",
    "#        'Position.on.Affordable.Care.Act..ObamaCare.',\n",
    "#        'Position.on.Minimum.Wage', 'Position.on.Federal.Taxes',\n",
    "#        'Position.on.Business.Regulations', 'Position.on.National.Debt.Deficit',\n",
    "#        'Position.on.Social.Security', 'Position.on.Gun.Control',\n",
    "#        'Position.on.Immigration', 'Position.on.Abortion',\n",
    "#        'Position.on.Same.Sex.Marriage', 'Position.on.Criminal.Justice.Reform',\n",
    "#        'Position.on.Federal.K.12.Education.Policy',\n",
    "#        'Position.on.Climate.Change', 'Position.on.Campaign.Finance.Reform',\n",
    "#        'Position.on.Legalization.Decriminalization.of.Marijuana.Policy',\n",
    "#        'Position.on.Defense.Spending', 'Position.on.Handling.Terrorism.Abroad',\n",
    "#        'Position.on.Russia', 'Party.Category', 'Trump.Mention',\n",
    "#        'Obama.Mention', 'Sanders.Mention', 'Clinton.Mention',\n",
    "#        'Special.Counsel.Mention', 'Travel.Ban.Mention', 'SinglePayer',\n",
    "#         'Race', 'Veteran?', 'LGBTQ?', 'Elected Official?', 'Self-Funder?', 'STEM?', 'Obama Alum?',\n",
    "#        'Party Support?', 'Emily Endorsed?', 'Guns Sense Candidate?',\n",
    "#        'Biden Endorsed?', 'Warren Endorsed? ', 'Sanders Endorsed?',\n",
    "#        'Our Revolution Endorsed?', 'Justice Dems Endorsed?', 'PCCC Endorsed?',\n",
    "#        'Indivisible Endorsed?', 'WFP Endorsed?', 'VoteVets Endorsed?',\n",
    "#        'No Labels Support?']]"
   ]
  },
  {
   "cell_type": "code",
   "execution_count": 137,
   "id": "8ff80ff4-c5a9-48af-b9be-04f77236b120",
   "metadata": {},
   "outputs": [
    {
     "data": {
      "text/plain": [
       "'total_runners'"
      ]
     },
     "execution_count": 137,
     "metadata": {},
     "output_type": "execute_result"
    }
   ],
   "source": []
  },
  {
   "cell_type": "code",
   "execution_count": 145,
   "id": "763a7a65-ce75-44ef-a453-b64d991db124",
   "metadata": {},
   "outputs": [],
   "source": []
  },
  {
   "cell_type": "code",
   "execution_count": 146,
   "id": "bba4febe-dd34-44e0-84c7-85ec4491448a",
   "metadata": {},
   "outputs": [],
   "source": [
    "# encoder = OneHotEncoder(drop='first')\n",
    "# encoder.fit(new_df[to_ohe])\n",
    "# encoded_data = encoder.transform(new_df[to_ohe]).toarray()\n",
    "# encoded_df = pd.DataFrame(encoded_data, columns=encoder.get_feature_names_out())\n",
    "\n",
    "\n",
    "# final_df = pd.concat([new_df, encoded_df], axis=1)\n",
    "# final_df.drop(to_ohe, axis=1, inplace=True)"
   ]
  },
  {
   "cell_type": "code",
   "execution_count": 147,
   "id": "fb7c91f7-f84a-4e48-9431-2c32641708b4",
   "metadata": {
    "tags": []
   },
   "outputs": [
    {
     "data": {
      "text/plain": [
       "Index(['General Status_1.0', 'Partisan Lean_-62.060001',\n",
       "       'Partisan Lean_-61.459999', 'Partisan Lean_-60.810001',\n",
       "       'Partisan Lean_-55.029999', 'Partisan Lean_-54.009998',\n",
       "       'Partisan Lean_-49.509998', 'Partisan Lean_-49.110001',\n",
       "       'Partisan Lean_-49.009998', 'Partisan Lean_-48.73',\n",
       "       ...\n",
       "       'PCCC Endorsed?_Yes', 'PCCC Endorsed?_nan', 'Indivisible Endorsed?_Yes',\n",
       "       'Indivisible Endorsed?_nan', 'WFP Endorsed?_Yes', 'WFP Endorsed?_nan',\n",
       "       'VoteVets Endorsed?_Yes', 'VoteVets Endorsed?_nan',\n",
       "       'No Labels Support?_Yes', 'No Labels Support?_nan'],\n",
       "      dtype='object', length=315)"
      ]
     },
     "execution_count": 147,
     "metadata": {},
     "output_type": "execute_result"
    }
   ],
   "source": []
  },
  {
   "cell_type": "code",
   "execution_count": 265,
   "id": "a8d75296-0fe0-47e4-9b9a-6e7cbb3eaac6",
   "metadata": {},
   "outputs": [],
   "source": [
    "#correlation_df = pd.DataFrame(correlation_matrix.iloc[0]).abs().sort_values(\"General Status\",ascending=False)\n",
    "#correlation_df.head(30)/\n"
   ]
  },
  {
   "cell_type": "markdown",
   "id": "bcd6542c-2568-4342-bdb3-44ae4950d38e",
   "metadata": {
    "tags": []
   },
   "source": [
    "## Step 2: Drop one column from each OHE variable"
   ]
  },
  {
   "cell_type": "markdown",
   "id": "4b6d7387-57b2-4f72-87ea-7d4fbe480f56",
   "metadata": {
    "tags": []
   },
   "source": [
    "## Step 3: Use forward selection to model select"
   ]
  },
  {
   "cell_type": "code",
   "execution_count": null,
   "id": "c05e3438-70ed-46ec-81b8-0c14bd051826",
   "metadata": {},
   "outputs": [],
   "source": []
  }
 ],
 "metadata": {
  "kernelspec": {
   "display_name": "Python 3 (ipykernel)",
   "language": "python",
   "name": "python3"
  },
  "language_info": {
   "codemirror_mode": {
    "name": "ipython",
    "version": 3
   },
   "file_extension": ".py",
   "mimetype": "text/x-python",
   "name": "python",
   "nbconvert_exporter": "python",
   "pygments_lexer": "ipython3",
   "version": "3.9.15"
  }
 },
 "nbformat": 4,
 "nbformat_minor": 5
}
