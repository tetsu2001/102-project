{
 "cells": [
  {
   "cell_type": "markdown",
   "id": "765ef18e-7c30-4927-84c4-f4e0e309c6e0",
   "metadata": {},
   "source": [
    "## joining the datasets house_cleaned.csv and brookings_to_join.csv\n",
    "pip install fuzzywuzzy python-Levenshtein"
   ]
  },
  {
   "cell_type": "code",
   "execution_count": null,
   "id": "5e2de35f-11ad-4d66-9437-a61f58bd6b5e",
   "metadata": {},
   "outputs": [],
   "source": [
    "import numpy as np\n",
    "import pandas as pd\n",
    "%matplotlib inline\n",
    "import statsmodels.api as sm\n",
    "import matplotlib.pyplot as plt\n",
    "import seaborn as sns\n",
    "import plotly.express as px\n",
    "import warnings\n",
    "warnings.filterwarnings('ignore')\n",
    "from pathlib import Path  \n",
    "import numpy as np\n",
    "import pandas as pd\n",
    "import matplotlib.pyplot as plt\n",
    "import statsmodels.api as sm\n",
    "from fuzzywuzzy import fuzz"
   ]
  },
  {
   "cell_type": "code",
   "execution_count": 6,
   "id": "fa67fe08-46a1-4c51-8a61-79fef97b1453",
   "metadata": {},
   "outputs": [],
   "source": [
    "brookings = pd.read_csv('brookings_to_join.csv')\n",
    "house = pd.read_csv('house_cleaned.csv')\n"
   ]
  },
  {
   "cell_type": "code",
   "execution_count": 10,
   "id": "94b9d948-f5ec-4fba-a9a4-d5fd8c1f06aa",
   "metadata": {},
   "outputs": [],
   "source": [
    "def lowercase_column(df, column_name):\n",
    "    \"\"\"\n",
    "    Converts all values in the specified column to lowercase.\n",
    "\n",
    "    Parameters:\n",
    "    df (pandas.DataFrame): The DataFrame containing the column.\n",
    "    column_name (str): The name of the column to be converted to lowercase.\n",
    "\n",
    "    Returns:\n",
    "    pandas.DataFrame: DataFrame with the specified column in lowercase.\n",
    "    \"\"\"\n",
    "    if column_name in df.columns:\n",
    "        df[column_name] = df[column_name].astype(str).str.lower()\n",
    "    else:\n",
    "        print(f\"Column '{column_name}' not found in DataFrame.\")\n",
    "    return df\n"
   ]
  },
  {
   "cell_type": "code",
   "execution_count": 15,
   "id": "8ba01e7e-b0a9-40f5-9f3f-9e24b276ab5b",
   "metadata": {},
   "outputs": [],
   "source": [
    "brookings = lowercase_column(brookings, 'Candidate')\n",
    "house = lowercase_column(house, 'Candidate')"
   ]
  },
  {
   "cell_type": "code",
   "execution_count": 18,
   "id": "e45ca2be-517a-452f-9ff6-58ec8b1058a9",
   "metadata": {},
   "outputs": [],
   "source": [
    "# Assuming brookings and house are pandas DataFrames\n",
    "matched_rows = []\n",
    "for _, row in brookings.iterrows():\n",
    "    for _, h_row in house.iterrows():\n",
    "        if fuzz.ratio(row['Candidate'], h_row['Candidate']) > 50 and row['District'] == h_row['District Abbrev']:\n",
    "            matched_rows.append({**row, **h_row})\n",
    "\n",
    "matched_df = pd.DataFrame(matched_rows)\n"
   ]
  },
  {
   "cell_type": "code",
   "execution_count": 22,
   "id": "acfd05d1-4e7d-4313-b9e4-0b3680d8f576",
   "metadata": {},
   "outputs": [
    {
     "data": {
      "text/plain": [
       "Index(['Unnamed: 0', 'Candidate.First.Name', 'Candidate.Last.Name',\n",
       "       'Candidate.State', 'Candidate.District', 'Candidate.Party', 'Incumbent',\n",
       "       'Freshman.Member', 'Candidate.Website.URL', 'Candidate.Gender',\n",
       "       'Listed.military.service.', 'Education', 'Marital.Status',\n",
       "       'Previous.Electoral.Experience',\n",
       "       'Position.on.Affordable.Care.Act..ObamaCare.',\n",
       "       'Position.on.Minimum.Wage', 'Position.on.Federal.Taxes',\n",
       "       'Position.on.Business.Regulations', 'Position.on.National.Debt.Deficit',\n",
       "       'Position.on.Social.Security', 'Position.on.Gun.Control',\n",
       "       'Position.on.Immigration', 'Position.on.Abortion',\n",
       "       'Position.on.Same.Sex.Marriage', 'Position.on.Criminal.Justice.Reform',\n",
       "       'Position.on.Federal.K.12.Education.Policy',\n",
       "       'Position.on.Climate.Change', 'Position.on.Campaign.Finance.Reform',\n",
       "       'Position.on.Legalization.Decriminalization.of.Marijuana.Policy',\n",
       "       'Position.on.Defense.Spending', 'Position.on.Handling.Terrorism.Abroad',\n",
       "       'Position.on.Russia', 'Party.Category', 'Party.Category.1',\n",
       "       'Incumbency', 'Female', 'Democrat', 'Republican', 'Trump.Mention',\n",
       "       'Obama.Mention', 'Sanders.Mention', 'Clinton.Mention',\n",
       "       'Special.Counsel.Mention', 'Travel.Ban.Mention', 'SinglePayer',\n",
       "       'Primary.Outcome', 'Primary.Runoff.Outcome', 'Candidate', 'District',\n",
       "       'total_runners', 'State', 'Office Type', 'Race Type',\n",
       "       'Race Primary Election Date', 'Primary Status', 'Primary Runoff Status',\n",
       "       'General Status', 'Partisan Lean', 'Primary %', 'Won Primary', 'Race',\n",
       "       'Veteran?', 'LGBTQ?', 'Elected Official?', 'Self-Funder?', 'STEM?',\n",
       "       'Obama Alum?', 'Party Support?', 'Emily Endorsed?',\n",
       "       'Guns Sense Candidate?', 'Biden Endorsed?', 'Warren Endorsed? ',\n",
       "       'Sanders Endorsed?', 'Our Revolution Endorsed?',\n",
       "       'Justice Dems Endorsed?', 'PCCC Endorsed?', 'Indivisible Endorsed?',\n",
       "       'WFP Endorsed?', 'VoteVets Endorsed?', 'No Labels Support?', 'dist_num',\n",
       "       'District Abbrev'],\n",
       "      dtype='object')"
      ]
     },
     "execution_count": 22,
     "metadata": {},
     "output_type": "execute_result"
    }
   ],
   "source": [
    "matched_df.columns"
   ]
  },
  {
   "cell_type": "code",
   "execution_count": 23,
   "id": "149cf75e-b9b9-4742-ab5d-1ec434a9ef0e",
   "metadata": {},
   "outputs": [],
   "source": [
    "\n",
    "\n",
    "\n",
    "matched_df = matched_df.drop(['dist_num','Unnamed: 0', 'Candidate.State'\n",
    "                              , 'Candidate.District', 'Candidate.Party'\n",
    "                              , 'Incumbent','Incumbency', 'Female', 'Democrat'\n",
    "                              , 'Republican','Primary Status', 'Primary Runoff Status'],axis=1)\n",
    "\n",
    "\n"
   ]
  },
  {
   "cell_type": "code",
   "execution_count": 24,
   "id": "d223d67f-7854-4677-9a71-f2786604433b",
   "metadata": {},
   "outputs": [],
   "source": [
    "matched_df.to_csv('brookings_538_merge.csv')\n",
    "#this df only contains house candidates in races with at least one other oppounent. "
   ]
  }
 ],
 "metadata": {
  "kernelspec": {
   "display_name": "Python 3 (ipykernel)",
   "language": "python",
   "name": "python3"
  },
  "language_info": {
   "codemirror_mode": {
    "name": "ipython",
    "version": 3
   },
   "file_extension": ".py",
   "mimetype": "text/x-python",
   "name": "python",
   "nbconvert_exporter": "python",
   "pygments_lexer": "ipython3",
   "version": "3.9.15"
  }
 },
 "nbformat": 4,
 "nbformat_minor": 5
}
