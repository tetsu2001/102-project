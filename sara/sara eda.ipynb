{
 "cells": [
  {
   "cell_type": "code",
   "execution_count": 70,
   "id": "48ce0579-62a0-405e-9244-85a59191d9e7",
   "metadata": {},
   "outputs": [],
   "source": [
    "import numpy as np\n",
    "import pandas as pd\n",
    "%matplotlib inline\n",
    "import matplotlib.pyplot as plt\n",
    "import seaborn as sns\n",
    "import plotly.express as px\n",
    "import warnings\n",
    "warnings.filterwarnings('ignore')\n",
    "from pathlib import Path  "
   ]
  },
  {
   "cell_type": "code",
   "execution_count": 71,
   "id": "4234810e-58a7-43d1-9ea6-a129889683b4",
   "metadata": {},
   "outputs": [],
   "source": [
    "dem_candidates = pd.read_csv('../datasets/dem_candidates.csv')"
   ]
  },
  {
   "cell_type": "code",
   "execution_count": 72,
   "id": "67d2a21a-e90f-4fdc-ab0c-650935424273",
   "metadata": {},
   "outputs": [],
   "source": [
    "endorsement_cols = dem_candidates.columns[pd.Series(dem_candidates.columns).str.contains('Endorsed|Party Support|Support|\\\\?')]\n",
    "dem_candidates[endorsement_cols] = dem_candidates[endorsement_cols].fillna(0)\n",
    "dem_candidates[endorsement_cols] = dem_candidates[endorsement_cols].replace({'No': 0, 'Yes': 1})\n",
    "dem_candidates['General Status'] = dem_candidates['General Status'].replace({'None': 0, 'On the Ballot': 1})\n",
    "dem_candidates['Race'] = dem_candidates['Race'].replace({'Nonwhite': 1, 'White': 0})"
   ]
  },
  {
   "cell_type": "code",
   "execution_count": 80,
   "id": "51b8320f-b4bd-48fb-8b56-70b570e50132",
   "metadata": {},
   "outputs": [],
   "source": [
    "def count_candidates_by_district(df, district_column, new_column_name):\n",
    "    \"\"\"\n",
    "    Adds a column to the DataFrame with the count of candidates in each district.\n",
    "\n",
    "    Parameters:\n",
    "    df (pd.DataFrame): The DataFrame containing the candidates and districts.\n",
    "    district_column (str): The name of the column with district information.\n",
    "    new_column_name (str): The name of the new column to hold the counts.\n",
    "\n",
    "    Returns:\n",
    "    pd.DataFrame: The original DataFrame with an additional column for candidate counts per district.\n",
    "    \"\"\"\n",
    "    # Calculate the number of candidates in each district\n",
    "    district_counts = df.groupby(district_column).size().reset_index(name=new_column_name)\n",
    "    \n",
    "    # Merge the counts back into the original DataFrame\n",
    "    df_merged = df.merge(district_counts, on=district_column)\n",
    "\n",
    "    return df_merged"
   ]
  },
  {
   "cell_type": "code",
   "execution_count": 91,
   "id": "6449caeb-a74e-41a9-945c-200c4e1bb773",
   "metadata": {},
   "outputs": [],
   "source": [
    "dem_candidates = count_candidates_by_district(dem_candidates, 'District', 'total_runners')"
   ]
  },
  {
   "cell_type": "code",
   "execution_count": 92,
   "id": "5ebc5f6b-8cf4-4f68-b3a2-55264778689a",
   "metadata": {},
   "outputs": [],
   "source": [
    "govs = dem_candidates[(dem_candidates['Office Type'] == 'Governor')]\n",
    "house = dem_candidates[dem_candidates['Office Type'] == 'Representative']\n",
    "senate = dem_candidates[dem_candidates['Office Type'] == 'Senator']"
   ]
  },
  {
   "cell_type": "code",
   "execution_count": 93,
   "id": "b920c4f7-f1bc-49da-854f-2491b22986b9",
   "metadata": {},
   "outputs": [
    {
     "data": {
      "text/plain": [
       "(100, 35)"
      ]
     },
     "execution_count": 93,
     "metadata": {},
     "output_type": "execute_result"
    }
   ],
   "source": [
    "govs.shape"
   ]
  },
  {
   "cell_type": "code",
   "execution_count": 94,
   "id": "6f7760f8-6837-4990-8caa-8348c7b69e92",
   "metadata": {},
   "outputs": [
    {
     "data": {
      "text/plain": [
       "(687, 35)"
      ]
     },
     "execution_count": 94,
     "metadata": {},
     "output_type": "execute_result"
    }
   ],
   "source": [
    "house.shape"
   ]
  },
  {
   "cell_type": "code",
   "execution_count": 95,
   "id": "76ff36e5-5485-46b1-92d0-eff9acfaea5a",
   "metadata": {},
   "outputs": [
    {
     "data": {
      "text/plain": [
       "(24, 35)"
      ]
     },
     "execution_count": 95,
     "metadata": {},
     "output_type": "execute_result"
    }
   ],
   "source": [
    "senate.shape"
   ]
  },
  {
   "cell_type": "code",
   "execution_count": 99,
   "id": "d24905e5-c36e-4bd7-8aec-27bf5ed209c2",
   "metadata": {},
   "outputs": [],
   "source": [
    "dem_candidates = dem_candidates[dem_candidates['total_runners']>1]\n",
    "govs = dem_candidates[(dem_candidates['Office Type'] == 'Governor')]\n",
    "house = dem_candidates[dem_candidates['Office Type'] == 'Representative']\n",
    "senate = dem_candidates[dem_candidates['Office Type'] == 'Senator']"
   ]
  },
  {
   "cell_type": "code",
   "execution_count": 100,
   "id": "29d8c404-754d-4fef-b56a-845b5c2d8217",
   "metadata": {},
   "outputs": [
    {
     "data": {
      "text/plain": [
       "(645, 35)"
      ]
     },
     "execution_count": 100,
     "metadata": {},
     "output_type": "execute_result"
    }
   ],
   "source": [
    "house.shape"
   ]
  },
  {
   "cell_type": "code",
   "execution_count": 86,
   "id": "8300f6da-c859-42f2-84a0-3a34401c0455",
   "metadata": {},
   "outputs": [],
   "source": [
    "dem_candidates.to_csv(Path('dem_candidates_cleaned.csv'))\n",
    "govs.to_csv(Path('govs.csv'))\n",
    "house.to_csv(Path('house.csv'))\n",
    "senate.to_csv(Path('senate.csv'))"
   ]
  },
  {
   "cell_type": "code",
   "execution_count": 87,
   "id": "cb61fd60-9337-44fb-89dc-1573b0dbd1cf",
   "metadata": {},
   "outputs": [],
   "source": [
    "# house['dist_num'] = house['District'].str.extract('(\\d+)$')\n",
    "# house['District Abbrev'] = house['State']+ '-' +house['dist_num']\n",
    "# house"
   ]
  },
  {
   "cell_type": "code",
   "execution_count": 88,
   "id": "dba3a409-dfc5-4904-ada2-5a38323a39e0",
   "metadata": {},
   "outputs": [],
   "source": [
    "# brookings = pd.read_csv('candidatesdatafinal2018.csv')\n",
    "# brookings['Candidate'] = brookings['Candidate.First.Name'] + ' ' + brookings['Candidate.Last.Name']\n",
    "# brookings['District'] = brookings['Candidate.State'] + '-' + brookings['Candidate.District'].astype(str)\n",
    "# brookings"
   ]
  },
  {
   "cell_type": "code",
   "execution_count": 65,
   "id": "8786e893-e557-4484-bd87-4ac6114019be",
   "metadata": {
    "tags": []
   },
   "outputs": [],
   "source": [
    "# merged_df = pd.merge(brookings, house, left_on=['Candidate', 'District'], right_on=['Candidate', 'District Abbrev'], how='inner')\n",
    "# merged_df\n",
    "#merged_df.drop(columns =['Unnamed: 0_x', 'Candidate.First.Name', 'Candidate.Last.Name','Candidate.State', 'Candidate.District', 'Candidate.Gender','Listed.military.service.', 'Party.Category.1','Incumbency',  'Democrat', 'Republican', 'District_x','Unnamed: 0_y', 'State', 'District_y','dist_num'])"
   ]
  },
  {
   "cell_type": "code",
   "execution_count": 54,
   "id": "4e8a3c12-6ec8-45da-bb09-d11f10d95487",
   "metadata": {},
   "outputs": [],
   "source": [
    "# # Assuming you have a list of endorsement column names\n",
    "# endorsement_columns = endorsement_cols\n",
    "\n",
    "# def endorsement_effect(data):\n",
    "#     # Calculating the 'Partisan Lean' percentiles and bins\n",
    "#     percentiles = data['Partisan Lean'].quantile([0.25, 0.5, 0.75]).tolist()\n",
    "#     data['Partisan Lean Percentile Bins'] = pd.cut(data['Partisan Lean'], bins=[-np.inf] + percentiles + [np.inf], labels=['0-25%', '26-50%', '51-75%', '76-100%'])\n",
    "\n",
    "#     # Looping through each endorsement column\n",
    "#     for endorsement in endorsement_columns:\n",
    "#         plt.figure(figsize=(12, 8))\n",
    "#         for i, bin in enumerate(data['Partisan Lean Percentile Bins'].cat.categories, start=1):\n",
    "#             bin_data = data[data['Partisan Lean Percentile Bins'] == bin]\n",
    "\n",
    "#             # Calculating success rate for each endorsement status within the bin\n",
    "#             success_rate_endorsed = bin_data[bin_data[endorsement] == 1]['General Status'].mean()\n",
    "#             success_rate_not_endorsed = bin_data[bin_data[endorsement] == 0]['General Status'].mean()\n",
    "\n",
    "#             plt.subplot(2, 2, i)\n",
    "#             sns.barplot(x=[f'{endorsement[:-1]}', f'Not {endorsement[:-1]}'], y=[success_rate_endorsed, success_rate_not_endorsed])\n",
    "#             plt.title(f'Success Rate in Partisan Lean Percentile Bin: {bin}')\n",
    "#             plt.ylabel('Success Rate')\n",
    "\n",
    "#         plt.suptitle(f'Success Rate Analysis for {endorsement}')\n",
    "#         plt.tight_layout()\n",
    "#         plt.show()"
   ]
  },
  {
   "cell_type": "code",
   "execution_count": 55,
   "id": "68f2f674-c8d0-4be5-a80d-3b736bf9d816",
   "metadata": {},
   "outputs": [],
   "source": [
    "# endorsement_effect(house)"
   ]
  },
  {
   "cell_type": "code",
   "execution_count": null,
   "id": "00923f7b-895b-4509-b4c0-b3938069351f",
   "metadata": {},
   "outputs": [],
   "source": []
  }
 ],
 "metadata": {
  "kernelspec": {
   "display_name": "Python 3 (ipykernel)",
   "language": "python",
   "name": "python3"
  },
  "language_info": {
   "codemirror_mode": {
    "name": "ipython",
    "version": 3
   },
   "file_extension": ".py",
   "mimetype": "text/x-python",
   "name": "python",
   "nbconvert_exporter": "python",
   "pygments_lexer": "ipython3",
   "version": "3.9.15"
  }
 },
 "nbformat": 4,
 "nbformat_minor": 5
}
