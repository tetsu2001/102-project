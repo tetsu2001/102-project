{
 "cells": [
  {
   "cell_type": "code",
   "execution_count": null,
   "id": "c6f831d6-ecb0-4475-9d6f-1bff01eb89a4",
   "metadata": {},
   "outputs": [],
   "source": []
  }
 ],
 "metadata": {
  "kernelspec": {
   "display_name": "",
   "name": ""
  },
  "language_info": {
   "name": ""
  }
 },
 "nbformat": 4,
 "nbformat_minor": 5
}
