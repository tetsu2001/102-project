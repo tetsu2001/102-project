{
 "cells": [
  {
   "cell_type": "code",
   "execution_count": 1,
   "id": "48ce0579-62a0-405e-9244-85a59191d9e7",
   "metadata": {},
   "outputs": [],
   "source": [
    "import numpy as np\n",
    "import pandas as pd\n",
    "%matplotlib inline\n",
    "import matplotlib.pyplot as plt\n",
    "import seaborn as sns\n",
    "import plotly.express as px\n",
    "import warnings\n",
    "warnings.filterwarnings('ignore')\n",
    "from pathlib import Path  "
   ]
  },
  {
   "cell_type": "code",
   "execution_count": 2,
   "id": "4234810e-58a7-43d1-9ea6-a129889683b4",
   "metadata": {},
   "outputs": [],
   "source": [
    "dem_candidates = pd.read_csv('../datasets/dem_candidates.csv')"
   ]
  },
  {
   "cell_type": "code",
   "execution_count": 115,
   "id": "46b2da6e-8462-4c64-bf3c-ce272a65a704",
   "metadata": {},
   "outputs": [
    {
     "data": {
      "text/plain": [
       "(811, 32)"
      ]
     },
     "execution_count": 115,
     "metadata": {},
     "output_type": "execute_result"
    }
   ],
   "source": [
    "#see shape of initial uncleaned data\n",
    "#dem_candidates.shape"
   ]
  },
  {
   "cell_type": "markdown",
   "id": "f1851507-d90b-401f-b871-3e25076153b6",
   "metadata": {},
   "source": [
    "# cleaning the datasets to prepare for merging"
   ]
  },
  {
   "cell_type": "code",
   "execution_count": 2,
   "id": "c5ed87c0-da56-4a24-9f8b-848519a3fb84",
   "metadata": {},
   "outputs": [],
   "source": [
    "house = dem_candidates[dem_candidates['Office Type'] == 'Representative'] #filtering out non-house races\n",
    "#house.shape"
   ]
  },
  {
   "cell_type": "code",
   "execution_count": 147,
   "id": "33618a26-3e2f-4925-895c-212e05ded898",
   "metadata": {},
   "outputs": [],
   "source": [
    "#seeing how many rows were NAs and using the README to determine the meaning.\n",
    "#house.isna().sum()"
   ]
  },
  {
   "cell_type": "code",
   "execution_count": 3,
   "id": "25e0d4a8-619e-4c65-b334-7b4ae45a2536",
   "metadata": {},
   "outputs": [],
   "source": [
    "qualities = ['Veteran?', 'LGBTQ?', 'STEM?', 'Race','Obama Alum?', 'Self-Funder?', 'Elected Official?'] #nulls in these columns mean no website for the candidate was found. \n",
    "# seeing if there were systematic patterns in rows with no website available. found a lot of Ohio. \n",
    "# house[house[qualities].isnull().any(axis=1)]\n",
    "\n",
    "# Then realizing if i do that the dataset goes to shit so scrapping that and just putting 0s for no and nan. \n",
    "#house[house[qualities].isnull().any(axis=1)]['District'].value_counts()\n",
    "\n",
    "# filling in the NaNs in 'qualities' columns with 0s. turning all Nos to 0s and Yes to 1. \n",
    "house[qualities] = house[qualities].replace({'No': 0, 'Yes': 1}).fillna(0)\n",
    "house[qualities] = house[qualities].replace({'White': 0, 'Nonwhite': 1}).fillna(0)\n"
   ]
  },
  {
   "cell_type": "code",
   "execution_count": 119,
   "id": "afa34be1-4bb7-49b6-91b3-519e0ad4412e",
   "metadata": {},
   "outputs": [
    {
     "data": {
      "text/plain": [
       "(22, 32)"
      ]
     },
     "execution_count": 119,
     "metadata": {},
     "output_type": "execute_result"
    }
   ],
   "source": [
    "#now dealing with un-updated data for Runoffs. \n",
    "#seeing 22 NaNs in General Status and investigating those. Found 22 such rows\n",
    "#house['General Status'].value_counts(dropna=False)\n",
    "#house[house['General Status'].isnull()].shape"
   ]
  },
  {
   "cell_type": "code",
   "execution_count": 4,
   "id": "b1b61205-9d57-4ae6-bdd4-a63044cd6ae0",
   "metadata": {},
   "outputs": [
    {
     "data": {
      "text/plain": [
       "(675, 32)"
      ]
     },
     "execution_count": 4,
     "metadata": {},
     "output_type": "execute_result"
    }
   ],
   "source": [
    "\"\"\"\n",
    "of the resulting 22 rows, finding that 8 are NaNs due to the election not happenign yet. \n",
    "\"\"\"\n",
    "runoff_winners = ['Kendra Horn','Jason Nichols', 'Tim Gilpin', 'Mary Brannon']\n",
    "house.loc[house['Candidate'].isin(runoff_winners),'General Status'] = 'On the Ballot'\n",
    "house.loc[house['Candidate'].isin(runoff_winners), 'Primary Runoff Status'] = 'Advanced'\n",
    "runoff_losers = ['Tom Guild', 'Clay Padgett','Amanda Douglas','Fred Gipson']\n",
    "house.loc[house['Candidate'].isin(runoff_losers),'General Status'] = 'None'\n",
    "\n",
    "\n",
    "\"\"\"\n",
    "okay now that we have done that, the remaining \"NaNs\" upon investigation, can be converted to 'None' (14 rows)\n",
    "\"\"\"\n",
    "house['General Status'] = house['General Status'].fillna(0)\n",
    "\n",
    "#this should now return null. \n",
    "house[house['General Status'].isnull()]\n",
    "\n",
    "\n",
    "\"\"\"\n",
    "Now that the data is clean, we can binarize it\n",
    "\"\"\"\n",
    "house['General Status'] = house['General Status'].replace({'None': 0, 'On the Ballot': 1})\n",
    "\n",
    "\n",
    "\"\"\"\n",
    "one more thing drop all the special  elections\n",
    "\"\"\"\n",
    "house = house[house['Race Type'] != 'Special']\n",
    "house.shape"
   ]
  },
  {
   "cell_type": "code",
   "execution_count": 5,
   "id": "56a27abc-b96a-436d-8ad2-88ea472ca0ef",
   "metadata": {
    "tags": []
   },
   "outputs": [],
   "source": [
    "#Preparing for merging. Adding column called \"District Abbrev\"\n",
    "house['dist_num'] = house['District'].str.extract('(\\d+)$')\n",
    "house['District Abbrev'] = house['State']+ '-' +house['dist_num']"
   ]
  },
  {
   "cell_type": "code",
   "execution_count": 6,
   "id": "71894950-c136-422e-bfda-0fbe1e3ecd41",
   "metadata": {},
   "outputs": [],
   "source": [
    "brookings = pd.read_csv('brookings.csv')\n",
    "brookings = brookings[(brookings['Candidate.Party'].str.contains('Democrat')) \n",
    "    & (brookings['Incumbent'].isnull())\n",
    "    & (brookings['Primary.Outcome'].isin(['Winner','Loser']))]\n",
    "brookings['Candidate'] = brookings['Candidate.First.Name'] + ' ' + brookings['Candidate.Last.Name']\n",
    "\n",
    "brookings['Candidate'] = brookings['Candidate.First.Name'] + ' ' + brookings['Candidate.Last.Name']\n",
    "brookings['District'] = brookings['Candidate.State'] + '-' + brookings['Candidate.District'].astype(str)\n",
    "brookings = brookings.drop('Unnamed: 0', axis=1)"
   ]
  },
  {
   "cell_type": "markdown",
   "id": "3a2c9c1c-1ad5-4d79-96c1-05e54958007c",
   "metadata": {},
   "source": [
    "### Adding new columns"
   ]
  },
  {
   "cell_type": "code",
   "execution_count": 7,
   "id": "7683ca36-5b0e-499f-8234-1097832f5db2",
   "metadata": {},
   "outputs": [],
   "source": [
    "def count_candidates_by_district(df, district_column, new_column_name):\n",
    "    # Calculate the number of candidates in each district\n",
    "    district_counts = df.groupby(district_column).size().reset_index(name=new_column_name)\n",
    "    # Merge the counts back into the original DataFrame\n",
    "    df_merged = df.merge(district_counts, on=district_column)\n",
    "\n",
    "    return df_merged\n",
    "\n",
    "\n",
    "house = count_candidates_by_district(house, 'District', 'total_runners') #run the above func to get count of ppl in each race and add that as a new col\n"
   ]
  },
  {
   "cell_type": "code",
   "execution_count": 8,
   "id": "80f36c88-2701-4832-b8d9-a1f54dc32347",
   "metadata": {},
   "outputs": [],
   "source": [
    "house = house[house['total_runners']>1] #filter out all the rows where only 1 person ran. \n",
    "house.to_csv(Path('house_cleaned.csv'))"
   ]
  },
  {
   "cell_type": "code",
   "execution_count": 17,
   "id": "fb466b46-b0fd-4173-b6c5-99199f94a963",
   "metadata": {},
   "outputs": [
    {
     "data": {
      "text/plain": [
       "(633, 35)"
      ]
     },
     "execution_count": 17,
     "metadata": {},
     "output_type": "execute_result"
    }
   ],
   "source": [
    "house.shape"
   ]
  },
  {
   "cell_type": "code",
   "execution_count": 10,
   "id": "fadd5966-496d-4746-bcfc-2aa025bdec0e",
   "metadata": {},
   "outputs": [],
   "source": [
    "brookings = count_candidates_by_district(brookings, 'District', 'total_runners') #run the above func to get count of ppl in each race and add that as a new col\n",
    "brookings = brookings[brookings['total_runners']>1] #filter out all the rows where only 1 person ran. "
   ]
  },
  {
   "cell_type": "code",
   "execution_count": 11,
   "id": "7ba27e60-8a16-4329-975e-05ad8e83463e",
   "metadata": {},
   "outputs": [],
   "source": [
    "brookings.to_csv(Path('brookings_to_join.csv'))"
   ]
  },
  {
   "cell_type": "code",
   "execution_count": 12,
   "id": "44f8cac4-1e9d-493d-b33f-1bc6f8a91c4f",
   "metadata": {},
   "outputs": [
    {
     "data": {
      "text/plain": [
       "Index(['Candidate.First.Name', 'Candidate.Last.Name', 'Candidate.State',\n",
       "       'Candidate.District', 'Candidate.Party', 'Incumbent', 'Freshman.Member',\n",
       "       'Candidate.Website.URL', 'Candidate.Gender', 'Listed.military.service.',\n",
       "       'Education', 'Marital.Status', 'Previous.Electoral.Experience',\n",
       "       'Position.on.Affordable.Care.Act..ObamaCare.',\n",
       "       'Position.on.Minimum.Wage', 'Position.on.Federal.Taxes',\n",
       "       'Position.on.Business.Regulations', 'Position.on.National.Debt.Deficit',\n",
       "       'Position.on.Social.Security', 'Position.on.Gun.Control',\n",
       "       'Position.on.Immigration', 'Position.on.Abortion',\n",
       "       'Position.on.Same.Sex.Marriage', 'Position.on.Criminal.Justice.Reform',\n",
       "       'Position.on.Federal.K.12.Education.Policy',\n",
       "       'Position.on.Climate.Change', 'Position.on.Campaign.Finance.Reform',\n",
       "       'Position.on.Legalization.Decriminalization.of.Marijuana.Policy',\n",
       "       'Position.on.Defense.Spending', 'Position.on.Handling.Terrorism.Abroad',\n",
       "       'Position.on.Russia', 'Party.Category', 'Party.Category.1',\n",
       "       'Incumbency', 'Female', 'Democrat', 'Republican', 'Trump.Mention',\n",
       "       'Obama.Mention', 'Sanders.Mention', 'Clinton.Mention',\n",
       "       'Special.Counsel.Mention', 'Travel.Ban.Mention', 'SinglePayer',\n",
       "       'Primary.Outcome', 'Primary.Runoff.Outcome', 'Candidate', 'District',\n",
       "       'total_runners'],\n",
       "      dtype='object')"
      ]
     },
     "execution_count": 12,
     "metadata": {},
     "output_type": "execute_result"
    }
   ],
   "source": [
    "brookings.columns\n",
    "#"
   ]
  },
  {
   "cell_type": "markdown",
   "id": "4a2a03ae-5b53-44a5-8d59-81092b29fbe2",
   "metadata": {},
   "source": [
    "Binarizing brookigns Primary Outcome"
   ]
  },
  {
   "cell_type": "code",
   "execution_count": 18,
   "id": "e3f2526a-c83c-4eab-8fe6-602272b2a558",
   "metadata": {},
   "outputs": [],
   "source": [
    "brookings['Primary.Outcome'] = brookings['Primary.Outcome'].replace({'Loser': 0, 'Winner': 1})"
   ]
  },
  {
   "cell_type": "code",
   "execution_count": 19,
   "id": "0920719d-0dcf-43f9-a094-7f0fb037071c",
   "metadata": {},
   "outputs": [
    {
     "data": {
      "text/plain": [
       "0    627\n",
       "1    183\n",
       "Name: Primary.Outcome, dtype: int64"
      ]
     },
     "execution_count": 19,
     "metadata": {},
     "output_type": "execute_result"
    }
   ],
   "source": [
    "brookings['Primary.Outcome'].value_counts()"
   ]
  },
  {
   "cell_type": "code",
   "execution_count": 16,
   "id": "470bc79f-0f2e-4f2d-8ae1-611fccc82319",
   "metadata": {},
   "outputs": [
    {
     "data": {
      "text/plain": [
       "0    463\n",
       "1    170\n",
       "Name: General Status, dtype: int64"
      ]
     },
     "execution_count": 16,
     "metadata": {},
     "output_type": "execute_result"
    }
   ],
   "source": [
    "house['General Status'].value_counts(dropna=False)"
   ]
  },
  {
   "cell_type": "code",
   "execution_count": 23,
   "id": "197d83f6-4500-49b6-8e47-d45e102f873d",
   "metadata": {},
   "outputs": [],
   "source": [
    "def lowercase_column(df, column_name):\n",
    "    if column_name in df.columns:\n",
    "        df[column_name] = df[column_name].astype(str).str.lower()\n",
    "    else:\n",
    "        print(f\"Column '{column_name}' not found in DataFrame.\")\n",
    "    return df\n",
    "brookings = lowercase_column(brookings, 'Candidate')\n",
    "house = lowercase_column(house, 'Candidate')"
   ]
  },
  {
   "cell_type": "markdown",
   "id": "7ec47d61-6788-40de-b612-f5bdf932a113",
   "metadata": {},
   "source": [
    "# we can merge on \n",
    "- brookings['Primary.Outcome'] == house['General Status']\n",
    "- brookings['District'] == house['District Abbrev']\n",
    "- brookings['Candidate'] fuzzy match with house['Candidate'] with 60 percent match (this should be enough so long as the other two conditions are also matched)\n",
    "\n",
    "\n",
    "Exporting this to two csvs to merge. Merging code in Merging Datasets"
   ]
  },
  {
   "cell_type": "code",
   "execution_count": 24,
   "id": "6d028f4a-0683-47bf-aa07-a34d35f8384c",
   "metadata": {},
   "outputs": [],
   "source": [
    "brookings.to_csv(Path('brookings_to_join.csv'))\n",
    "house.to_csv(Path('house_to_join.csv'))"
   ]
  },
  {
   "cell_type": "code",
   "execution_count": 12,
   "id": "dba3a409-dfc5-4904-ada2-5a38323a39e0",
   "metadata": {},
   "outputs": [],
   "source": [
    "# brookings = pd.read_csv('candidatesdatafinal2018.csv')\n",
    "# brookings['Candidate'] = brookings['Candidate.First.Name'] + ' ' + brookings['Candidate.Last.Name']\n",
    "# brookings['District'] = brookings['Candidate.State'] + '-' + brookings['Candidate.District'].astype(str)\n",
    "# brookings"
   ]
  },
  {
   "cell_type": "code",
   "execution_count": 32,
   "id": "8786e893-e557-4484-bd87-4ac6114019be",
   "metadata": {
    "tags": []
   },
   "outputs": [],
   "source": [
    "# merged_df = pd.merge(brookings, house, left_on=['Candidate', 'District'], right_on=['Candidate', 'District Abbrev'], how='inner')\n",
    "# merged_df\n",
    "#merged_df.drop(columns =['Unnamed: 0_x', 'Candidate.First.Name', 'Candidate.Last.Name','Candidate.State', 'Candidate.District', 'Candidate.Gender','Listed.military.service.', 'Party.Category.1','Incumbency',  'Democrat', 'Republican', 'District_x','Unnamed: 0_y', 'State', 'District_y','dist_num'])"
   ]
  },
  {
   "cell_type": "code",
   "execution_count": 33,
   "id": "4e8a3c12-6ec8-45da-bb09-d11f10d95487",
   "metadata": {},
   "outputs": [],
   "source": [
    "# # Assuming you have a list of endorsement column names\n",
    "# endorsement_columns = endorsement_cols\n",
    "\n",
    "# def endorsement_effect(data):\n",
    "#     # Calculating the 'Partisan Lean' percentiles and bins\n",
    "#     percentiles = data['Partisan Lean'].quantile([0.25, 0.5, 0.75]).tolist()\n",
    "#     data['Partisan Lean Percentile Bins'] = pd.cut(data['Partisan Lean'], bins=[-np.inf] + percentiles + [np.inf], labels=['0-25%', '26-50%', '51-75%', '76-100%'])\n",
    "\n",
    "#     # Looping through each endorsement column\n",
    "#     for endorsement in endorsement_columns:\n",
    "#         plt.figure(figsize=(12, 8))\n",
    "#         for i, bin in enumerate(data['Partisan Lean Percentile Bins'].cat.categories, start=1):\n",
    "#             bin_data = data[data['Partisan Lean Percentile Bins'] == bin]\n",
    "\n",
    "#             # Calculating success rate for each endorsement status within the bin\n",
    "#             success_rate_endorsed = bin_data[bin_data[endorsement] == 1]['General Status'].mean()\n",
    "#             success_rate_not_endorsed = bin_data[bin_data[endorsement] == 0]['General Status'].mean()\n",
    "\n",
    "#             plt.subplot(2, 2, i)\n",
    "#             sns.barplot(x=[f'{endorsement[:-1]}', f'Not {endorsement[:-1]}'], y=[success_rate_endorsed, success_rate_not_endorsed])\n",
    "#             plt.title(f'Success Rate in Partisan Lean Percentile Bin: {bin}')\n",
    "#             plt.ylabel('Success Rate')\n",
    "\n",
    "#         plt.suptitle(f'Success Rate Analysis for {endorsement}')\n",
    "#         plt.tight_layout()\n",
    "#         plt.show()"
   ]
  },
  {
   "cell_type": "code",
   "execution_count": 17,
   "id": "68f2f674-c8d0-4be5-a80d-3b736bf9d816",
   "metadata": {},
   "outputs": [],
   "source": [
    "# endorsement_effect(house)"
   ]
  },
  {
   "cell_type": "code",
   "execution_count": null,
   "id": "00923f7b-895b-4509-b4c0-b3938069351f",
   "metadata": {},
   "outputs": [],
   "source": []
  }
 ],
 "metadata": {
  "kernelspec": {
   "display_name": "Python 3 (ipykernel)",
   "language": "python",
   "name": "python3"
  },
  "language_info": {
   "codemirror_mode": {
    "name": "ipython",
    "version": 3
   },
   "file_extension": ".py",
   "mimetype": "text/x-python",
   "name": "python",
   "nbconvert_exporter": "python",
   "pygments_lexer": "ipython3",
   "version": "3.9.15"
  }
 },
 "nbformat": 4,
 "nbformat_minor": 5
}
