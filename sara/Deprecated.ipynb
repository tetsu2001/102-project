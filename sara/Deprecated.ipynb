{
 "cells": [
  {
   "cell_type": "code",
   "execution_count": null,
   "id": "7b1eb057-9b39-458a-9f22-05b0a4d4feaa",
   "metadata": {},
   "outputs": [],
   "source": [
    "fwd_sel_df"
   ]
  },
  {
   "cell_type": "markdown",
   "id": "ec1bde63-0924-4cf1-bb49-c39f9eb4993c",
   "metadata": {},
   "source": [
    "# cleaning the datasets to prepare for merging"
   ]
  },
  {
   "cell_type": "code",
   "execution_count": 6,
   "id": "f14d3d4b-7f7f-4a4d-b8cb-bace0d249b43",
   "metadata": {},
   "outputs": [],
   "source": [
    "def binarize_cols(df, nan_threshold=20):\n",
    "    few_NaNs_cols = []\n",
    "    for col in df.columns:\n",
    "        if (df[col].nunique(dropna=False) == 2) or (df[col].nunique(dropna=True) == 2):\n",
    "            unique_vals = df[col].unique()\n",
    "            if (unique_vals[0] !=0 and unique_vals[1] !=0):\n",
    "                print(f\"col:{col}\\n0 means:{unique_vals[0]}\\n1 means: {unique_vals[1]}\\n\")\n",
    "                df[col] = df[col].replace({unique_vals[0]: int(0), unique_vals[1]: int(1)})\n",
    "            df[col].fillna(0, inplace=True) #now this will only make sense tho if we OHE first.    \n",
    "    return df\n",
    "\n",
    "\n",
    "def drop_columns(df, col_lst):\n",
    "    for i in col_lst:\n",
    "        if i in df.columns:\n",
    "            df.drop(i, axis=1,inplace=True)\n",
    "    return df\n",
    "\n",
    "def lowercase_column(df, column_name):\n",
    "    if column_name in df.columns:\n",
    "        df[column_name] = df[column_name].astype(str).str.lower()\n",
    "    return df\n",
    "\n",
    "def count_candidates_by_district(df, district_column, new_column_name):\n",
    "    district_counts = df.groupby(district_column).size().reset_index(name=new_column_name)\n",
    "    df_merged = df.merge(district_counts, on=district_column)\n",
    "    df_merged = df_merged[df_merged[new_column_name]>1]\n",
    "    return df_merged\n",
    "\n",
    "def move_column_to_front(df, col_lst):\n",
    "    for column_name in col_lst:\n",
    "        if column_name in df.columns:\n",
    "            df = df[[column_name] + [col for col in df.columns if col != column_name]]\n",
    "    return df\n",
    "\n",
    "def get_info(df):\n",
    "    print(f\"COL VALUE TYPES \\n{df.dtypes} \\n\\ndf shape:{df.shape}\\n\\nall the columns:\\n{df.columns}\")\n",
    "    \n",
    "    \n",
    "def rename_column_if_exists(df, old_name, new_name):\n",
    "    if old_name in df.columns:\n",
    "        df.rename(columns={old_name: new_name}, inplace=True)\n",
    "    return df\n",
    "    \n",
    "def replace_values_fill_na(df, column_name, replace_dict):\n",
    "    if column_name in df.columns:\n",
    "        df[column_name] = df[column_name].replace(replace_dict).fillna(0)\n",
    "    return df\n",
    "    \n",
    "    \n",
    "def get_ohe_cols(df, unique_limit=16, exclude = ['total_runners_house','total_runners']):\n",
    "    #object_cols = df.select_dtypes(include=['object']).columns\n",
    "    res = [col for col in df.columns if ((df[col].nunique(dropna=False) <= unique_limit) and (df[col].nunique(dropna=False)>2) and (col != 'total_runners') and (col != 'General Status') and (col !='Total Endorsements'))]\n",
    "    return res\n",
    "\n",
    "\n",
    "def convert_type(df, col_lst):\n",
    "    for column_name in col_lst:\n",
    "        if column_name in df.columns and df[column_name].dtype != 'int64':\n",
    "            df[column_name] = df[column_name].astype(int)\n",
    "\n",
    "            \n",
    "def get_X_df(df, y_col):\n",
    "    return df.drop(y_col, axis=1)\n",
    "\n",
    "def zero_dropper(df):\n",
    "    for col in df.columns:\n",
    "        if ((df[col]==0).mean() >= 0.90):\n",
    "            df = df.drop(col, axis=1)\n",
    "    return df\n",
    "\n",
    "def drop_VIF_col(X, threshold=2):\n",
    "    while True:\n",
    "        vif_info = pd.DataFrame()\n",
    "        vif_info['VIF'] = [variance_inflation_factor(X.values, i) for i in range(X.shape[1])]\n",
    "        vif_info['Column'] = X.columns\n",
    "        vif_info = vif_info.sort_values('VIF', ascending=False)\n",
    "        max_VIF = vif_info['VIF'].iloc[0]\n",
    "\n",
    "        if max_VIF > threshold:\n",
    "            to_drop = vif_info['Column'].iloc[0]\n",
    "            print(f\"Dropped: {to_drop} with VIF of {max_VIF}\")\n",
    "            X = X.drop(to_drop, axis=1)\n",
    "        else:\n",
    "            break\n",
    "\n",
    "    return X  # Returning the modified DataFrame\n",
    "\n",
    "def change_to_int(df, column):\n",
    "    df[column] = df[column].astype(int)\n",
    "    \n",
    "    \n",
    "def convert_to_int_if_possible(df, col_lst):\n",
    "    for column_name in col_lst:\n",
    "        temp_col = pd.to_numeric(df[column_name], errors='coerce')\n",
    "        if temp_col.isna().sum() == 0:\n",
    "            if all(temp_col.dropna() == temp_col.dropna().astype(int)):\n",
    "                df[column_name] = temp_col.astype(int)\n",
    "    return df\n",
    "\n",
    "def aic(X, y):\n",
    "    best_features = []\n",
    "    best_aic = float('inf')\n",
    "\n",
    "    for feature in X.columns:\n",
    "        # Create a temporary DataFrame with the current set of best features plus the new feature\n",
    "        X_temp = sm.add_constant(X[best_features + [feature]])\n",
    "\n",
    "       \n",
    "        model = sm.Logit(y, X_temp)  # Fit the logistic regression model\n",
    "        result = model.fit()  # disp=0 suppresses the fit output\n",
    "\n",
    "        # Check AIC and update if it is lower\n",
    "        if result.aic < best_aic:\n",
    "            best_aic = result.aic\n",
    "            best_features.append(feature)\n",
    "\n",
    "    # Fit the final model with the best features\n",
    "    X_final = sm.add_constant(X[best_features])\n",
    "    final_model = sm.Logit(y, X_final)\n",
    "    final_result = final_model.fit()\n",
    "\n",
    "    # You might want to return the final model, its summary, or AIC\n",
    "    print(f\"{best_features}\")\n",
    "    return final_result.summary(), final_result.aic"
   ]
  },
  {
   "cell_type": "code",
   "execution_count": 7,
   "id": "2a49c125-27a8-4a4e-888d-160af1fe244c",
   "metadata": {},
   "outputs": [],
   "source": [
    "# #All subsets of size k\n",
    "# def get_combinations(arr, k):\n",
    "#     if k == 0:\n",
    "#         return [[]]\n",
    "#     if not arr: \n",
    "#         return []\n",
    "#     return get_combinations(arr[1:], k) + [x + [arr[0]] for x in get_combinations(arr[1:], k-1)] \n",
    "\n",
    "# #Best Subsets Logisitc Regression using AIC\n",
    "\n",
    "# def best_aic_per_k_function(X, y):\n",
    "#     best_aic_per_k = {}\n",
    "    \n",
    "#     for k in range(1, 4): # Looping through all possible sizes of predictor subsets\n",
    "    \n",
    "#         best_aic_k = float(\"inf\")    # Getting all combinations of predictors of size k without using itertools\n",
    "#         best_model_k = None\n",
    "#         best_variables_k = None\n",
    "    \n",
    "#     for variables in get_combinations(list(X.columns), k):\n",
    "#         predictors = X[list(variables)]\n",
    "#         predictors = sm.add_constant(predictors)  # Add a constant (intercept) to the model\n",
    "        \n",
    "#         # Fitting the model\n",
    "#         model = sm.Logit(y, predictors).fit()  # Fit the logistic regression model\n",
    "        \n",
    "#         # Updating best AIC model for each k\n",
    "#         if model.aic < best_aic_k:\n",
    "#             best_aic_k = model.aic\n",
    "#             best_model_k = model\n",
    "#             best_variables_k = variables  # Storing variable names\n",
    "    \n",
    "    \n",
    "#     best_aic_per_k[k] = (best_aic_k, best_model_k, best_variables_k) # Storing the best AIC and variable names for each k in the dictionary\n",
    "\n",
    "#     for k, (aic, model, variables) in best_aic_per_k.items():  # Displaying the results\n",
    "#         print(f\"\\nBest AIC value for k={k} variables: {aic}\")\n",
    "#         print(f\"Variables in the model: {variables}\")\n",
    "#         print(f\"Model parameters:\\n{model.params}\")"
   ]
  },
  {
   "cell_type": "code",
   "execution_count": 8,
   "id": "61351316-d1a0-4f1b-9954-b271e68616ad",
   "metadata": {},
   "outputs": [],
   "source": [
    "house = dem_candidates[dem_candidates['Office Type'] == 'Representative'] #filtering out non-house races\n",
    "house = house[house['Race Type'] != 'Special']\n",
    "house = rename_column_if_exists(house, 'Candidate', 'House Candidate')\n",
    "house['dist_num'] = house['District'].str.extract('(\\d+)$')\n",
    "house['District Abbrev'] = house['State']+ '-' +house['dist_num']"
   ]
  },
  {
   "cell_type": "code",
   "execution_count": 101,
   "id": "0bab51d1-4dbc-4bd9-bc6a-b8f16ad8088d",
   "metadata": {},
   "outputs": [],
   "source": [
    "qualities = ['Veteran?', 'LGBTQ?', 'STEM?', 'Race','Obama Alum?', 'Self-Funder?', 'Elected Official?'] #nulls in these columns mean no website for the candidate was found. \n",
    "# house[qualities] = house[qualities].replace({'No': 0, 'Yes': 1}).fillna(0)\n",
    "# house[qualities] = house[qualities].replace({'White': 0, 'Nonwhite': 1}).fillna(0)\n",
    "house = replace_values_fill_na(house,'General Status', {'None': 0, 'On the Ballot': 1})\n",
    "house = house.reset_index(drop=True)"
   ]
  },
  {
   "cell_type": "code",
   "execution_count": 102,
   "id": "d0781ad7-8a44-43e6-a180-356b3938c663",
   "metadata": {},
   "outputs": [],
   "source": [
    "#of the resulting 22 rows, finding that 8 are NaNs due to the election not happenign yet. \n",
    "runoff_winners = ['Kendra Horn','Jason Nichols', 'Tim Gilpin', 'Mary Brannon']\n",
    "house.loc[house['House Candidate'].isin(runoff_winners),'General Status'] = 'On the Ballot'\n",
    "house.loc[house['House Candidate'].isin(runoff_winners), 'Primary Runoff Status'] = 'Advanced'\n",
    "runoff_losers = ['Tom Guild', 'Clay Padgett','Amanda Douglas','Fred Gipson']\n",
    "house.loc[house['House Candidate'].isin(runoff_losers),'General Status'] = 'None'"
   ]
  },
  {
   "cell_type": "code",
   "execution_count": 103,
   "id": "30e95fd2-79dc-477c-850a-fe5e66d7500c",
   "metadata": {},
   "outputs": [],
   "source": [
    "brookings = pd.read_csv('brookings.csv')\n",
    "\n",
    "brookings = brookings[(brookings['Candidate.Party'].str.contains('Democrat')) & (brookings['Incumbent'].isnull())& (brookings['Primary.Outcome'].isin(['Winner','Loser']))]\n",
    "brookings['Brookings Candidate'] = brookings['Candidate.First.Name'] + ' ' + brookings['Candidate.Last.Name']\n",
    "brookings['District'] = brookings['Candidate.State'] + '-' + brookings['Candidate.District'].astype(str)\n",
    "#brookings['Primary.Outcome'] = brookings['Primary.Outcome'].replace({'Loser': 0, 'Winner': 1})\n",
    "\n",
    "replace_values_fill_na(brookings, 'Primary.Outcome', {'Loser': 0, 'Winner': 1})\n",
    "brookings = drop_columns(brookings, ['Candidate.Party', 'Incumbent', 'Freshman.Member','Candidate.First.Name','Candidate.Last.Name','Republican',\n",
    "                                     'Candidate.Website.URL', 'Primary.Runoff.Outcome', 'Party.Category.1','Candidate.State','Candidate.District',\n",
    "                                     'Incumbency','Candidate.Gender','Democrat','Unnamed: 0'\n",
    "                                    ])\n",
    "brookings = move_column_to_front(brookings, ['Female','Brookings Candidate','District','Primary.Outcome'])\n",
    "brookings = brookings.reset_index(drop=True)\n"
   ]
  },
  {
   "cell_type": "code",
   "execution_count": 75,
   "id": "52aa23c1-18a1-4112-b8ca-98fede3f0fa4",
   "metadata": {},
   "outputs": [],
   "source": [
    "house = drop_columns(house, ['dist_num', 'State', 'District', 'Office Type', 'Race Type',\n",
    "       'Race Primary Election Date', 'Primary Status', 'Primary Runoff Status','Primary %', 'Won Primary'])\n",
    "\n",
    "house = move_column_to_front(house, ['House Candidate','District Abbrev','General Status'])"
   ]
  },
  {
   "cell_type": "code",
   "execution_count": 76,
   "id": "409aaf74-a179-41fb-96e7-7e019d3be38c",
   "metadata": {},
   "outputs": [],
   "source": [
    "house = count_candidates_by_district(house, 'District Abbrev', 'total_runners_house')\n",
    "brookings = count_candidates_by_district(brookings, 'District', 'total_runners_brookings')"
   ]
  },
  {
   "cell_type": "code",
   "execution_count": 77,
   "id": "b7e2065f-0dca-4133-b85d-487efb6d85ec",
   "metadata": {},
   "outputs": [],
   "source": [
    "brookings = drop_columns(brookings, 'total_runners_brookings')"
   ]
  },
  {
   "cell_type": "code",
   "execution_count": 78,
   "id": "c9b21d15-bd0b-4dc9-961d-4dde1a432c57",
   "metadata": {},
   "outputs": [],
   "source": [
    "brookings = lowercase_column(brookings, 'Brookings Candidate')\n",
    "house = lowercase_column(house, 'House Candidate')"
   ]
  },
  {
   "cell_type": "code",
   "execution_count": 79,
   "id": "205d8232-7c04-4da0-aba9-c83fc1f242f8",
   "metadata": {
    "tags": []
   },
   "outputs": [],
   "source": [
    "house = house.reset_index(drop=True)\n",
    "brookings = brookings.reset_index(drop=True)"
   ]
  },
  {
   "cell_type": "markdown",
   "id": "b63a2c68-09d2-441e-ab5b-ae5b0bd376e4",
   "metadata": {},
   "source": [
    "# we can merge on \n",
    "- brookings['Primary.Outcome'] == house['General Status']\n",
    "- brookings['District'] == house['District Abbrev']\n",
    "- brookings['Candidate'] fuzzy match with house['Candidate'] with 60 percent match (this should be enough so long as the other two conditions are also matched)\n",
    "\n",
    "\n",
    "Exporting this to two csvs to merge. Merging code in Merging Datasets"
   ]
  },
  {
   "cell_type": "code",
   "execution_count": 80,
   "id": "442736fa-db47-4eff-b434-e2e08e079af5",
   "metadata": {},
   "outputs": [],
   "source": [
    "def fuzzy_join(brookings, house, threshold=50):\n",
    "    matched_pairs = []\n",
    "\n",
    "    for index1, row1 in brookings.iterrows():\n",
    "        for index2, row2 in house.iterrows():\n",
    "            if (row1['District'] == row2['District Abbrev'] and row1['Primary.Outcome'] == row2['General Status']):\n",
    "                similarity_score = fuzz.ratio(row1['Brookings Candidate'], row2['House Candidate'])\n",
    "                if similarity_score > threshold:\n",
    "                    matched_pairs.append((index1, index2))\n",
    "    matched_df = pd.DataFrame(columns=list(brookings.columns) + list(house.columns))\n",
    "    for index1, index2 in matched_pairs:\n",
    "        matched_row = pd.concat([brookings.iloc[[index1]].reset_index(drop=True), \n",
    "                                 house.iloc[[index2]].reset_index(drop=True)], axis=1)\n",
    "        matched_df = matched_df.append(matched_row, ignore_index=True)\n",
    "\n",
    "    return matched_df"
   ]
  },
  {
   "cell_type": "code",
   "execution_count": 81,
   "id": "c0325fe3-310d-4fad-8fe0-0d2a15650f97",
   "metadata": {},
   "outputs": [],
   "source": [
    "output = fuzzy_join(brookings, house, threshold=70)"
   ]
  },
  {
   "cell_type": "code",
   "execution_count": 82,
   "id": "62e27470-b589-4780-8f84-84388f9fdde3",
   "metadata": {},
   "outputs": [],
   "source": [
    "output = move_column_to_front(output,['Female','total_runners_house','Primary.Outcome','General Status','Brookings Candidate','House Candidate'])"
   ]
  },
  {
   "cell_type": "code",
   "execution_count": 83,
   "id": "c35be8d2-4b2c-4c0d-b984-99d51bbf0f35",
   "metadata": {},
   "outputs": [],
   "source": [
    "change_to_int(output, 'Female')\n",
    "change_to_int(output, 'General Status')\n",
    "change_to_int(output, 'total_runners_house')"
   ]
  },
  {
   "cell_type": "code",
   "execution_count": 84,
   "id": "23db994f-c64f-4340-990d-de44b947f324",
   "metadata": {},
   "outputs": [],
   "source": [
    "#output.to_csv(Path('joined_dfs.csv'))"
   ]
  },
  {
   "cell_type": "code",
   "execution_count": 155,
   "id": "d8c6e333-9b95-4b06-ad67-dbe00bd68b69",
   "metadata": {
    "tags": []
   },
   "outputs": [],
   "source": [
    "output = drop_columns(output, ['District','Brookings Candidate', 'District Abbrev','House Candidate','Primary.Outcome'])\n",
    "output = move_column_to_front(output, ['total_runners_house','total_runners_house','General Status'])"
   ]
  },
  {
   "cell_type": "code",
   "execution_count": 86,
   "id": "b3f35b8e-4017-4eec-aa9c-51c285840c08",
   "metadata": {},
   "outputs": [],
   "source": [
    "ohe_this = output.copy()"
   ]
  }
 ],
 "metadata": {
  "kernelspec": {
   "display_name": "Python 3 (ipykernel)",
   "language": "python",
   "name": "python3"
  },
  "language_info": {
   "codemirror_mode": {
    "name": "ipython",
    "version": 3
   },
   "file_extension": ".py",
   "mimetype": "text/x-python",
   "name": "python",
   "nbconvert_exporter": "python",
   "pygments_lexer": "ipython3",
   "version": "3.9.15"
  }
 },
 "nbformat": 4,
 "nbformat_minor": 5
}
