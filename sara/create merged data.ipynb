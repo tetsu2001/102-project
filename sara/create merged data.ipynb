{
 "cells": [
  {
   "cell_type": "markdown",
   "id": "19027326-2e9d-443b-9be1-7bd69be9be8a",
   "metadata": {},
   "source": [
    "# joining the datasets house_to_join.csv and brookings_to_join.csv\n",
    "- ### In this code, I merged the brookings_to_join.csv and house_to_join.csv together. The best case scenario was 633 rows, and the result was 621 rows. \n",
    "- Result was saved as brookings_538_merge.csv"
   ]
  },
  {
   "cell_type": "markdown",
   "id": "765ef18e-7c30-4927-84c4-f4e0e309c6e0",
   "metadata": {},
   "source": [
    "pip install fuzzywuzzy python-Levenshtein"
   ]
  },
  {
   "cell_type": "code",
   "execution_count": 24,
   "id": "5e2de35f-11ad-4d66-9437-a61f58bd6b5e",
   "metadata": {},
   "outputs": [],
   "source": [
    "import numpy as np\n",
    "import pandas as pd\n",
    "%matplotlib inline\n",
    "import statsmodels.api as sm\n",
    "import matplotlib.pyplot as plt\n",
    "import seaborn as sns\n",
    "import plotly.express as px\n",
    "import warnings\n",
    "warnings.filterwarnings('ignore')\n",
    "from pathlib import Path  \n",
    "import numpy as np\n",
    "import pandas as pd\n",
    "import matplotlib.pyplot as plt\n",
    "import statsmodels.api as sm\n",
    "from fuzzywuzzy import fuzz"
   ]
  },
  {
   "cell_type": "markdown",
   "id": "5b2af755-44fd-49d0-9be3-b33946e39d91",
   "metadata": {},
   "source": [
    "## we can merge on \n",
    "- brookings['Primary.Outcome'] == house['General Status']\n",
    "- brookings['District'] == house['District Abbrev']\n",
    "- brookings['Candidate'] fuzzy match with house['Candidate'] with 60 percent match (this should be enough so long as the other two conditions are also matched)\n",
    "\n",
    "### best case is 633 resulting rows. "
   ]
  },
  {
   "cell_type": "code",
   "execution_count": 25,
   "id": "fa67fe08-46a1-4c51-8a61-79fef97b1453",
   "metadata": {},
   "outputs": [],
   "source": [
    "brookings = pd.read_csv('brookings_to_join.csv')\n",
    "house = pd.read_csv('house_to_join.csv')"
   ]
  },
  {
   "cell_type": "code",
   "execution_count": 27,
   "id": "09896b7d-9063-4ee1-8d20-3514d063c6d3",
   "metadata": {},
   "outputs": [
    {
     "data": {
      "text/plain": [
       "(0    627\n",
       " 1    183\n",
       " Name: Primary.Outcome, dtype: int64,\n",
       " 0    463\n",
       " 1    170\n",
       " Name: General Status, dtype: int64)"
      ]
     },
     "execution_count": 27,
     "metadata": {},
     "output_type": "execute_result"
    }
   ],
   "source": [
    "brookings['Primary.Outcome'].value_counts(dropna=False), house['General Status'].value_counts(dropna=False)"
   ]
  },
  {
   "cell_type": "code",
   "execution_count": 31,
   "id": "ff9359cb-7799-4a3c-a8c8-34d0a1786d8f",
   "metadata": {},
   "outputs": [],
   "source": [
    "def fuzzy_join(brookings, house, threshold=50):\n",
    "    matched_pairs = []\n",
    "\n",
    "    for index1, row1 in brookings.iterrows():\n",
    "        for index2, row2 in house.iterrows():\n",
    "            if (row1['District'] == row2['District Abbrev'] and \n",
    "                row1['Primary.Outcome'] == row2['General Status']):\n",
    "                similarity_score = fuzz.ratio(row1['Candidate'].lower(), row2['Candidate'].lower())\n",
    "                if similarity_score > threshold:\n",
    "                    matched_pairs.append((index1, index2))\n",
    "\n",
    "    # Joining matched rows\n",
    "    matched_df = pd.DataFrame(columns=list(brookings.columns) + list(house.columns))\n",
    "    for index1, index2 in matched_pairs:\n",
    "        matched_row = pd.concat([brookings.iloc[[index1]].reset_index(drop=True), \n",
    "                                 house.iloc[[index2]].reset_index(drop=True)], axis=1)\n",
    "        matched_df = matched_df.append(matched_row, ignore_index=True)\n",
    "\n",
    "    return matched_df"
   ]
  },
  {
   "cell_type": "code",
   "execution_count": 32,
   "id": "acfd05d1-4e7d-4313-b9e4-0b3680d8f576",
   "metadata": {},
   "outputs": [],
   "source": [
    "new_df = fuzzy_join(brookings, house, threshold=50)"
   ]
  },
  {
   "cell_type": "code",
   "execution_count": 35,
   "id": "82c7affc-f670-4b43-a866-5701dfb85e01",
   "metadata": {},
   "outputs": [
    {
     "data": {
      "text/plain": [
       "(621, 86)"
      ]
     },
     "execution_count": 35,
     "metadata": {},
     "output_type": "execute_result"
    }
   ],
   "source": [
    "new_df.shape"
   ]
  },
  {
   "cell_type": "code",
   "execution_count": 34,
   "id": "d223d67f-7854-4677-9a71-f2786604433b",
   "metadata": {},
   "outputs": [],
   "source": [
    "new_df.to_csv('brookings_538_merge.csv')"
   ]
  }
 ],
 "metadata": {
  "kernelspec": {
   "display_name": "Python 3 (ipykernel)",
   "language": "python",
   "name": "python3"
  },
  "language_info": {
   "codemirror_mode": {
    "name": "ipython",
    "version": 3
   },
   "file_extension": ".py",
   "mimetype": "text/x-python",
   "name": "python",
   "nbconvert_exporter": "python",
   "pygments_lexer": "ipython3",
   "version": "3.9.15"
  }
 },
 "nbformat": 4,
 "nbformat_minor": 5
}
