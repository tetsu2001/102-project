{
 "cells": [
  {
   "cell_type": "code",
   "execution_count": 13,
   "id": "33474252-6672-4716-9f3f-00bf5f4a06c1",
   "metadata": {},
   "outputs": [],
   "source": [
    "import os\n",
    "os.chdir('/Users/nikki/Library/Jupyter')"
   ]
  },
  {
   "cell_type": "code",
   "execution_count": 17,
   "id": "73cffa6b",
   "metadata": {},
   "outputs": [
    {
     "ename": "ImportError",
     "evalue": "cannot import name '_CopyMode' from 'numpy._globals' (/Users/nikki/Desktop/venv/lib/python3.9/site-packages/numpy/_globals.py)",
     "output_type": "error",
     "traceback": [
      "\u001b[0;31m---------------------------------------------------------------------------\u001b[0m",
      "\u001b[0;31mImportError\u001b[0m                               Traceback (most recent call last)",
      "\u001b[0;32m/var/folders/4r/n3ltqhwn3qnb0k5kqs61jjr00000gn/T/ipykernel_9016/4281816787.py\u001b[0m in \u001b[0;36m<module>\u001b[0;34m\u001b[0m\n\u001b[0;32m----> 1\u001b[0;31m \u001b[0;32mimport\u001b[0m \u001b[0mnumpy\u001b[0m\u001b[0;34m.\u001b[0m\u001b[0m_globals\u001b[0m\u001b[0;34m\u001b[0m\u001b[0;34m\u001b[0m\u001b[0m\n\u001b[0m",
      "\u001b[0;32m~/Desktop/venv/lib/python3.9/site-packages/numpy/__init__.py\u001b[0m in \u001b[0;36m<module>\u001b[0;34m\u001b[0m\n\u001b[1;32m    103\u001b[0m \u001b[0;32mimport\u001b[0m \u001b[0mwarnings\u001b[0m\u001b[0;34m\u001b[0m\u001b[0;34m\u001b[0m\u001b[0m\n\u001b[1;32m    104\u001b[0m \u001b[0;34m\u001b[0m\u001b[0m\n\u001b[0;32m--> 105\u001b[0;31m \u001b[0;32mfrom\u001b[0m \u001b[0;34m.\u001b[0m\u001b[0m_globals\u001b[0m \u001b[0;32mimport\u001b[0m \u001b[0m_NoValue\u001b[0m\u001b[0;34m,\u001b[0m \u001b[0m_CopyMode\u001b[0m\u001b[0;34m\u001b[0m\u001b[0;34m\u001b[0m\u001b[0m\n\u001b[0m\u001b[1;32m    106\u001b[0m \u001b[0;31m# These exceptions were moved in 1.25 and are hidden from __dir__()\u001b[0m\u001b[0;34m\u001b[0m\u001b[0;34m\u001b[0m\u001b[0;34m\u001b[0m\u001b[0m\n\u001b[1;32m    107\u001b[0m from .exceptions import (\n",
      "\u001b[0;31mImportError\u001b[0m: cannot import name '_CopyMode' from 'numpy._globals' (/Users/nikki/Desktop/venv/lib/python3.9/site-packages/numpy/_globals.py)"
     ]
    }
   ],
   "source": [
    "import numpy._globals"
   ]
  },
  {
   "cell_type": "code",
   "execution_count": 9,
   "id": "f3f1b1a4",
   "metadata": {},
   "outputs": [],
   "source": [
    "from jupyter_core.paths import jupyter_data_dir"
   ]
  },
  {
   "cell_type": "code",
   "execution_count": 12,
   "id": "1d08c716",
   "metadata": {},
   "outputs": [
    {
     "name": "stdout",
     "output_type": "stream",
     "text": [
      "/Users/nikki/Library/Jupyter\n"
     ]
    }
   ],
   "source": [
    "print(jupyter_data_dir())"
   ]
  },
  {
   "cell_type": "code",
   "execution_count": 1,
   "id": "875718e3",
   "metadata": {},
   "outputs": [],
   "source": [
    "import scipy"
   ]
  },
  {
   "cell_type": "code",
   "execution_count": null,
   "id": "8214cc80-b350-4e16-8dba-0aa4f132330d",
   "metadata": {},
   "outputs": [],
   "source": []
  }
 ],
 "metadata": {
  "kernelspec": {
   "display_name": "Python 3 (ipykernel)",
   "language": "python",
   "name": "python3"
  },
  "language_info": {
   "codemirror_mode": {
    "name": "ipython",
    "version": 3
   },
   "file_extension": ".py",
   "mimetype": "text/x-python",
   "name": "python",
   "nbconvert_exporter": "python",
   "pygments_lexer": "ipython3",
   "version": "3.9.15"
  }
 },
 "nbformat": 4,
 "nbformat_minor": 5
}
