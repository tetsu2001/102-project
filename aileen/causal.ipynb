{
 "cells": [
  {
   "cell_type": "code",
   "execution_count": 27,
   "id": "37f5873e",
   "metadata": {},
   "outputs": [],
   "source": [
    "import numpy as np\n",
    "import pandas as pd\n",
    "\n",
    "%matplotlib inline\n",
    "import matplotlib.pyplot as plt\n",
    "import seaborn as sns\n",
    "\n",
    "from sklearn.linear_model import LogisticRegression as LR"
   ]
  },
  {
   "cell_type": "code",
   "execution_count": 93,
   "id": "517077c8",
   "metadata": {},
   "outputs": [],
   "source": [
    "dems = pd.read_csv('../datasets/dem_candidates.csv')"
   ]
  },
  {
   "cell_type": "code",
   "execution_count": 94,
   "id": "a32b78f5",
   "metadata": {},
   "outputs": [],
   "source": [
    "dems = dems.rename(columns={'Warren Endorsed? ': 'Warren Endorsed?', 'Guns Sense Candidate?': 'Gun Sense Candidate?'})\n",
    "endorsement_cols = dems.columns[pd.Series(dems.columns).str.contains('Endorsed')].values\n",
    "endorsement_cols = np.append(endorsement_cols, 'Gun Sense Candidate?')\n",
    "endorsement_cols = np.append(endorsement_cols, 'Party Support?')\n",
    "# endorsement_cols = np.append(endorsement_cols, 'Obama Alum?')\n",
    "# endorsement_cols = np.append(endorsement_cols, 'No Labels Support?')\n",
    "dems[endorsement_cols] = dems[endorsement_cols].replace({'No': 0, 'Yes': 1})\n",
    "dems['Total Endorsements'] = dems[endorsement_cols].sum(axis=1)\n",
    "dems['Endorsed'] = (dems['Total Endorsements'] > 0).astype(int)\n",
    "dems['Won_int'] = (dems['Won Primary'] == 'Yes').astype(int)\n",
    "dems['Race'] = (dems['Race'] == 'Nonwhite').astype(int)\n",
    "dems['Veteran?'] = (dems['Veteran?'] == 'Yes').astype(int)\n",
    "dems['LGBTQ?'] = (dems['LGBTQ?'] == 'Yes').astype(int)\n",
    "dems['Self-Funder?'] = (dems['Self-Funder?'] == 'Yes').astype(int)\n",
    "dems['STEM?'] = (dems['STEM?'] == 'Yes').astype(int)"
   ]
  },
  {
   "cell_type": "code",
   "execution_count": 95,
   "id": "e1faac72",
   "metadata": {},
   "outputs": [
    {
     "data": {
      "text/html": [
       "<div>\n",
       "<style scoped>\n",
       "    .dataframe tbody tr th:only-of-type {\n",
       "        vertical-align: middle;\n",
       "    }\n",
       "\n",
       "    .dataframe tbody tr th {\n",
       "        vertical-align: top;\n",
       "    }\n",
       "\n",
       "    .dataframe thead th {\n",
       "        text-align: right;\n",
       "    }\n",
       "</style>\n",
       "<table border=\"1\" class=\"dataframe\">\n",
       "  <thead>\n",
       "    <tr style=\"text-align: right;\">\n",
       "      <th></th>\n",
       "      <th>Candidate</th>\n",
       "      <th>State</th>\n",
       "      <th>District</th>\n",
       "      <th>Office Type</th>\n",
       "      <th>Race Type</th>\n",
       "      <th>Race Primary Election Date</th>\n",
       "      <th>Primary Status</th>\n",
       "      <th>Primary Runoff Status</th>\n",
       "      <th>General Status</th>\n",
       "      <th>Partisan Lean</th>\n",
       "      <th>...</th>\n",
       "      <th>Our Revolution Endorsed?</th>\n",
       "      <th>Justice Dems Endorsed?</th>\n",
       "      <th>PCCC Endorsed?</th>\n",
       "      <th>Indivisible Endorsed?</th>\n",
       "      <th>WFP Endorsed?</th>\n",
       "      <th>VoteVets Endorsed?</th>\n",
       "      <th>No Labels Support?</th>\n",
       "      <th>Total Endorsements</th>\n",
       "      <th>Endorsed</th>\n",
       "      <th>Won_int</th>\n",
       "    </tr>\n",
       "  </thead>\n",
       "  <tbody>\n",
       "    <tr>\n",
       "      <th>0</th>\n",
       "      <td>Anthony White (Alabama)</td>\n",
       "      <td>AL</td>\n",
       "      <td>Governor of Alabama</td>\n",
       "      <td>Governor</td>\n",
       "      <td>Regular</td>\n",
       "      <td>6/5/18</td>\n",
       "      <td>Lost</td>\n",
       "      <td>None</td>\n",
       "      <td>None</td>\n",
       "      <td>-28.879999</td>\n",
       "      <td>...</td>\n",
       "      <td>NaN</td>\n",
       "      <td>NaN</td>\n",
       "      <td>NaN</td>\n",
       "      <td>NaN</td>\n",
       "      <td>NaN</td>\n",
       "      <td>NaN</td>\n",
       "      <td>NaN</td>\n",
       "      <td>0.0</td>\n",
       "      <td>0</td>\n",
       "      <td>0</td>\n",
       "    </tr>\n",
       "    <tr>\n",
       "      <th>1</th>\n",
       "      <td>Christopher Countryman</td>\n",
       "      <td>AL</td>\n",
       "      <td>Governor of Alabama</td>\n",
       "      <td>Governor</td>\n",
       "      <td>Regular</td>\n",
       "      <td>6/5/18</td>\n",
       "      <td>Lost</td>\n",
       "      <td>None</td>\n",
       "      <td>None</td>\n",
       "      <td>-28.879999</td>\n",
       "      <td>...</td>\n",
       "      <td>NaN</td>\n",
       "      <td>NaN</td>\n",
       "      <td>NaN</td>\n",
       "      <td>NaN</td>\n",
       "      <td>NaN</td>\n",
       "      <td>NaN</td>\n",
       "      <td>NaN</td>\n",
       "      <td>0.0</td>\n",
       "      <td>0</td>\n",
       "      <td>0</td>\n",
       "    </tr>\n",
       "    <tr>\n",
       "      <th>2</th>\n",
       "      <td>Doug \"New Blue\" Smith</td>\n",
       "      <td>AL</td>\n",
       "      <td>Governor of Alabama</td>\n",
       "      <td>Governor</td>\n",
       "      <td>Regular</td>\n",
       "      <td>6/5/18</td>\n",
       "      <td>Lost</td>\n",
       "      <td>None</td>\n",
       "      <td>None</td>\n",
       "      <td>-28.879999</td>\n",
       "      <td>...</td>\n",
       "      <td>NaN</td>\n",
       "      <td>NaN</td>\n",
       "      <td>NaN</td>\n",
       "      <td>NaN</td>\n",
       "      <td>NaN</td>\n",
       "      <td>NaN</td>\n",
       "      <td>NaN</td>\n",
       "      <td>0.0</td>\n",
       "      <td>0</td>\n",
       "      <td>0</td>\n",
       "    </tr>\n",
       "    <tr>\n",
       "      <th>3</th>\n",
       "      <td>James C. Fields</td>\n",
       "      <td>AL</td>\n",
       "      <td>Governor of Alabama</td>\n",
       "      <td>Governor</td>\n",
       "      <td>Regular</td>\n",
       "      <td>6/5/18</td>\n",
       "      <td>Lost</td>\n",
       "      <td>None</td>\n",
       "      <td>None</td>\n",
       "      <td>-28.879999</td>\n",
       "      <td>...</td>\n",
       "      <td>NaN</td>\n",
       "      <td>NaN</td>\n",
       "      <td>NaN</td>\n",
       "      <td>NaN</td>\n",
       "      <td>NaN</td>\n",
       "      <td>NaN</td>\n",
       "      <td>NaN</td>\n",
       "      <td>0.0</td>\n",
       "      <td>0</td>\n",
       "      <td>0</td>\n",
       "    </tr>\n",
       "    <tr>\n",
       "      <th>4</th>\n",
       "      <td>Sue Bell Cobb</td>\n",
       "      <td>AL</td>\n",
       "      <td>Governor of Alabama</td>\n",
       "      <td>Governor</td>\n",
       "      <td>Regular</td>\n",
       "      <td>6/5/18</td>\n",
       "      <td>Lost</td>\n",
       "      <td>None</td>\n",
       "      <td>None</td>\n",
       "      <td>-28.879999</td>\n",
       "      <td>...</td>\n",
       "      <td>NaN</td>\n",
       "      <td>NaN</td>\n",
       "      <td>NaN</td>\n",
       "      <td>NaN</td>\n",
       "      <td>NaN</td>\n",
       "      <td>NaN</td>\n",
       "      <td>NaN</td>\n",
       "      <td>0.0</td>\n",
       "      <td>0</td>\n",
       "      <td>0</td>\n",
       "    </tr>\n",
       "  </tbody>\n",
       "</table>\n",
       "<p>5 rows × 35 columns</p>\n",
       "</div>"
      ],
      "text/plain": [
       "                 Candidate State             District Office Type Race Type  \\\n",
       "0  Anthony White (Alabama)    AL  Governor of Alabama    Governor   Regular   \n",
       "1   Christopher Countryman    AL  Governor of Alabama    Governor   Regular   \n",
       "2    Doug \"New Blue\" Smith    AL  Governor of Alabama    Governor   Regular   \n",
       "3          James C. Fields    AL  Governor of Alabama    Governor   Regular   \n",
       "4            Sue Bell Cobb    AL  Governor of Alabama    Governor   Regular   \n",
       "\n",
       "  Race Primary Election Date Primary Status Primary Runoff Status  \\\n",
       "0                     6/5/18           Lost                  None   \n",
       "1                     6/5/18           Lost                  None   \n",
       "2                     6/5/18           Lost                  None   \n",
       "3                     6/5/18           Lost                  None   \n",
       "4                     6/5/18           Lost                  None   \n",
       "\n",
       "  General Status  Partisan Lean  ...  Our Revolution Endorsed?  \\\n",
       "0           None     -28.879999  ...                       NaN   \n",
       "1           None     -28.879999  ...                       NaN   \n",
       "2           None     -28.879999  ...                       NaN   \n",
       "3           None     -28.879999  ...                       NaN   \n",
       "4           None     -28.879999  ...                       NaN   \n",
       "\n",
       "  Justice Dems Endorsed?  PCCC Endorsed?  Indivisible Endorsed?  \\\n",
       "0                    NaN             NaN                    NaN   \n",
       "1                    NaN             NaN                    NaN   \n",
       "2                    NaN             NaN                    NaN   \n",
       "3                    NaN             NaN                    NaN   \n",
       "4                    NaN             NaN                    NaN   \n",
       "\n",
       "   WFP Endorsed? VoteVets Endorsed?  No Labels Support?  Total Endorsements  \\\n",
       "0            NaN                NaN                 NaN                 0.0   \n",
       "1            NaN                NaN                 NaN                 0.0   \n",
       "2            NaN                NaN                 NaN                 0.0   \n",
       "3            NaN                NaN                 NaN                 0.0   \n",
       "4            NaN                NaN                 NaN                 0.0   \n",
       "\n",
       "  Endorsed  Won_int  \n",
       "0        0        0  \n",
       "1        0        0  \n",
       "2        0        0  \n",
       "3        0        0  \n",
       "4        0        0  \n",
       "\n",
       "[5 rows x 35 columns]"
      ]
     },
     "execution_count": 95,
     "metadata": {},
     "output_type": "execute_result"
    }
   ],
   "source": [
    "dems.head()"
   ]
  },
  {
   "cell_type": "code",
   "execution_count": 96,
   "id": "41601a5e",
   "metadata": {},
   "outputs": [
    {
     "data": {
      "text/plain": [
       "Index(['Candidate', 'State', 'District', 'Office Type', 'Race Type',\n",
       "       'Race Primary Election Date', 'Primary Status', 'Primary Runoff Status',\n",
       "       'General Status', 'Partisan Lean', 'Primary %', 'Won Primary', 'Race',\n",
       "       'Veteran?', 'LGBTQ?', 'Elected Official?', 'Self-Funder?', 'STEM?',\n",
       "       'Obama Alum?', 'Party Support?', 'Emily Endorsed?',\n",
       "       'Gun Sense Candidate?', 'Biden Endorsed?', 'Warren Endorsed?',\n",
       "       'Sanders Endorsed?', 'Our Revolution Endorsed?',\n",
       "       'Justice Dems Endorsed?', 'PCCC Endorsed?', 'Indivisible Endorsed?',\n",
       "       'WFP Endorsed?', 'VoteVets Endorsed?', 'No Labels Support?',\n",
       "       'Total Endorsements', 'Endorsed', 'Won_int'],\n",
       "      dtype='object')"
      ]
     },
     "execution_count": 96,
     "metadata": {},
     "output_type": "execute_result"
    }
   ],
   "source": [
    "dems.columns"
   ]
  },
  {
   "cell_type": "markdown",
   "id": "507ae268",
   "metadata": {},
   "source": [
    "Justice Dems (50), Our Revolution (85), WFP (30), Indivisible (46), VoteVets (28), Emily (54), PCCC (15), Party (39), Gun Sense (193)"
   ]
  },
  {
   "cell_type": "code",
   "execution_count": 97,
   "id": "e8b57fab",
   "metadata": {},
   "outputs": [
    {
     "data": {
      "text/plain": [
       "array(['Emily Endorsed?', 'Biden Endorsed?', 'Warren Endorsed?',\n",
       "       'Sanders Endorsed?', 'Our Revolution Endorsed?',\n",
       "       'Justice Dems Endorsed?', 'PCCC Endorsed?',\n",
       "       'Indivisible Endorsed?', 'WFP Endorsed?', 'VoteVets Endorsed?',\n",
       "       'Gun Sense Candidate?', 'Party Support?'], dtype=object)"
      ]
     },
     "execution_count": 97,
     "metadata": {},
     "output_type": "execute_result"
    }
   ],
   "source": [
    "endorsement_cols"
   ]
  },
  {
   "cell_type": "markdown",
   "id": "6dc82498",
   "metadata": {},
   "source": [
    "## Inverse Propensity Weighting: Our Revolution"
   ]
  },
  {
   "cell_type": "markdown",
   "id": "0a5bb501",
   "metadata": {},
   "source": [
    "- Y (outcome): `'Won Primary'` as `'Won_int'`\n",
    "- Z (treatment): `'Our Revolution Endorsed?'`\n",
    "- X (confounders): `'Total Endorsements'` other than Our Revolution, `'Partisan Lean'`, `'Race'`, `'Veteran?'`, `'LGBTQ?'`, `'Self-Funder?'`, `'STEM?'`"
   ]
  },
  {
   "cell_type": "code",
   "execution_count": 138,
   "id": "42c2e4ef",
   "metadata": {},
   "outputs": [
    {
     "data": {
      "text/html": [
       "<div>\n",
       "<style scoped>\n",
       "    .dataframe tbody tr th:only-of-type {\n",
       "        vertical-align: middle;\n",
       "    }\n",
       "\n",
       "    .dataframe tbody tr th {\n",
       "        vertical-align: top;\n",
       "    }\n",
       "\n",
       "    .dataframe thead th {\n",
       "        text-align: right;\n",
       "    }\n",
       "</style>\n",
       "<table border=\"1\" class=\"dataframe\">\n",
       "  <thead>\n",
       "    <tr style=\"text-align: right;\">\n",
       "      <th></th>\n",
       "      <th>Won_int</th>\n",
       "      <th>Our Revolution Endorsed?</th>\n",
       "      <th>Total Endorsements</th>\n",
       "      <th>Partisan Lean</th>\n",
       "      <th>Race</th>\n",
       "      <th>Veteran?</th>\n",
       "      <th>LGBTQ?</th>\n",
       "      <th>Self-Funder?</th>\n",
       "      <th>STEM?</th>\n",
       "    </tr>\n",
       "  </thead>\n",
       "  <tbody>\n",
       "    <tr>\n",
       "      <th>0</th>\n",
       "      <td>0</td>\n",
       "      <td>1.0</td>\n",
       "      <td>2.0</td>\n",
       "      <td>-24.559999</td>\n",
       "      <td>0</td>\n",
       "      <td>0</td>\n",
       "      <td>1</td>\n",
       "      <td>0</td>\n",
       "      <td>0</td>\n",
       "    </tr>\n",
       "    <tr>\n",
       "      <th>1</th>\n",
       "      <td>1</td>\n",
       "      <td>0.0</td>\n",
       "      <td>0.0</td>\n",
       "      <td>-24.559999</td>\n",
       "      <td>1</td>\n",
       "      <td>0</td>\n",
       "      <td>0</td>\n",
       "      <td>0</td>\n",
       "      <td>1</td>\n",
       "    </tr>\n",
       "    <tr>\n",
       "      <th>2</th>\n",
       "      <td>0</td>\n",
       "      <td>0.0</td>\n",
       "      <td>0.0</td>\n",
       "      <td>25.830000</td>\n",
       "      <td>1</td>\n",
       "      <td>0</td>\n",
       "      <td>0</td>\n",
       "      <td>0</td>\n",
       "      <td>1</td>\n",
       "    </tr>\n",
       "    <tr>\n",
       "      <th>3</th>\n",
       "      <td>0</td>\n",
       "      <td>0.0</td>\n",
       "      <td>0.0</td>\n",
       "      <td>25.830000</td>\n",
       "      <td>0</td>\n",
       "      <td>1</td>\n",
       "      <td>0</td>\n",
       "      <td>0</td>\n",
       "      <td>0</td>\n",
       "    </tr>\n",
       "    <tr>\n",
       "      <th>4</th>\n",
       "      <td>0</td>\n",
       "      <td>0.0</td>\n",
       "      <td>0.0</td>\n",
       "      <td>25.830000</td>\n",
       "      <td>1</td>\n",
       "      <td>0</td>\n",
       "      <td>0</td>\n",
       "      <td>0</td>\n",
       "      <td>0</td>\n",
       "    </tr>\n",
       "  </tbody>\n",
       "</table>\n",
       "</div>"
      ],
      "text/plain": [
       "   Won_int  Our Revolution Endorsed?  Total Endorsements  Partisan Lean  Race  \\\n",
       "0        0                       1.0                 2.0     -24.559999     0   \n",
       "1        1                       0.0                 0.0     -24.559999     1   \n",
       "2        0                       0.0                 0.0      25.830000     1   \n",
       "3        0                       0.0                 0.0      25.830000     0   \n",
       "4        0                       0.0                 0.0      25.830000     1   \n",
       "\n",
       "   Veteran?  LGBTQ?  Self-Funder?  STEM?  \n",
       "0         0       1             0      0  \n",
       "1         0       0             0      1  \n",
       "2         0       0             0      1  \n",
       "3         1       0             0      0  \n",
       "4         0       0             0      0  "
      ]
     },
     "execution_count": 138,
     "metadata": {},
     "output_type": "execute_result"
    }
   ],
   "source": [
    "our_rev = dems[dems['Our Revolution Endorsed?'].notnull() == True][['Won_int', 'Our Revolution Endorsed?', 'Total Endorsements', 'Partisan Lean', 'Race', 'Veteran?', 'LGBTQ?', 'Self-Funder?', 'STEM?']].reset_index().drop(columns=['index'])\n",
    "our_rev.head()"
   ]
  },
  {
   "cell_type": "code",
   "execution_count": 139,
   "id": "ffa8c1e6",
   "metadata": {},
   "outputs": [],
   "source": [
    "# creating our treatment, outcome, and confounder arrays\n",
    "Z = our_rev['Our Revolution Endorsed?'].values\n",
    "Y = our_rev['Won_int'].values\n",
    "X = our_rev.drop(['Our Revolution Endorsed?', 'Won_int'], axis=1).to_numpy()"
   ]
  },
  {
   "cell_type": "code",
   "execution_count": 140,
   "id": "ec8d5deb",
   "metadata": {},
   "outputs": [],
   "source": [
    "# getting propensity scores through logistic regression\n",
    "lr = LR(penalty='none', max_iter=200, random_state=0)\n",
    "fit = lr.fit(X, Z)"
   ]
  },
  {
   "cell_type": "code",
   "execution_count": 141,
   "id": "9fa9a6c2",
   "metadata": {},
   "outputs": [],
   "source": [
    "# function for estimating treatment effect\n",
    "def estimate_treatment_effect(model, X, Y, Z):\n",
    "    return np.mean((Z * Y / model.predict_proba(X)[:, 1]) - ((1 - Z) * Y / model.predict_proba(X)[:, 0]))"
   ]
  },
  {
   "cell_type": "code",
   "execution_count": 142,
   "id": "93306c13",
   "metadata": {},
   "outputs": [
    {
     "data": {
      "text/plain": [
       "-0.2551258588659646"
      ]
     },
     "execution_count": 142,
     "metadata": {},
     "output_type": "execute_result"
    }
   ],
   "source": [
    "estimate_treatment_effect(fit, X, Y, Z)"
   ]
  },
  {
   "cell_type": "markdown",
   "id": "600ef9b1",
   "metadata": {},
   "source": [
    "Since this is a negative number, the treatment (being endorsed by `Our Revolution`) caused the probability of winning to decrease."
   ]
  },
  {
   "cell_type": "code",
   "execution_count": 143,
   "id": "71acf1bc",
   "metadata": {},
   "outputs": [
    {
     "data": {
      "text/plain": [
       "0.0991596638655462"
      ]
     },
     "execution_count": 143,
     "metadata": {},
     "output_type": "execute_result"
    }
   ],
   "source": [
    "# naive estimator from HW4, not sure if we need for this\n",
    "# the naive estimator does not account for confounders!\n",
    "# Interesting... once we control for confounders, we observe the opposite effect (positive to negative)\n",
    "np.mean(Y[Z == 1] * Z[Z == 1]) - np.mean(Y[Z == 0] * (1 - Z[Z == 0]))"
   ]
  },
  {
   "cell_type": "markdown",
   "id": "f6e9a52d",
   "metadata": {},
   "source": [
    "### Adding the propensity scores"
   ]
  },
  {
   "cell_type": "code",
   "execution_count": 144,
   "id": "9927bc2b",
   "metadata": {},
   "outputs": [
    {
     "data": {
      "text/html": [
       "<div>\n",
       "<style scoped>\n",
       "    .dataframe tbody tr th:only-of-type {\n",
       "        vertical-align: middle;\n",
       "    }\n",
       "\n",
       "    .dataframe tbody tr th {\n",
       "        vertical-align: top;\n",
       "    }\n",
       "\n",
       "    .dataframe thead th {\n",
       "        text-align: right;\n",
       "    }\n",
       "</style>\n",
       "<table border=\"1\" class=\"dataframe\">\n",
       "  <thead>\n",
       "    <tr style=\"text-align: right;\">\n",
       "      <th></th>\n",
       "      <th>Won_int</th>\n",
       "      <th>Our Revolution Endorsed?</th>\n",
       "      <th>Total Endorsements</th>\n",
       "      <th>Partisan Lean</th>\n",
       "      <th>Race</th>\n",
       "      <th>Veteran?</th>\n",
       "      <th>LGBTQ?</th>\n",
       "      <th>Self-Funder?</th>\n",
       "      <th>STEM?</th>\n",
       "      <th>pscore</th>\n",
       "    </tr>\n",
       "  </thead>\n",
       "  <tbody>\n",
       "    <tr>\n",
       "      <th>0</th>\n",
       "      <td>0</td>\n",
       "      <td>1.0</td>\n",
       "      <td>2.0</td>\n",
       "      <td>-24.559999</td>\n",
       "      <td>0</td>\n",
       "      <td>0</td>\n",
       "      <td>1</td>\n",
       "      <td>0</td>\n",
       "      <td>0</td>\n",
       "      <td>0.494445</td>\n",
       "    </tr>\n",
       "    <tr>\n",
       "      <th>1</th>\n",
       "      <td>1</td>\n",
       "      <td>0.0</td>\n",
       "      <td>0.0</td>\n",
       "      <td>-24.559999</td>\n",
       "      <td>1</td>\n",
       "      <td>0</td>\n",
       "      <td>0</td>\n",
       "      <td>0</td>\n",
       "      <td>1</td>\n",
       "      <td>0.057067</td>\n",
       "    </tr>\n",
       "    <tr>\n",
       "      <th>2</th>\n",
       "      <td>0</td>\n",
       "      <td>0.0</td>\n",
       "      <td>0.0</td>\n",
       "      <td>25.830000</td>\n",
       "      <td>1</td>\n",
       "      <td>0</td>\n",
       "      <td>0</td>\n",
       "      <td>0</td>\n",
       "      <td>1</td>\n",
       "      <td>0.012697</td>\n",
       "    </tr>\n",
       "    <tr>\n",
       "      <th>3</th>\n",
       "      <td>0</td>\n",
       "      <td>0.0</td>\n",
       "      <td>0.0</td>\n",
       "      <td>25.830000</td>\n",
       "      <td>0</td>\n",
       "      <td>1</td>\n",
       "      <td>0</td>\n",
       "      <td>0</td>\n",
       "      <td>0</td>\n",
       "      <td>0.003617</td>\n",
       "    </tr>\n",
       "    <tr>\n",
       "      <th>4</th>\n",
       "      <td>0</td>\n",
       "      <td>0.0</td>\n",
       "      <td>0.0</td>\n",
       "      <td>25.830000</td>\n",
       "      <td>1</td>\n",
       "      <td>0</td>\n",
       "      <td>0</td>\n",
       "      <td>0</td>\n",
       "      <td>0</td>\n",
       "      <td>0.015998</td>\n",
       "    </tr>\n",
       "  </tbody>\n",
       "</table>\n",
       "</div>"
      ],
      "text/plain": [
       "   Won_int  Our Revolution Endorsed?  Total Endorsements  Partisan Lean  Race  \\\n",
       "0        0                       1.0                 2.0     -24.559999     0   \n",
       "1        1                       0.0                 0.0     -24.559999     1   \n",
       "2        0                       0.0                 0.0      25.830000     1   \n",
       "3        0                       0.0                 0.0      25.830000     0   \n",
       "4        0                       0.0                 0.0      25.830000     1   \n",
       "\n",
       "   Veteran?  LGBTQ?  Self-Funder?  STEM?    pscore  \n",
       "0         0       1             0      0  0.494445  \n",
       "1         0       0             0      1  0.057067  \n",
       "2         0       0             0      1  0.012697  \n",
       "3         1       0             0      0  0.003617  \n",
       "4         0       0             0      0  0.015998  "
      ]
     },
     "execution_count": 144,
     "metadata": {},
     "output_type": "execute_result"
    }
   ],
   "source": [
    "our_rev['pscore'] = fit.predict_proba(X)[:, 1]\n",
    "our_rev.head()"
   ]
  },
  {
   "cell_type": "code",
   "execution_count": 145,
   "id": "1f09c314",
   "metadata": {},
   "outputs": [
    {
     "data": {
      "image/png": "[encoded data removed]",
      "text/plain": [
       "<Figure size 432x288 with 1 Axes>"
      ]
     },
     "metadata": {
      "needs_background": "light"
     },
     "output_type": "display_data"
    }
   ],
   "source": [
    "plt.hist(our_rev[our_rev['Our Revolution Endorsed?'] == 1]['pscore']);\n",
    "plt.title(\"Propensity score of people receiving the treatment (Our Revolution Endorsement)\");"
   ]
  },
  {
   "cell_type": "code",
   "execution_count": 146,
   "id": "4a796435",
   "metadata": {},
   "outputs": [
    {
     "data": {
      "image/png": "[encoded data removed]",
      "text/plain": [
       "<Figure size 432x288 with 1 Axes>"
      ]
     },
     "metadata": {
      "needs_background": "light"
     },
     "output_type": "display_data"
    }
   ],
   "source": [
    "plt.hist(our_rev[our_rev['Our Revolution Endorsed?'] == 0]['pscore']);\n",
    "plt.title(\"Propensity score of people receiving the treatment (Our Revolution Endorsement)\");"
   ]
  },
  {
   "cell_type": "markdown",
   "id": "c75c73d5",
   "metadata": {},
   "source": [
    "### IPW Estimate"
   ]
  },
  {
   "cell_type": "code",
   "execution_count": 147,
   "id": "b8f411e2",
   "metadata": {},
   "outputs": [
    {
     "data": {
      "text/plain": [
       "-0.25512585886596467"
      ]
     },
     "execution_count": 147,
     "metadata": {},
     "output_type": "execute_result"
    }
   ],
   "source": [
    "reweighted_treated = (our_rev[our_rev['Our Revolution Endorsed?'] == 1]['Won_int'] / our_rev[our_rev['Our Revolution Endorsed?'] == 1]['pscore']).sum()\n",
    "reweighted_control = (our_rev[our_rev['Our Revolution Endorsed?'] == 0]['Won_int'] / (1 - our_rev[our_rev['Our Revolution Endorsed?'] == 0]['pscore'])).sum()\n",
    "ipw_estimate = (reweighted_treated - reweighted_control) / len(our_rev)\n",
    "ipw_estimate"
   ]
  },
  {
   "cell_type": "code",
   "execution_count": 148,
   "id": "95186ff9",
   "metadata": {},
   "outputs": [
    {
     "data": {
      "text/plain": [
       "-0.10448229346028487"
      ]
     },
     "execution_count": 148,
     "metadata": {},
     "output_type": "execute_result"
    }
   ],
   "source": [
    "obs_filt = our_rev[our_rev['pscore'].between(0.1, 0.9)]\n",
    "reweighted_treated_filt = (our_rev[our_rev['Our Revolution Endorsed?'] == 1]['Won_int'] / obs_filt[obs_filt['Our Revolution Endorsed?'] == 1]['pscore']).sum()\n",
    "reweighted_control_filt = (obs_filt[obs_filt['Our Revolution Endorsed?'] == 0]['Won_int'] / (1 - obs_filt[obs_filt['Our Revolution Endorsed?'] == 0]['pscore'])).sum()\n",
    "trimmed_ipw_estimate = (reweighted_treated_filt - reweighted_control_filt) / len(our_rev)\n",
    "trimmed_ipw_estimate"
   ]
  },
  {
   "cell_type": "markdown",
   "id": "7f908537",
   "metadata": {},
   "source": [
    "## Inverse Propensity Weighting: Party Support"
   ]
  },
  {
   "cell_type": "code",
   "execution_count": null,
   "id": "4dccb6b9",
   "metadata": {},
   "outputs": [],
   "source": []
  }
 ],
 "metadata": {
  "kernelspec": {
   "display_name": "Python 3 (ipykernel)",
   "language": "python",
   "name": "python3"
  },
  "language_info": {
   "codemirror_mode": {
    "name": "ipython",
    "version": 3
   },
   "file_extension": ".py",
   "mimetype": "text/x-python",
   "name": "python",
   "nbconvert_exporter": "python",
   "pygments_lexer": "ipython3",
   "version": "3.9.12"
  }
 },
 "nbformat": 4,
 "nbformat_minor": 5
}
