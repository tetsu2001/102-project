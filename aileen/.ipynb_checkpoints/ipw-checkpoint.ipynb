{
 "cells": [
  {
   "cell_type": "code",
   "execution_count": 685,
   "id": "8b082031",
   "metadata": {},
   "outputs": [],
   "source": [
    "import numpy as np\n",
    "import pandas as pd\n",
    "\n",
    "%matplotlib inline\n",
    "import matplotlib.pyplot as plt\n",
    "import seaborn as sns\n",
    "\n",
    "from sklearn.linear_model import LogisticRegression as LR\n",
    "from sklearn.preprocessing import OneHotEncoder"
   ]
  },
  {
   "cell_type": "code",
   "execution_count": 686,
   "id": "df91d33d",
   "metadata": {},
   "outputs": [
    {
     "data": {
      "text/html": [
       "<div>\n",
       "<style scoped>\n",
       "    .dataframe tbody tr th:only-of-type {\n",
       "        vertical-align: middle;\n",
       "    }\n",
       "\n",
       "    .dataframe tbody tr th {\n",
       "        vertical-align: top;\n",
       "    }\n",
       "\n",
       "    .dataframe thead th {\n",
       "        text-align: right;\n",
       "    }\n",
       "</style>\n",
       "<table border=\"1\" class=\"dataframe\">\n",
       "  <thead>\n",
       "    <tr style=\"text-align: right;\">\n",
       "      <th></th>\n",
       "      <th>Candidate</th>\n",
       "      <th>State</th>\n",
       "      <th>District</th>\n",
       "      <th>Office Type</th>\n",
       "      <th>Race Type</th>\n",
       "      <th>Race Primary Election Date</th>\n",
       "      <th>Primary Status</th>\n",
       "      <th>Primary Runoff Status</th>\n",
       "      <th>General Status</th>\n",
       "      <th>Partisan Lean</th>\n",
       "      <th>...</th>\n",
       "      <th>Position.on.Federal.K.12.Education.Policy</th>\n",
       "      <th>Position.on.Climate.Change</th>\n",
       "      <th>Position.on.Campaign.Finance.Reform</th>\n",
       "      <th>Position.on.Legalization.Decriminalization.of.Marijuana.Policy</th>\n",
       "      <th>Position.on.Defense.Spending</th>\n",
       "      <th>Position.on.Handling.Terrorism.Abroad</th>\n",
       "      <th>Position.on.Russia</th>\n",
       "      <th>Party.Category</th>\n",
       "      <th>Female</th>\n",
       "      <th>SinglePayer</th>\n",
       "    </tr>\n",
       "  </thead>\n",
       "  <tbody>\n",
       "    <tr>\n",
       "      <th>0</th>\n",
       "      <td>Lizzetta Hill McConnell</td>\n",
       "      <td>AL</td>\n",
       "      <td>U.S. House Alabama District 1</td>\n",
       "      <td>Representative</td>\n",
       "      <td>Regular</td>\n",
       "      <td>6/5/18</td>\n",
       "      <td>0</td>\n",
       "      <td>None</td>\n",
       "      <td>None</td>\n",
       "      <td>-30.680000</td>\n",
       "      <td>...</td>\n",
       "      <td>Candidate supports federal proposals for major...</td>\n",
       "      <td>Candidate supports regulations and measures to...</td>\n",
       "      <td>Candidate provides no information</td>\n",
       "      <td>Candidate supports legalization/decriminalizat...</td>\n",
       "      <td>Candidate provides no information</td>\n",
       "      <td>Candidate provides no information</td>\n",
       "      <td>Candidate provides no information</td>\n",
       "      <td>Establishment Democrat</td>\n",
       "      <td>1.0</td>\n",
       "      <td>0</td>\n",
       "    </tr>\n",
       "    <tr>\n",
       "      <th>1</th>\n",
       "      <td>Robert Kennedy Jr.</td>\n",
       "      <td>AL</td>\n",
       "      <td>U.S. House Alabama District 1</td>\n",
       "      <td>Representative</td>\n",
       "      <td>Regular</td>\n",
       "      <td>6/5/18</td>\n",
       "      <td>1</td>\n",
       "      <td>None</td>\n",
       "      <td>On the Ballot</td>\n",
       "      <td>-30.680000</td>\n",
       "      <td>...</td>\n",
       "      <td>Candidate provides no information</td>\n",
       "      <td>Candidate provides no information</td>\n",
       "      <td>Candidate provides no information</td>\n",
       "      <td>Candidate provides no information</td>\n",
       "      <td>Candidate provides no information</td>\n",
       "      <td>Candidate provides no information</td>\n",
       "      <td>Candidate provides no information</td>\n",
       "      <td>Establishment Democrat</td>\n",
       "      <td>0.0</td>\n",
       "      <td>0</td>\n",
       "    </tr>\n",
       "    <tr>\n",
       "      <th>2</th>\n",
       "      <td>Audri Scott Williams</td>\n",
       "      <td>AL</td>\n",
       "      <td>U.S. House Alabama District 2</td>\n",
       "      <td>Representative</td>\n",
       "      <td>Regular</td>\n",
       "      <td>6/5/18</td>\n",
       "      <td>0</td>\n",
       "      <td>None</td>\n",
       "      <td>None</td>\n",
       "      <td>-33.080002</td>\n",
       "      <td>...</td>\n",
       "      <td>Candidate supports federal proposals for major...</td>\n",
       "      <td>Candidate supports regulations and measures to...</td>\n",
       "      <td>Candidate provides no information</td>\n",
       "      <td>Candidate provides no information</td>\n",
       "      <td>Candidate provides no information</td>\n",
       "      <td>Candidate provides no information</td>\n",
       "      <td>Candidate provides no information</td>\n",
       "      <td>Progressive Democrat</td>\n",
       "      <td>1.0</td>\n",
       "      <td>1</td>\n",
       "    </tr>\n",
       "    <tr>\n",
       "      <th>3</th>\n",
       "      <td>Tabitha Isner</td>\n",
       "      <td>AL</td>\n",
       "      <td>U.S. House Alabama District 2</td>\n",
       "      <td>Representative</td>\n",
       "      <td>Regular</td>\n",
       "      <td>6/5/18</td>\n",
       "      <td>1</td>\n",
       "      <td>None</td>\n",
       "      <td>On the Ballot</td>\n",
       "      <td>-33.080002</td>\n",
       "      <td>...</td>\n",
       "      <td>Candidate supports federal proposals for major...</td>\n",
       "      <td>Candidate provides no information</td>\n",
       "      <td>Candidate provides no information</td>\n",
       "      <td>Candidate provides no information</td>\n",
       "      <td>Candidate opposes reductions in military spending</td>\n",
       "      <td>Candidate provides no information</td>\n",
       "      <td>Candidate provides no information</td>\n",
       "      <td>Progressive Democrat</td>\n",
       "      <td>1.0</td>\n",
       "      <td>1</td>\n",
       "    </tr>\n",
       "    <tr>\n",
       "      <th>4</th>\n",
       "      <td>Adia McClellan Winfrey</td>\n",
       "      <td>AL</td>\n",
       "      <td>U.S. House Alabama District 3</td>\n",
       "      <td>Representative</td>\n",
       "      <td>Regular</td>\n",
       "      <td>6/5/18</td>\n",
       "      <td>0</td>\n",
       "      <td>None</td>\n",
       "      <td>None</td>\n",
       "      <td>-33.660000</td>\n",
       "      <td>...</td>\n",
       "      <td>Candidate supports federal proposals for major...</td>\n",
       "      <td>Candidate provides no information</td>\n",
       "      <td>Candidate provides no information</td>\n",
       "      <td>Candidate provides no information</td>\n",
       "      <td>Candidate provides no information</td>\n",
       "      <td>Candidate provides no information</td>\n",
       "      <td>Candidate provides no information</td>\n",
       "      <td>Other</td>\n",
       "      <td>1.0</td>\n",
       "      <td>0</td>\n",
       "    </tr>\n",
       "  </tbody>\n",
       "</table>\n",
       "<p>5 rows × 59 columns</p>\n",
       "</div>"
      ],
      "text/plain": [
       "                 Candidate State                       District  \\\n",
       "0  Lizzetta Hill McConnell    AL  U.S. House Alabama District 1   \n",
       "1       Robert Kennedy Jr.    AL  U.S. House Alabama District 1   \n",
       "2     Audri Scott Williams    AL  U.S. House Alabama District 2   \n",
       "3            Tabitha Isner    AL  U.S. House Alabama District 2   \n",
       "4   Adia McClellan Winfrey    AL  U.S. House Alabama District 3   \n",
       "\n",
       "      Office Type Race Type Race Primary Election Date  Primary Status  \\\n",
       "0  Representative   Regular                     6/5/18               0   \n",
       "1  Representative   Regular                     6/5/18               1   \n",
       "2  Representative   Regular                     6/5/18               0   \n",
       "3  Representative   Regular                     6/5/18               1   \n",
       "4  Representative   Regular                     6/5/18               0   \n",
       "\n",
       "  Primary Runoff Status General Status  Partisan Lean  ...  \\\n",
       "0                  None           None     -30.680000  ...   \n",
       "1                  None  On the Ballot     -30.680000  ...   \n",
       "2                  None           None     -33.080002  ...   \n",
       "3                  None  On the Ballot     -33.080002  ...   \n",
       "4                  None           None     -33.660000  ...   \n",
       "\n",
       "           Position.on.Federal.K.12.Education.Policy  \\\n",
       "0  Candidate supports federal proposals for major...   \n",
       "1                  Candidate provides no information   \n",
       "2  Candidate supports federal proposals for major...   \n",
       "3  Candidate supports federal proposals for major...   \n",
       "4  Candidate supports federal proposals for major...   \n",
       "\n",
       "                          Position.on.Climate.Change  \\\n",
       "0  Candidate supports regulations and measures to...   \n",
       "1                  Candidate provides no information   \n",
       "2  Candidate supports regulations and measures to...   \n",
       "3                  Candidate provides no information   \n",
       "4                  Candidate provides no information   \n",
       "\n",
       "   Position.on.Campaign.Finance.Reform  \\\n",
       "0    Candidate provides no information   \n",
       "1    Candidate provides no information   \n",
       "2    Candidate provides no information   \n",
       "3    Candidate provides no information   \n",
       "4    Candidate provides no information   \n",
       "\n",
       "   Position.on.Legalization.Decriminalization.of.Marijuana.Policy  \\\n",
       "0  Candidate supports legalization/decriminalizat...                \n",
       "1                  Candidate provides no information                \n",
       "2                  Candidate provides no information                \n",
       "3                  Candidate provides no information                \n",
       "4                  Candidate provides no information                \n",
       "\n",
       "                        Position.on.Defense.Spending  \\\n",
       "0                  Candidate provides no information   \n",
       "1                  Candidate provides no information   \n",
       "2                  Candidate provides no information   \n",
       "3  Candidate opposes reductions in military spending   \n",
       "4                  Candidate provides no information   \n",
       "\n",
       "   Position.on.Handling.Terrorism.Abroad                 Position.on.Russia  \\\n",
       "0      Candidate provides no information  Candidate provides no information   \n",
       "1      Candidate provides no information  Candidate provides no information   \n",
       "2      Candidate provides no information  Candidate provides no information   \n",
       "3      Candidate provides no information  Candidate provides no information   \n",
       "4      Candidate provides no information  Candidate provides no information   \n",
       "\n",
       "           Party.Category  Female  SinglePayer  \n",
       "0  Establishment Democrat     1.0            0  \n",
       "1  Establishment Democrat     0.0            0  \n",
       "2    Progressive Democrat     1.0            1  \n",
       "3    Progressive Democrat     1.0            1  \n",
       "4                   Other     1.0            0  \n",
       "\n",
       "[5 rows x 59 columns]"
      ]
     },
     "execution_count": 686,
     "metadata": {},
     "output_type": "execute_result"
    }
   ],
   "source": [
    "import_df = pd.read_csv('../datasets/all_merged.csv').drop(columns=['Marital.Status'])\n",
    "import_df.head()"
   ]
  },
  {
   "cell_type": "code",
   "execution_count": 687,
   "id": "ce9b614d",
   "metadata": {},
   "outputs": [
    {
     "data": {
      "text/html": [
       "<div>\n",
       "<style scoped>\n",
       "    .dataframe tbody tr th:only-of-type {\n",
       "        vertical-align: middle;\n",
       "    }\n",
       "\n",
       "    .dataframe tbody tr th {\n",
       "        vertical-align: top;\n",
       "    }\n",
       "\n",
       "    .dataframe thead th {\n",
       "        text-align: right;\n",
       "    }\n",
       "</style>\n",
       "<table border=\"1\" class=\"dataframe\">\n",
       "  <thead>\n",
       "    <tr style=\"text-align: right;\">\n",
       "      <th></th>\n",
       "      <th>Candidate</th>\n",
       "      <th>State</th>\n",
       "      <th>District</th>\n",
       "      <th>Office Type</th>\n",
       "      <th>Race Type</th>\n",
       "      <th>Race Primary Election Date</th>\n",
       "      <th>Primary Status</th>\n",
       "      <th>Primary Runoff Status</th>\n",
       "      <th>General Status</th>\n",
       "      <th>Partisan Lean</th>\n",
       "      <th>...</th>\n",
       "      <th>Position.on.Defense.Spending_Candidate supports a reduction in military spending</th>\n",
       "      <th>Position.on.Handling.Terrorism.Abroad_Candidate provides complicated/complex/unclear position</th>\n",
       "      <th>Position.on.Handling.Terrorism.Abroad_Candidate supports calls for increased American intervention to combat terrorism</th>\n",
       "      <th>Position.on.Handling.Terrorism.Abroad_Candidate supports status quo efforts to combat terrorism</th>\n",
       "      <th>Position.on.Russia_Candidate identifies Russia as political ally of the United States</th>\n",
       "      <th>Position.on.Russia_Candidate notes Russia as political enemy of the United States</th>\n",
       "      <th>Position.on.Russia_Candidate provides complicated/complex/unclear position</th>\n",
       "      <th>Party.Category_Establishment Democrat</th>\n",
       "      <th>Party.Category_Moderate Democrat</th>\n",
       "      <th>Party.Category_Progressive Democrat</th>\n",
       "    </tr>\n",
       "  </thead>\n",
       "  <tbody>\n",
       "    <tr>\n",
       "      <th>0</th>\n",
       "      <td>Lizzetta Hill McConnell</td>\n",
       "      <td>AL</td>\n",
       "      <td>U.S. House Alabama District 1</td>\n",
       "      <td>Representative</td>\n",
       "      <td>Regular</td>\n",
       "      <td>6/5/18</td>\n",
       "      <td>0</td>\n",
       "      <td>None</td>\n",
       "      <td>None</td>\n",
       "      <td>-30.680000</td>\n",
       "      <td>...</td>\n",
       "      <td>0.0</td>\n",
       "      <td>0.0</td>\n",
       "      <td>0.0</td>\n",
       "      <td>0.0</td>\n",
       "      <td>0.0</td>\n",
       "      <td>0.0</td>\n",
       "      <td>0.0</td>\n",
       "      <td>1.0</td>\n",
       "      <td>0.0</td>\n",
       "      <td>0.0</td>\n",
       "    </tr>\n",
       "    <tr>\n",
       "      <th>1</th>\n",
       "      <td>Robert Kennedy Jr.</td>\n",
       "      <td>AL</td>\n",
       "      <td>U.S. House Alabama District 1</td>\n",
       "      <td>Representative</td>\n",
       "      <td>Regular</td>\n",
       "      <td>6/5/18</td>\n",
       "      <td>1</td>\n",
       "      <td>None</td>\n",
       "      <td>On the Ballot</td>\n",
       "      <td>-30.680000</td>\n",
       "      <td>...</td>\n",
       "      <td>0.0</td>\n",
       "      <td>0.0</td>\n",
       "      <td>0.0</td>\n",
       "      <td>0.0</td>\n",
       "      <td>0.0</td>\n",
       "      <td>0.0</td>\n",
       "      <td>0.0</td>\n",
       "      <td>1.0</td>\n",
       "      <td>0.0</td>\n",
       "      <td>0.0</td>\n",
       "    </tr>\n",
       "    <tr>\n",
       "      <th>2</th>\n",
       "      <td>Audri Scott Williams</td>\n",
       "      <td>AL</td>\n",
       "      <td>U.S. House Alabama District 2</td>\n",
       "      <td>Representative</td>\n",
       "      <td>Regular</td>\n",
       "      <td>6/5/18</td>\n",
       "      <td>0</td>\n",
       "      <td>None</td>\n",
       "      <td>None</td>\n",
       "      <td>-33.080002</td>\n",
       "      <td>...</td>\n",
       "      <td>0.0</td>\n",
       "      <td>0.0</td>\n",
       "      <td>0.0</td>\n",
       "      <td>0.0</td>\n",
       "      <td>0.0</td>\n",
       "      <td>0.0</td>\n",
       "      <td>0.0</td>\n",
       "      <td>0.0</td>\n",
       "      <td>0.0</td>\n",
       "      <td>1.0</td>\n",
       "    </tr>\n",
       "    <tr>\n",
       "      <th>3</th>\n",
       "      <td>Tabitha Isner</td>\n",
       "      <td>AL</td>\n",
       "      <td>U.S. House Alabama District 2</td>\n",
       "      <td>Representative</td>\n",
       "      <td>Regular</td>\n",
       "      <td>6/5/18</td>\n",
       "      <td>1</td>\n",
       "      <td>None</td>\n",
       "      <td>On the Ballot</td>\n",
       "      <td>-33.080002</td>\n",
       "      <td>...</td>\n",
       "      <td>0.0</td>\n",
       "      <td>0.0</td>\n",
       "      <td>0.0</td>\n",
       "      <td>0.0</td>\n",
       "      <td>0.0</td>\n",
       "      <td>0.0</td>\n",
       "      <td>0.0</td>\n",
       "      <td>0.0</td>\n",
       "      <td>0.0</td>\n",
       "      <td>1.0</td>\n",
       "    </tr>\n",
       "    <tr>\n",
       "      <th>4</th>\n",
       "      <td>Adia McClellan Winfrey</td>\n",
       "      <td>AL</td>\n",
       "      <td>U.S. House Alabama District 3</td>\n",
       "      <td>Representative</td>\n",
       "      <td>Regular</td>\n",
       "      <td>6/5/18</td>\n",
       "      <td>0</td>\n",
       "      <td>None</td>\n",
       "      <td>None</td>\n",
       "      <td>-33.660000</td>\n",
       "      <td>...</td>\n",
       "      <td>0.0</td>\n",
       "      <td>0.0</td>\n",
       "      <td>0.0</td>\n",
       "      <td>0.0</td>\n",
       "      <td>0.0</td>\n",
       "      <td>0.0</td>\n",
       "      <td>0.0</td>\n",
       "      <td>0.0</td>\n",
       "      <td>0.0</td>\n",
       "      <td>0.0</td>\n",
       "    </tr>\n",
       "  </tbody>\n",
       "</table>\n",
       "<p>5 rows × 94 columns</p>\n",
       "</div>"
      ],
      "text/plain": [
       "                 Candidate State                       District  \\\n",
       "0  Lizzetta Hill McConnell    AL  U.S. House Alabama District 1   \n",
       "1       Robert Kennedy Jr.    AL  U.S. House Alabama District 1   \n",
       "2     Audri Scott Williams    AL  U.S. House Alabama District 2   \n",
       "3            Tabitha Isner    AL  U.S. House Alabama District 2   \n",
       "4   Adia McClellan Winfrey    AL  U.S. House Alabama District 3   \n",
       "\n",
       "      Office Type Race Type Race Primary Election Date  Primary Status  \\\n",
       "0  Representative   Regular                     6/5/18               0   \n",
       "1  Representative   Regular                     6/5/18               1   \n",
       "2  Representative   Regular                     6/5/18               0   \n",
       "3  Representative   Regular                     6/5/18               1   \n",
       "4  Representative   Regular                     6/5/18               0   \n",
       "\n",
       "  Primary Runoff Status General Status  Partisan Lean  ...  \\\n",
       "0                  None           None     -30.680000  ...   \n",
       "1                  None  On the Ballot     -30.680000  ...   \n",
       "2                  None           None     -33.080002  ...   \n",
       "3                  None  On the Ballot     -33.080002  ...   \n",
       "4                  None           None     -33.660000  ...   \n",
       "\n",
       "   Position.on.Defense.Spending_Candidate supports a reduction in military spending  \\\n",
       "0                                                0.0                                  \n",
       "1                                                0.0                                  \n",
       "2                                                0.0                                  \n",
       "3                                                0.0                                  \n",
       "4                                                0.0                                  \n",
       "\n",
       "   Position.on.Handling.Terrorism.Abroad_Candidate provides complicated/complex/unclear position  \\\n",
       "0                                                0.0                                               \n",
       "1                                                0.0                                               \n",
       "2                                                0.0                                               \n",
       "3                                                0.0                                               \n",
       "4                                                0.0                                               \n",
       "\n",
       "   Position.on.Handling.Terrorism.Abroad_Candidate supports calls for increased American intervention to combat terrorism  \\\n",
       "0                                                0.0                                                                        \n",
       "1                                                0.0                                                                        \n",
       "2                                                0.0                                                                        \n",
       "3                                                0.0                                                                        \n",
       "4                                                0.0                                                                        \n",
       "\n",
       "   Position.on.Handling.Terrorism.Abroad_Candidate supports status quo efforts to combat terrorism  \\\n",
       "0                                                0.0                                                 \n",
       "1                                                0.0                                                 \n",
       "2                                                0.0                                                 \n",
       "3                                                0.0                                                 \n",
       "4                                                0.0                                                 \n",
       "\n",
       "   Position.on.Russia_Candidate identifies Russia as political ally of the United States  \\\n",
       "0                                                0.0                                       \n",
       "1                                                0.0                                       \n",
       "2                                                0.0                                       \n",
       "3                                                0.0                                       \n",
       "4                                                0.0                                       \n",
       "\n",
       "   Position.on.Russia_Candidate notes Russia as political enemy of the United States  \\\n",
       "0                                                0.0                                   \n",
       "1                                                0.0                                   \n",
       "2                                                0.0                                   \n",
       "3                                                0.0                                   \n",
       "4                                                0.0                                   \n",
       "\n",
       "   Position.on.Russia_Candidate provides complicated/complex/unclear position  \\\n",
       "0                                                0.0                            \n",
       "1                                                0.0                            \n",
       "2                                                0.0                            \n",
       "3                                                0.0                            \n",
       "4                                                0.0                            \n",
       "\n",
       "  Party.Category_Establishment Democrat  Party.Category_Moderate Democrat  \\\n",
       "0                                   1.0                               0.0   \n",
       "1                                   1.0                               0.0   \n",
       "2                                   0.0                               0.0   \n",
       "3                                   0.0                               0.0   \n",
       "4                                   0.0                               0.0   \n",
       "\n",
       "   Party.Category_Progressive Democrat  \n",
       "0                                  0.0  \n",
       "1                                  0.0  \n",
       "2                                  1.0  \n",
       "3                                  1.0  \n",
       "4                                  0.0  \n",
       "\n",
       "[5 rows x 94 columns]"
      ]
     },
     "execution_count": 687,
     "metadata": {},
     "output_type": "execute_result"
    }
   ],
   "source": [
    "cat_cols = ['Education', 'Position.on.Affordable.Care.Act..ObamaCare.', \n",
    "           'Position.on.Minimum.Wage', 'Position.on.Federal.Taxes', 'Position.on.Business.Regulations', \n",
    "           'Position.on.National.Debt.Deficit', 'Position.on.Social.Security', 'Position.on.Gun.Control', \n",
    "           'Position.on.Immigration', 'Position.on.Abortion', 'Position.on.Criminal.Justice.Reform', \n",
    "           'Position.on.Federal.K.12.Education.Policy', 'Position.on.Climate.Change', 'Position.on.Campaign.Finance.Reform', \n",
    "           'Position.on.Legalization.Decriminalization.of.Marijuana.Policy', 'Position.on.Defense.Spending', \n",
    "           'Position.on.Handling.Terrorism.Abroad', 'Position.on.Russia', 'Party.Category']\n",
    "\n",
    "enc = OneHotEncoder()\n",
    "enc.fit(import_df[cat_cols])\n",
    "\n",
    "cat_df = pd.DataFrame(data=enc.transform(import_df[cat_cols]).toarray(), columns=enc.get_feature_names_out(cat_cols))\n",
    "cat_df = cat_df.drop(columns=[s for s in cat_df.columns if 'Candidate provides no information' in s] + \n",
    "                     [\"Education_Associate's or less\", \"Party.Category_Other\"])\n",
    "\n",
    "df = pd.concat([import_df.drop(columns=cat_cols), cat_df], axis=1)\n",
    "df.head()"
   ]
  },
  {
   "cell_type": "code",
   "execution_count": 688,
   "id": "d99476bd",
   "metadata": {},
   "outputs": [],
   "source": [
    "endorsement_cols = ['Party Support?', 'Emily Endorsed?', 'Gun Sense Candidate?', 'Biden Endorsed?', \n",
    "                    'Warren Endorsed?', 'Sanders Endorsed?', 'Our Revolution Endorsed?', 'Justice Dems Endorsed?', \n",
    "                    'PCCC Endorsed?', 'Indivisible Endorsed?', 'WFP Endorsed?', 'VoteVets Endorsed?', 'No Labels Support?']"
   ]
  },
  {
   "cell_type": "markdown",
   "id": "44c6f067",
   "metadata": {},
   "source": [
    "## Functions"
   ]
  },
  {
   "cell_type": "code",
   "execution_count": 689,
   "id": "183d5b0b",
   "metadata": {},
   "outputs": [],
   "source": [
    "def ipw(df, treatment):\n",
    "    endorsements = endorsement_cols.copy()\n",
    "    if treatment in endorsements:\n",
    "        endorsements.remove(treatment)\n",
    "    output = df[df[treatment].notnull() == True].reset_index().drop(columns=['index', 'Candidate', 'State', 'District', 'total_runners', \n",
    "                                                                            'Office Type', 'Race Type', 'Race Primary Election Date', \n",
    "                                                                            'Primary Status', 'Primary Runoff Status', 'General Status', \n",
    "                                                                            'Primary %', 'Elected Official?', 'Self-Funder?', 'Obama Alum?', \n",
    "                                                                            'Endorsed'] + endorsements).dropna()\n",
    "    output['Total Other Endorsements'] = output['Total Endorsements'] - output[treatment]\n",
    "    output = output.drop(columns=['Total Endorsements'])[output['receipts'].notnull()]\n",
    "    return output\n",
    "\n",
    "# creating our treatment, outcome, and confounder arrays\n",
    "def split(df, treatment):\n",
    "    Z = df[treatment].values\n",
    "    Y = df['Won Primary'].values\n",
    "    X = df.drop([treatment, 'Won Primary'], axis=1).to_numpy()\n",
    "    return X, Y, Z\n",
    "\n",
    "# getting propensity scores through logistic regression\n",
    "def logreg(X, Z):\n",
    "    lr = LR(penalty='none', max_iter=200, random_state=0)\n",
    "    fit = lr.fit(X, Z)\n",
    "    return fit\n",
    "\n",
    "# function for estimating treatment effect\n",
    "def estimate_treatment_effect(model, X, Y, Z):\n",
    "    return np.mean((Z * Y / model.predict_proba(X)[:, 1]) - ((1 - Z) * Y / model.predict_proba(X)[:, 0]))\n",
    "\n",
    "# bootstrapping ATE estimates\n",
    "def draw_tau_hat(data, treatment, random_state=420):\n",
    "    \"\"\"Returns a single bootstrapped estimate of the ATE.\"\"\"\n",
    "    \n",
    "    sample = data.sample(frac=1, replace=True, random_state=random_state)\n",
    "    X, Y, Z = split(sample, treatment)\n",
    "    fit_model = logreg(X, Z)\n",
    "    estimated_ate = estimate_treatment_effect(fit_model, X, Y, Z)\n",
    "    return estimated_ate\n",
    "\n",
    "def get_bootstrapped_ate(data, treatment, n=1000):\n",
    "    \"\"\"Returns n bootstrapped estimates of the ATE.\n",
    "    \n",
    "    Inputs:\n",
    "        data: DataFrame of observed data\n",
    "        n: number of bootstrapped estimates we would like to return\n",
    "    Output:\n",
    "        list of estimated average treatment effects\n",
    "    \"\"\"\n",
    "    estimates = []\n",
    "    for i in np.arange(n):\n",
    "        estimates.append(draw_tau_hat(data, treatment))\n",
    "    return estimates"
   ]
  },
  {
   "cell_type": "markdown",
   "id": "d390b02e",
   "metadata": {},
   "source": [
    "## Inverse Propensity Weighting: Party Support"
   ]
  },
  {
   "cell_type": "code",
   "execution_count": 690,
   "id": "345f34af",
   "metadata": {},
   "outputs": [
    {
     "data": {
      "text/plain": [
       "0.2285339007783143"
      ]
     },
     "execution_count": 690,
     "metadata": {},
     "output_type": "execute_result"
    }
   ],
   "source": [
    "party = ipw(df, 'Party Support?')\n",
    "X, Y, Z = split(party, 'Party Support?')\n",
    "fit = logreg(X, Z)\n",
    "estimate_treatment_effect(fit, X, Y, Z)"
   ]
  },
  {
   "cell_type": "code",
   "execution_count": 691,
   "id": "3b7ddac8",
   "metadata": {},
   "outputs": [
    {
     "data": {
      "text/plain": [
       "0.9014184397163121"
      ]
     },
     "execution_count": 691,
     "metadata": {},
     "output_type": "execute_result"
    }
   ],
   "source": [
    "# the naive estimator does not account for confounders!\n",
    "np.mean(Y[Z == 1] * Z[Z == 1]) - np.mean(Y[Z == 0] * (1 - Z[Z == 0]))"
   ]
  },
  {
   "cell_type": "markdown",
   "id": "3ba867a9",
   "metadata": {},
   "source": [
    "### Adding the propensity scores"
   ]
  },
  {
   "cell_type": "code",
   "execution_count": 692,
   "id": "a62ee8b0",
   "metadata": {},
   "outputs": [
    {
     "data": {
      "text/html": [
       "<div>\n",
       "<style scoped>\n",
       "    .dataframe tbody tr th:only-of-type {\n",
       "        vertical-align: middle;\n",
       "    }\n",
       "\n",
       "    .dataframe tbody tr th {\n",
       "        vertical-align: top;\n",
       "    }\n",
       "\n",
       "    .dataframe thead th {\n",
       "        text-align: right;\n",
       "    }\n",
       "</style>\n",
       "<table border=\"1\" class=\"dataframe\">\n",
       "  <thead>\n",
       "    <tr style=\"text-align: right;\">\n",
       "      <th></th>\n",
       "      <th>Partisan Lean</th>\n",
       "      <th>Won Primary</th>\n",
       "      <th>Race</th>\n",
       "      <th>LGBTQ?</th>\n",
       "      <th>STEM?</th>\n",
       "      <th>Party Support?</th>\n",
       "      <th>receipts</th>\n",
       "      <th>Listed.military.service.</th>\n",
       "      <th>Previous.Electoral.Experience</th>\n",
       "      <th>Position.on.Same.Sex.Marriage</th>\n",
       "      <th>...</th>\n",
       "      <th>Position.on.Handling.Terrorism.Abroad_Candidate supports calls for increased American intervention to combat terrorism</th>\n",
       "      <th>Position.on.Handling.Terrorism.Abroad_Candidate supports status quo efforts to combat terrorism</th>\n",
       "      <th>Position.on.Russia_Candidate identifies Russia as political ally of the United States</th>\n",
       "      <th>Position.on.Russia_Candidate notes Russia as political enemy of the United States</th>\n",
       "      <th>Position.on.Russia_Candidate provides complicated/complex/unclear position</th>\n",
       "      <th>Party.Category_Establishment Democrat</th>\n",
       "      <th>Party.Category_Moderate Democrat</th>\n",
       "      <th>Party.Category_Progressive Democrat</th>\n",
       "      <th>Total Other Endorsements</th>\n",
       "      <th>pscore</th>\n",
       "    </tr>\n",
       "  </thead>\n",
       "  <tbody>\n",
       "    <tr>\n",
       "      <th>0</th>\n",
       "      <td>-13.51</td>\n",
       "      <td>1</td>\n",
       "      <td>0</td>\n",
       "      <td>0</td>\n",
       "      <td>0</td>\n",
       "      <td>1.0</td>\n",
       "      <td>2366991.03</td>\n",
       "      <td>0</td>\n",
       "      <td>1</td>\n",
       "      <td>1</td>\n",
       "      <td>...</td>\n",
       "      <td>0.0</td>\n",
       "      <td>0.0</td>\n",
       "      <td>0.0</td>\n",
       "      <td>0.0</td>\n",
       "      <td>0.0</td>\n",
       "      <td>1.0</td>\n",
       "      <td>0.0</td>\n",
       "      <td>0.0</td>\n",
       "      <td>1.0</td>\n",
       "      <td>0.634807</td>\n",
       "    </tr>\n",
       "    <tr>\n",
       "      <th>1</th>\n",
       "      <td>-13.51</td>\n",
       "      <td>0</td>\n",
       "      <td>0</td>\n",
       "      <td>0</td>\n",
       "      <td>0</td>\n",
       "      <td>0.0</td>\n",
       "      <td>33934.76</td>\n",
       "      <td>1</td>\n",
       "      <td>0</td>\n",
       "      <td>1</td>\n",
       "      <td>...</td>\n",
       "      <td>0.0</td>\n",
       "      <td>0.0</td>\n",
       "      <td>0.0</td>\n",
       "      <td>0.0</td>\n",
       "      <td>0.0</td>\n",
       "      <td>1.0</td>\n",
       "      <td>0.0</td>\n",
       "      <td>0.0</td>\n",
       "      <td>1.0</td>\n",
       "      <td>0.501982</td>\n",
       "    </tr>\n",
       "    <tr>\n",
       "      <th>2</th>\n",
       "      <td>-13.51</td>\n",
       "      <td>0</td>\n",
       "      <td>1</td>\n",
       "      <td>0</td>\n",
       "      <td>0</td>\n",
       "      <td>0.0</td>\n",
       "      <td>34466.05</td>\n",
       "      <td>0</td>\n",
       "      <td>0</td>\n",
       "      <td>0</td>\n",
       "      <td>...</td>\n",
       "      <td>0.0</td>\n",
       "      <td>0.0</td>\n",
       "      <td>0.0</td>\n",
       "      <td>0.0</td>\n",
       "      <td>0.0</td>\n",
       "      <td>0.0</td>\n",
       "      <td>0.0</td>\n",
       "      <td>1.0</td>\n",
       "      <td>0.0</td>\n",
       "      <td>0.502013</td>\n",
       "    </tr>\n",
       "    <tr>\n",
       "      <th>3</th>\n",
       "      <td>-13.51</td>\n",
       "      <td>0</td>\n",
       "      <td>0</td>\n",
       "      <td>0</td>\n",
       "      <td>0</td>\n",
       "      <td>0.0</td>\n",
       "      <td>270092.89</td>\n",
       "      <td>0</td>\n",
       "      <td>0</td>\n",
       "      <td>1</td>\n",
       "      <td>...</td>\n",
       "      <td>0.0</td>\n",
       "      <td>0.0</td>\n",
       "      <td>0.0</td>\n",
       "      <td>0.0</td>\n",
       "      <td>0.0</td>\n",
       "      <td>0.0</td>\n",
       "      <td>0.0</td>\n",
       "      <td>1.0</td>\n",
       "      <td>0.0</td>\n",
       "      <td>0.515767</td>\n",
       "    </tr>\n",
       "    <tr>\n",
       "      <th>4</th>\n",
       "      <td>0.62</td>\n",
       "      <td>0</td>\n",
       "      <td>0</td>\n",
       "      <td>0</td>\n",
       "      <td>1</td>\n",
       "      <td>0.0</td>\n",
       "      <td>68767.16</td>\n",
       "      <td>0</td>\n",
       "      <td>0</td>\n",
       "      <td>1</td>\n",
       "      <td>...</td>\n",
       "      <td>0.0</td>\n",
       "      <td>0.0</td>\n",
       "      <td>0.0</td>\n",
       "      <td>0.0</td>\n",
       "      <td>0.0</td>\n",
       "      <td>0.0</td>\n",
       "      <td>0.0</td>\n",
       "      <td>1.0</td>\n",
       "      <td>2.0</td>\n",
       "      <td>0.504016</td>\n",
       "    </tr>\n",
       "  </tbody>\n",
       "</table>\n",
       "<p>5 rows × 68 columns</p>\n",
       "</div>"
      ],
      "text/plain": [
       "   Partisan Lean  Won Primary  Race  LGBTQ?  STEM?  Party Support?  \\\n",
       "0         -13.51            1     0       0      0             1.0   \n",
       "1         -13.51            0     0       0      0             0.0   \n",
       "2         -13.51            0     1       0      0             0.0   \n",
       "3         -13.51            0     0       0      0             0.0   \n",
       "4           0.62            0     0       0      1             0.0   \n",
       "\n",
       "     receipts  Listed.military.service.  Previous.Electoral.Experience  \\\n",
       "0  2366991.03                         0                              1   \n",
       "1    33934.76                         1                              0   \n",
       "2    34466.05                         0                              0   \n",
       "3   270092.89                         0                              0   \n",
       "4    68767.16                         0                              0   \n",
       "\n",
       "   Position.on.Same.Sex.Marriage  ...  \\\n",
       "0                              1  ...   \n",
       "1                              1  ...   \n",
       "2                              0  ...   \n",
       "3                              1  ...   \n",
       "4                              1  ...   \n",
       "\n",
       "   Position.on.Handling.Terrorism.Abroad_Candidate supports calls for increased American intervention to combat terrorism  \\\n",
       "0                                                0.0                                                                        \n",
       "1                                                0.0                                                                        \n",
       "2                                                0.0                                                                        \n",
       "3                                                0.0                                                                        \n",
       "4                                                0.0                                                                        \n",
       "\n",
       "   Position.on.Handling.Terrorism.Abroad_Candidate supports status quo efforts to combat terrorism  \\\n",
       "0                                                0.0                                                 \n",
       "1                                                0.0                                                 \n",
       "2                                                0.0                                                 \n",
       "3                                                0.0                                                 \n",
       "4                                                0.0                                                 \n",
       "\n",
       "   Position.on.Russia_Candidate identifies Russia as political ally of the United States  \\\n",
       "0                                                0.0                                       \n",
       "1                                                0.0                                       \n",
       "2                                                0.0                                       \n",
       "3                                                0.0                                       \n",
       "4                                                0.0                                       \n",
       "\n",
       "   Position.on.Russia_Candidate notes Russia as political enemy of the United States  \\\n",
       "0                                                0.0                                   \n",
       "1                                                0.0                                   \n",
       "2                                                0.0                                   \n",
       "3                                                0.0                                   \n",
       "4                                                0.0                                   \n",
       "\n",
       "   Position.on.Russia_Candidate provides complicated/complex/unclear position  \\\n",
       "0                                                0.0                            \n",
       "1                                                0.0                            \n",
       "2                                                0.0                            \n",
       "3                                                0.0                            \n",
       "4                                                0.0                            \n",
       "\n",
       "   Party.Category_Establishment Democrat  Party.Category_Moderate Democrat  \\\n",
       "0                                    1.0                               0.0   \n",
       "1                                    1.0                               0.0   \n",
       "2                                    0.0                               0.0   \n",
       "3                                    0.0                               0.0   \n",
       "4                                    0.0                               0.0   \n",
       "\n",
       "   Party.Category_Progressive Democrat  Total Other Endorsements    pscore  \n",
       "0                                  0.0                       1.0  0.634807  \n",
       "1                                  0.0                       1.0  0.501982  \n",
       "2                                  1.0                       0.0  0.502013  \n",
       "3                                  1.0                       0.0  0.515767  \n",
       "4                                  1.0                       2.0  0.504016  \n",
       "\n",
       "[5 rows x 68 columns]"
      ]
     },
     "execution_count": 692,
     "metadata": {},
     "output_type": "execute_result"
    }
   ],
   "source": [
    "party['pscore'] = fit.predict_proba(X)[:, 1]\n",
    "party.head()"
   ]
  },
  {
   "cell_type": "code",
   "execution_count": 693,
   "id": "40503f31",
   "metadata": {},
   "outputs": [
    {
     "data": {
      "image/png": "[encoded data removed]",
      "text/plain": [
       "<Figure size 432x288 with 1 Axes>"
      ]
     },
     "metadata": {
      "needs_background": "light"
     },
     "output_type": "display_data"
    }
   ],
   "source": [
    "plt.hist(party[party['Party Support?'] == 1]['pscore']);\n",
    "plt.title(\"Propensity score of people receiving the treatment (Party Support)\")\n",
    "plt.savefig('party_support_treat.png');"
   ]
  },
  {
   "cell_type": "code",
   "execution_count": 694,
   "id": "e2f059c6",
   "metadata": {},
   "outputs": [
    {
     "data": {
      "image/png": "[encoded data removed]",
      "text/plain": [
       "<Figure size 432x288 with 1 Axes>"
      ]
     },
     "metadata": {
      "needs_background": "light"
     },
     "output_type": "display_data"
    }
   ],
   "source": [
    "plt.hist(party[party['Party Support?'] == 0]['pscore']);\n",
    "plt.title(\"Propensity score of people not receiving the treatment\")\n",
    "plt.savefig('party_support_ctrl.png');"
   ]
  },
  {
   "cell_type": "markdown",
   "id": "aaab53d8",
   "metadata": {},
   "source": [
    "### IPW Estimate"
   ]
  },
  {
   "cell_type": "code",
   "execution_count": 695,
   "id": "ab960c3d",
   "metadata": {},
   "outputs": [
    {
     "name": "stdout",
     "output_type": "stream",
     "text": [
      "IPW estimate: 0.22853390077831423\n",
      "trimmed IPW estimate: 0.22179853142681802\n"
     ]
    }
   ],
   "source": [
    "reweighted_treated = (party[party['Party Support?'] == 1]['Won Primary'] / party[party['Party Support?'] == 1]['pscore']).sum()\n",
    "reweighted_control = (party[party['Party Support?'] == 0]['Won Primary'] / (1 - party[party['Party Support?'] == 0]['pscore'])).sum()\n",
    "ipw_estimate = (reweighted_treated - reweighted_control) / len(party)\n",
    "print('IPW estimate:', ipw_estimate)\n",
    "\n",
    "obs_filt = party[party['pscore'].between(0.1, 0.9)]\n",
    "reweighted_treated_filt = (obs_filt[obs_filt['Party Support?'] == 1]['Won Primary'] / obs_filt[obs_filt['Party Support?'] == 1]['pscore']).sum()\n",
    "reweighted_control_filt = (obs_filt[obs_filt['Party Support?'] == 0]['Won Primary'] / (1 - obs_filt[obs_filt['Party Support?'] == 0]['pscore'])).sum()\n",
    "trimmed_ipw_estimate = (reweighted_treated_filt - reweighted_control_filt) / len(obs_filt)\n",
    "print('trimmed IPW estimate:', trimmed_ipw_estimate)"
   ]
  },
  {
   "cell_type": "code",
   "execution_count": 696,
   "id": "158a533f",
   "metadata": {},
   "outputs": [
    {
     "name": "stdout",
     "output_type": "stream",
     "text": [
      "Our 95% confidence interval ranges from 0.134 to 0.134\n"
     ]
    }
   ],
   "source": [
    "party_ates = get_bootstrapped_ate(party, 'Party Support?')\n",
    "confidence_interval = [np.percentile(party_ates, 2.5), \n",
    "                       np.percentile(party_ates, 97.5)]\n",
    "print(f\"Our 95% confidence interval ranges from {np.round(confidence_interval[0], decimals=3)} to {np.round(confidence_interval[1], decimals=3)}\")"
   ]
  },
  {
   "cell_type": "markdown",
   "id": "cbe5adb8",
   "metadata": {},
   "source": [
    "## Inverse Propensity Weighting: Our Revolution"
   ]
  },
  {
   "cell_type": "code",
   "execution_count": 677,
   "id": "437a2d86",
   "metadata": {},
   "outputs": [
    {
     "data": {
      "text/plain": [
       "0.10458940119775088"
      ]
     },
     "execution_count": 677,
     "metadata": {},
     "output_type": "execute_result"
    }
   ],
   "source": [
    "our_rev = ipw(df, 'Our Revolution Endorsed?')\n",
    "X, Y, Z = split(our_rev, 'Our Revolution Endorsed?')\n",
    "fit = logreg(X, Z)\n",
    "estimate_treatment_effect(fit, X, Y, Z)"
   ]
  },
  {
   "cell_type": "code",
   "execution_count": 678,
   "id": "0f0c2beb",
   "metadata": {},
   "outputs": [
    {
     "data": {
      "text/plain": [
       "0.08968678380443085"
      ]
     },
     "execution_count": 678,
     "metadata": {},
     "output_type": "execute_result"
    }
   ],
   "source": [
    "# naive estimator from HW4, not sure if we need for this\n",
    "# the naive estimator does not account for confounders!\n",
    "# Interesting... once we control for confounders, we observe the opposite effect (positive to negative)\n",
    "np.mean(Y[Z == 1] * Z[Z == 1]) - np.mean(Y[Z == 0] * (1 - Z[Z == 0]))"
   ]
  },
  {
   "cell_type": "markdown",
   "id": "afba4410",
   "metadata": {},
   "source": [
    "### Adding the propensity scores"
   ]
  },
  {
   "cell_type": "code",
   "execution_count": 679,
   "id": "e882ff11",
   "metadata": {},
   "outputs": [
    {
     "data": {
      "text/html": [
       "<div>\n",
       "<style scoped>\n",
       "    .dataframe tbody tr th:only-of-type {\n",
       "        vertical-align: middle;\n",
       "    }\n",
       "\n",
       "    .dataframe tbody tr th {\n",
       "        vertical-align: top;\n",
       "    }\n",
       "\n",
       "    .dataframe thead th {\n",
       "        text-align: right;\n",
       "    }\n",
       "</style>\n",
       "<table border=\"1\" class=\"dataframe\">\n",
       "  <thead>\n",
       "    <tr style=\"text-align: right;\">\n",
       "      <th></th>\n",
       "      <th>Partisan Lean</th>\n",
       "      <th>Won Primary</th>\n",
       "      <th>Race</th>\n",
       "      <th>LGBTQ?</th>\n",
       "      <th>STEM?</th>\n",
       "      <th>Our Revolution Endorsed?</th>\n",
       "      <th>receipts</th>\n",
       "      <th>Listed.military.service.</th>\n",
       "      <th>Previous.Electoral.Experience</th>\n",
       "      <th>Position.on.Same.Sex.Marriage</th>\n",
       "      <th>...</th>\n",
       "      <th>Position.on.Handling.Terrorism.Abroad_Candidate supports calls for increased American intervention to combat terrorism</th>\n",
       "      <th>Position.on.Handling.Terrorism.Abroad_Candidate supports status quo efforts to combat terrorism</th>\n",
       "      <th>Position.on.Russia_Candidate identifies Russia as political ally of the United States</th>\n",
       "      <th>Position.on.Russia_Candidate notes Russia as political enemy of the United States</th>\n",
       "      <th>Position.on.Russia_Candidate provides complicated/complex/unclear position</th>\n",
       "      <th>Party.Category_Establishment Democrat</th>\n",
       "      <th>Party.Category_Moderate Democrat</th>\n",
       "      <th>Party.Category_Progressive Democrat</th>\n",
       "      <th>Total Other Endorsements</th>\n",
       "      <th>pscore</th>\n",
       "    </tr>\n",
       "  </thead>\n",
       "  <tbody>\n",
       "    <tr>\n",
       "      <th>0</th>\n",
       "      <td>-21.379999</td>\n",
       "      <td>1</td>\n",
       "      <td>0</td>\n",
       "      <td>0</td>\n",
       "      <td>0</td>\n",
       "      <td>1.0</td>\n",
       "      <td>1097584.95</td>\n",
       "      <td>0</td>\n",
       "      <td>0</td>\n",
       "      <td>0</td>\n",
       "      <td>...</td>\n",
       "      <td>0.0</td>\n",
       "      <td>0.0</td>\n",
       "      <td>0.0</td>\n",
       "      <td>0.0</td>\n",
       "      <td>0.0</td>\n",
       "      <td>1.0</td>\n",
       "      <td>0.0</td>\n",
       "      <td>0.0</td>\n",
       "      <td>1.0</td>\n",
       "      <td>0.374233</td>\n",
       "    </tr>\n",
       "    <tr>\n",
       "      <th>1</th>\n",
       "      <td>-21.379999</td>\n",
       "      <td>0</td>\n",
       "      <td>0</td>\n",
       "      <td>0</td>\n",
       "      <td>0</td>\n",
       "      <td>0.0</td>\n",
       "      <td>17275.00</td>\n",
       "      <td>0</td>\n",
       "      <td>0</td>\n",
       "      <td>0</td>\n",
       "      <td>...</td>\n",
       "      <td>0.0</td>\n",
       "      <td>0.0</td>\n",
       "      <td>0.0</td>\n",
       "      <td>0.0</td>\n",
       "      <td>0.0</td>\n",
       "      <td>0.0</td>\n",
       "      <td>0.0</td>\n",
       "      <td>0.0</td>\n",
       "      <td>0.0</td>\n",
       "      <td>0.497977</td>\n",
       "    </tr>\n",
       "    <tr>\n",
       "      <th>2</th>\n",
       "      <td>-21.379999</td>\n",
       "      <td>0</td>\n",
       "      <td>0</td>\n",
       "      <td>0</td>\n",
       "      <td>0</td>\n",
       "      <td>0.0</td>\n",
       "      <td>290020.57</td>\n",
       "      <td>0</td>\n",
       "      <td>0</td>\n",
       "      <td>0</td>\n",
       "      <td>...</td>\n",
       "      <td>0.0</td>\n",
       "      <td>0.0</td>\n",
       "      <td>0.0</td>\n",
       "      <td>0.0</td>\n",
       "      <td>0.0</td>\n",
       "      <td>1.0</td>\n",
       "      <td>0.0</td>\n",
       "      <td>0.0</td>\n",
       "      <td>0.0</td>\n",
       "      <td>0.466091</td>\n",
       "    </tr>\n",
       "    <tr>\n",
       "      <th>3</th>\n",
       "      <td>-21.379999</td>\n",
       "      <td>0</td>\n",
       "      <td>0</td>\n",
       "      <td>0</td>\n",
       "      <td>0</td>\n",
       "      <td>0.0</td>\n",
       "      <td>68655.53</td>\n",
       "      <td>0</td>\n",
       "      <td>0</td>\n",
       "      <td>1</td>\n",
       "      <td>...</td>\n",
       "      <td>0.0</td>\n",
       "      <td>0.0</td>\n",
       "      <td>0.0</td>\n",
       "      <td>0.0</td>\n",
       "      <td>0.0</td>\n",
       "      <td>1.0</td>\n",
       "      <td>0.0</td>\n",
       "      <td>0.0</td>\n",
       "      <td>1.0</td>\n",
       "      <td>0.491961</td>\n",
       "    </tr>\n",
       "    <tr>\n",
       "      <th>4</th>\n",
       "      <td>0.620000</td>\n",
       "      <td>0</td>\n",
       "      <td>0</td>\n",
       "      <td>0</td>\n",
       "      <td>1</td>\n",
       "      <td>1.0</td>\n",
       "      <td>68767.16</td>\n",
       "      <td>0</td>\n",
       "      <td>0</td>\n",
       "      <td>1</td>\n",
       "      <td>...</td>\n",
       "      <td>0.0</td>\n",
       "      <td>0.0</td>\n",
       "      <td>0.0</td>\n",
       "      <td>0.0</td>\n",
       "      <td>0.0</td>\n",
       "      <td>0.0</td>\n",
       "      <td>0.0</td>\n",
       "      <td>1.0</td>\n",
       "      <td>1.0</td>\n",
       "      <td>0.491948</td>\n",
       "    </tr>\n",
       "  </tbody>\n",
       "</table>\n",
       "<p>5 rows × 68 columns</p>\n",
       "</div>"
      ],
      "text/plain": [
       "   Partisan Lean  Won Primary  Race  LGBTQ?  STEM?  Our Revolution Endorsed?  \\\n",
       "0     -21.379999            1     0       0      0                       1.0   \n",
       "1     -21.379999            0     0       0      0                       0.0   \n",
       "2     -21.379999            0     0       0      0                       0.0   \n",
       "3     -21.379999            0     0       0      0                       0.0   \n",
       "4       0.620000            0     0       0      1                       1.0   \n",
       "\n",
       "     receipts  Listed.military.service.  Previous.Electoral.Experience  \\\n",
       "0  1097584.95                         0                              0   \n",
       "1    17275.00                         0                              0   \n",
       "2   290020.57                         0                              0   \n",
       "3    68655.53                         0                              0   \n",
       "4    68767.16                         0                              0   \n",
       "\n",
       "   Position.on.Same.Sex.Marriage  ...  \\\n",
       "0                              0  ...   \n",
       "1                              0  ...   \n",
       "2                              0  ...   \n",
       "3                              1  ...   \n",
       "4                              1  ...   \n",
       "\n",
       "   Position.on.Handling.Terrorism.Abroad_Candidate supports calls for increased American intervention to combat terrorism  \\\n",
       "0                                                0.0                                                                        \n",
       "1                                                0.0                                                                        \n",
       "2                                                0.0                                                                        \n",
       "3                                                0.0                                                                        \n",
       "4                                                0.0                                                                        \n",
       "\n",
       "   Position.on.Handling.Terrorism.Abroad_Candidate supports status quo efforts to combat terrorism  \\\n",
       "0                                                0.0                                                 \n",
       "1                                                0.0                                                 \n",
       "2                                                0.0                                                 \n",
       "3                                                0.0                                                 \n",
       "4                                                0.0                                                 \n",
       "\n",
       "   Position.on.Russia_Candidate identifies Russia as political ally of the United States  \\\n",
       "0                                                0.0                                       \n",
       "1                                                0.0                                       \n",
       "2                                                0.0                                       \n",
       "3                                                0.0                                       \n",
       "4                                                0.0                                       \n",
       "\n",
       "   Position.on.Russia_Candidate notes Russia as political enemy of the United States  \\\n",
       "0                                                0.0                                   \n",
       "1                                                0.0                                   \n",
       "2                                                0.0                                   \n",
       "3                                                0.0                                   \n",
       "4                                                0.0                                   \n",
       "\n",
       "   Position.on.Russia_Candidate provides complicated/complex/unclear position  \\\n",
       "0                                                0.0                            \n",
       "1                                                0.0                            \n",
       "2                                                0.0                            \n",
       "3                                                0.0                            \n",
       "4                                                0.0                            \n",
       "\n",
       "   Party.Category_Establishment Democrat  Party.Category_Moderate Democrat  \\\n",
       "0                                    1.0                               0.0   \n",
       "1                                    0.0                               0.0   \n",
       "2                                    1.0                               0.0   \n",
       "3                                    1.0                               0.0   \n",
       "4                                    0.0                               0.0   \n",
       "\n",
       "   Party.Category_Progressive Democrat  Total Other Endorsements    pscore  \n",
       "0                                  0.0                       1.0  0.374233  \n",
       "1                                  0.0                       0.0  0.497977  \n",
       "2                                  0.0                       0.0  0.466091  \n",
       "3                                  0.0                       1.0  0.491961  \n",
       "4                                  1.0                       1.0  0.491948  \n",
       "\n",
       "[5 rows x 68 columns]"
      ]
     },
     "execution_count": 679,
     "metadata": {},
     "output_type": "execute_result"
    }
   ],
   "source": [
    "our_rev['pscore'] = fit.predict_proba(X)[:, 1]\n",
    "our_rev.head()"
   ]
  },
  {
   "cell_type": "code",
   "execution_count": 680,
   "id": "88675ac2",
   "metadata": {},
   "outputs": [
    {
     "data": {
      "image/png": "[encoded data removed]",
      "text/plain": [
       "<Figure size 432x288 with 1 Axes>"
      ]
     },
     "metadata": {
      "needs_background": "light"
     },
     "output_type": "display_data"
    }
   ],
   "source": [
    "plt.hist(our_rev[our_rev['Our Revolution Endorsed?'] == 1]['pscore'])\n",
    "plt.title(\"Propensity score of people receiving the treatment\\n(Our Revolution Endorsement)\")\n",
    "plt.savefig('our_rev_treat.png');"
   ]
  },
  {
   "cell_type": "code",
   "execution_count": 681,
   "id": "120c71ad",
   "metadata": {},
   "outputs": [
    {
     "data": {
      "image/png": "[encoded data removed]",
      "text/plain": [
       "<Figure size 432x288 with 1 Axes>"
      ]
     },
     "metadata": {
      "needs_background": "light"
     },
     "output_type": "display_data"
    }
   ],
   "source": [
    "plt.hist(our_rev[our_rev['Our Revolution Endorsed?'] == 0]['pscore'])\n",
    "plt.title(\"Propensity score of people not receiving the treatment\")\n",
    "plt.savefig('our_rev_ctrl.png');"
   ]
  },
  {
   "cell_type": "markdown",
   "id": "3040eec2",
   "metadata": {},
   "source": [
    "### IPW Estimate"
   ]
  },
  {
   "cell_type": "code",
   "execution_count": 682,
   "id": "1ba85bc7",
   "metadata": {},
   "outputs": [
    {
     "name": "stdout",
     "output_type": "stream",
     "text": [
      "IPW estimate: 0.10458940119775081\n",
      "trimmed IPW estimate: 0.06421414372228297\n"
     ]
    }
   ],
   "source": [
    "reweighted_treated = (our_rev[our_rev['Our Revolution Endorsed?'] == 1]['Won Primary'] / our_rev[our_rev['Our Revolution Endorsed?'] == 1]['pscore']).sum()\n",
    "reweighted_control = (our_rev[our_rev['Our Revolution Endorsed?'] == 0]['Won Primary'] / (1 - our_rev[our_rev['Our Revolution Endorsed?'] == 0]['pscore'])).sum()\n",
    "ipw_estimate = (reweighted_treated - reweighted_control) / len(our_rev)\n",
    "print('IPW estimate:', ipw_estimate)\n",
    "\n",
    "obs_filt = our_rev[our_rev['pscore'].between(0.1, 0.9)]\n",
    "reweighted_treated_filt = (obs_filt[obs_filt['Our Revolution Endorsed?'] == 1]['Won Primary'] / obs_filt[obs_filt['Our Revolution Endorsed?'] == 1]['pscore']).sum()\n",
    "reweighted_control_filt = (obs_filt[obs_filt['Our Revolution Endorsed?'] == 0]['Won Primary'] / (1 - obs_filt[obs_filt['Our Revolution Endorsed?'] == 0]['pscore'])).sum()\n",
    "trimmed_ipw_estimate = (reweighted_treated_filt - reweighted_control_filt) / len(obs_filt)\n",
    "print('trimmed IPW estimate:', trimmed_ipw_estimate)"
   ]
  },
  {
   "cell_type": "code",
   "execution_count": 683,
   "id": "426a2b42",
   "metadata": {},
   "outputs": [
    {
     "name": "stdout",
     "output_type": "stream",
     "text": [
      "Our 95% confidence interval ranges from -0.036 to 0.413\n"
     ]
    }
   ],
   "source": [
    "or_ates = get_bootstrapped_ate(our_rev, 'Our Revolution Endorsed?')\n",
    "confidence_interval = [np.percentile(or_ates, 2.5), \n",
    "                       np.percentile(or_ates, 97.5)]\n",
    "print(f\"Our 95% confidence interval ranges from {np.round(confidence_interval[0], decimals=3)} to {np.round(confidence_interval[1], decimals=3)}\")"
   ]
  },
  {
   "cell_type": "markdown",
   "id": "af8c10b4",
   "metadata": {},
   "source": [
    "## Inverse Propensity Weighting: Emily's List\n",
    "- Y (outcome): `'Won Primary'`\n",
    "- Z (treatment): `'Emily Endorsed?'`\n",
    "- X (confounders): `'Total Other Endorsements'`, `'Partisan Lean'`, `'Race'`, `'Veteran?'`, `'LGBTQ?'`, `'STEM?'`, `'Elected Official?'`, `'receipts'`"
   ]
  },
  {
   "cell_type": "code",
   "execution_count": 524,
   "id": "1f044e41",
   "metadata": {},
   "outputs": [
    {
     "data": {
      "text/plain": [
       "0.2019551524728514"
      ]
     },
     "execution_count": 524,
     "metadata": {},
     "output_type": "execute_result"
    }
   ],
   "source": [
    "emily = ipw(df, 'Emily Endorsed?')\n",
    "X, Y, Z = split(emily, 'Emily Endorsed?')\n",
    "fit = logreg(X, Z)\n",
    "estimate_treatment_effect(fit, X, Y, Z)"
   ]
  },
  {
   "cell_type": "code",
   "execution_count": 525,
   "id": "a2ba6153",
   "metadata": {},
   "outputs": [
    {
     "data": {
      "text/plain": [
       "0.6101842196732707"
      ]
     },
     "execution_count": 525,
     "metadata": {},
     "output_type": "execute_result"
    }
   ],
   "source": [
    "# the naive estimator does not account for confounders!\n",
    "np.mean(Y[Z == 1] * Z[Z == 1]) - np.mean(Y[Z == 0] * (1 - Z[Z == 0]))"
   ]
  },
  {
   "cell_type": "markdown",
   "id": "9aefa279",
   "metadata": {},
   "source": [
    "### Adding the propensity scores"
   ]
  },
  {
   "cell_type": "code",
   "execution_count": 526,
   "id": "16db504f",
   "metadata": {},
   "outputs": [
    {
     "data": {
      "text/html": [
       "<div>\n",
       "<style scoped>\n",
       "    .dataframe tbody tr th:only-of-type {\n",
       "        vertical-align: middle;\n",
       "    }\n",
       "\n",
       "    .dataframe tbody tr th {\n",
       "        vertical-align: top;\n",
       "    }\n",
       "\n",
       "    .dataframe thead th {\n",
       "        text-align: right;\n",
       "    }\n",
       "</style>\n",
       "<table border=\"1\" class=\"dataframe\">\n",
       "  <thead>\n",
       "    <tr style=\"text-align: right;\">\n",
       "      <th></th>\n",
       "      <th>Partisan Lean</th>\n",
       "      <th>Won Primary</th>\n",
       "      <th>Race</th>\n",
       "      <th>LGBTQ?</th>\n",
       "      <th>STEM?</th>\n",
       "      <th>Emily Endorsed?</th>\n",
       "      <th>receipts</th>\n",
       "      <th>Listed.military.service.</th>\n",
       "      <th>Previous.Electoral.Experience</th>\n",
       "      <th>Position.on.Same.Sex.Marriage</th>\n",
       "      <th>...</th>\n",
       "      <th>Position.on.Handling.Terrorism.Abroad_Candidate supports calls for increased American intervention to combat terrorism</th>\n",
       "      <th>Position.on.Handling.Terrorism.Abroad_Candidate supports status quo efforts to combat terrorism</th>\n",
       "      <th>Position.on.Russia_Candidate identifies Russia as political ally of the United States</th>\n",
       "      <th>Position.on.Russia_Candidate notes Russia as political enemy of the United States</th>\n",
       "      <th>Position.on.Russia_Candidate provides complicated/complex/unclear position</th>\n",
       "      <th>Party.Category_Establishment Democrat</th>\n",
       "      <th>Party.Category_Moderate Democrat</th>\n",
       "      <th>Party.Category_Progressive Democrat</th>\n",
       "      <th>Total Other Endorsements</th>\n",
       "      <th>pscore</th>\n",
       "    </tr>\n",
       "  </thead>\n",
       "  <tbody>\n",
       "    <tr>\n",
       "      <th>0</th>\n",
       "      <td>0.62</td>\n",
       "      <td>0</td>\n",
       "      <td>0</td>\n",
       "      <td>0</td>\n",
       "      <td>1</td>\n",
       "      <td>0.0</td>\n",
       "      <td>68767.16</td>\n",
       "      <td>0</td>\n",
       "      <td>0</td>\n",
       "      <td>1</td>\n",
       "      <td>...</td>\n",
       "      <td>0.0</td>\n",
       "      <td>0.0</td>\n",
       "      <td>0.0</td>\n",
       "      <td>0.0</td>\n",
       "      <td>0.0</td>\n",
       "      <td>0.0</td>\n",
       "      <td>0.0</td>\n",
       "      <td>1.0</td>\n",
       "      <td>2.0</td>\n",
       "      <td>0.499988</td>\n",
       "    </tr>\n",
       "    <tr>\n",
       "      <th>1</th>\n",
       "      <td>0.62</td>\n",
       "      <td>1</td>\n",
       "      <td>0</td>\n",
       "      <td>0</td>\n",
       "      <td>1</td>\n",
       "      <td>0.0</td>\n",
       "      <td>8441529.09</td>\n",
       "      <td>0</td>\n",
       "      <td>0</td>\n",
       "      <td>0</td>\n",
       "      <td>...</td>\n",
       "      <td>0.0</td>\n",
       "      <td>0.0</td>\n",
       "      <td>0.0</td>\n",
       "      <td>0.0</td>\n",
       "      <td>0.0</td>\n",
       "      <td>1.0</td>\n",
       "      <td>0.0</td>\n",
       "      <td>0.0</td>\n",
       "      <td>2.0</td>\n",
       "      <td>0.498499</td>\n",
       "    </tr>\n",
       "    <tr>\n",
       "      <th>2</th>\n",
       "      <td>0.62</td>\n",
       "      <td>0</td>\n",
       "      <td>0</td>\n",
       "      <td>0</td>\n",
       "      <td>0</td>\n",
       "      <td>0.0</td>\n",
       "      <td>346820.52</td>\n",
       "      <td>0</td>\n",
       "      <td>0</td>\n",
       "      <td>0</td>\n",
       "      <td>...</td>\n",
       "      <td>0.0</td>\n",
       "      <td>0.0</td>\n",
       "      <td>0.0</td>\n",
       "      <td>0.0</td>\n",
       "      <td>0.0</td>\n",
       "      <td>1.0</td>\n",
       "      <td>0.0</td>\n",
       "      <td>0.0</td>\n",
       "      <td>0.0</td>\n",
       "      <td>0.499938</td>\n",
       "    </tr>\n",
       "    <tr>\n",
       "      <th>3</th>\n",
       "      <td>0.62</td>\n",
       "      <td>0</td>\n",
       "      <td>0</td>\n",
       "      <td>0</td>\n",
       "      <td>1</td>\n",
       "      <td>0.0</td>\n",
       "      <td>48734.30</td>\n",
       "      <td>0</td>\n",
       "      <td>0</td>\n",
       "      <td>1</td>\n",
       "      <td>...</td>\n",
       "      <td>0.0</td>\n",
       "      <td>0.0</td>\n",
       "      <td>0.0</td>\n",
       "      <td>0.0</td>\n",
       "      <td>0.0</td>\n",
       "      <td>0.0</td>\n",
       "      <td>0.0</td>\n",
       "      <td>1.0</td>\n",
       "      <td>0.0</td>\n",
       "      <td>0.499991</td>\n",
       "    </tr>\n",
       "    <tr>\n",
       "      <th>4</th>\n",
       "      <td>0.62</td>\n",
       "      <td>0</td>\n",
       "      <td>0</td>\n",
       "      <td>0</td>\n",
       "      <td>1</td>\n",
       "      <td>0.0</td>\n",
       "      <td>840266.61</td>\n",
       "      <td>0</td>\n",
       "      <td>1</td>\n",
       "      <td>1</td>\n",
       "      <td>...</td>\n",
       "      <td>0.0</td>\n",
       "      <td>0.0</td>\n",
       "      <td>0.0</td>\n",
       "      <td>0.0</td>\n",
       "      <td>0.0</td>\n",
       "      <td>1.0</td>\n",
       "      <td>0.0</td>\n",
       "      <td>0.0</td>\n",
       "      <td>0.0</td>\n",
       "      <td>0.499851</td>\n",
       "    </tr>\n",
       "  </tbody>\n",
       "</table>\n",
       "<p>5 rows × 68 columns</p>\n",
       "</div>"
      ],
      "text/plain": [
       "   Partisan Lean  Won Primary  Race  LGBTQ?  STEM?  Emily Endorsed?  \\\n",
       "0           0.62            0     0       0      1              0.0   \n",
       "1           0.62            1     0       0      1              0.0   \n",
       "2           0.62            0     0       0      0              0.0   \n",
       "3           0.62            0     0       0      1              0.0   \n",
       "4           0.62            0     0       0      1              0.0   \n",
       "\n",
       "     receipts  Listed.military.service.  Previous.Electoral.Experience  \\\n",
       "0    68767.16                         0                              0   \n",
       "1  8441529.09                         0                              0   \n",
       "2   346820.52                         0                              0   \n",
       "3    48734.30                         0                              0   \n",
       "4   840266.61                         0                              1   \n",
       "\n",
       "   Position.on.Same.Sex.Marriage  ...  \\\n",
       "0                              1  ...   \n",
       "1                              0  ...   \n",
       "2                              0  ...   \n",
       "3                              1  ...   \n",
       "4                              1  ...   \n",
       "\n",
       "   Position.on.Handling.Terrorism.Abroad_Candidate supports calls for increased American intervention to combat terrorism  \\\n",
       "0                                                0.0                                                                        \n",
       "1                                                0.0                                                                        \n",
       "2                                                0.0                                                                        \n",
       "3                                                0.0                                                                        \n",
       "4                                                0.0                                                                        \n",
       "\n",
       "   Position.on.Handling.Terrorism.Abroad_Candidate supports status quo efforts to combat terrorism  \\\n",
       "0                                                0.0                                                 \n",
       "1                                                0.0                                                 \n",
       "2                                                0.0                                                 \n",
       "3                                                0.0                                                 \n",
       "4                                                0.0                                                 \n",
       "\n",
       "   Position.on.Russia_Candidate identifies Russia as political ally of the United States  \\\n",
       "0                                                0.0                                       \n",
       "1                                                0.0                                       \n",
       "2                                                0.0                                       \n",
       "3                                                0.0                                       \n",
       "4                                                0.0                                       \n",
       "\n",
       "   Position.on.Russia_Candidate notes Russia as political enemy of the United States  \\\n",
       "0                                                0.0                                   \n",
       "1                                                0.0                                   \n",
       "2                                                0.0                                   \n",
       "3                                                0.0                                   \n",
       "4                                                0.0                                   \n",
       "\n",
       "   Position.on.Russia_Candidate provides complicated/complex/unclear position  \\\n",
       "0                                                0.0                            \n",
       "1                                                0.0                            \n",
       "2                                                0.0                            \n",
       "3                                                0.0                            \n",
       "4                                                0.0                            \n",
       "\n",
       "   Party.Category_Establishment Democrat  Party.Category_Moderate Democrat  \\\n",
       "0                                    0.0                               0.0   \n",
       "1                                    1.0                               0.0   \n",
       "2                                    1.0                               0.0   \n",
       "3                                    0.0                               0.0   \n",
       "4                                    1.0                               0.0   \n",
       "\n",
       "   Party.Category_Progressive Democrat  Total Other Endorsements    pscore  \n",
       "0                                  1.0                       2.0  0.499988  \n",
       "1                                  0.0                       2.0  0.498499  \n",
       "2                                  0.0                       0.0  0.499938  \n",
       "3                                  1.0                       0.0  0.499991  \n",
       "4                                  0.0                       0.0  0.499851  \n",
       "\n",
       "[5 rows x 68 columns]"
      ]
     },
     "execution_count": 526,
     "metadata": {},
     "output_type": "execute_result"
    }
   ],
   "source": [
    "emily['pscore'] = fit.predict_proba(X)[:, 1]\n",
    "emily.head()"
   ]
  },
  {
   "cell_type": "code",
   "execution_count": 527,
   "id": "7a28e94d",
   "metadata": {},
   "outputs": [
    {
     "data": {
      "image/png": "[encoded data removed]",
      "text/plain": [
       "<Figure size 432x288 with 1 Axes>"
      ]
     },
     "metadata": {
      "needs_background": "light"
     },
     "output_type": "display_data"
    }
   ],
   "source": [
    "plt.hist(emily[emily['Emily Endorsed?'] == 1]['pscore'])\n",
    "plt.title(\"Propensity score of people receiving the treatment\\n(Emily Endorsed)\")\n",
    "plt.savefig('emily_treat.png');"
   ]
  },
  {
   "cell_type": "code",
   "execution_count": 528,
   "id": "44006913",
   "metadata": {},
   "outputs": [
    {
     "data": {
      "image/png": "[encoded data removed]",
      "text/plain": [
       "<Figure size 432x288 with 1 Axes>"
      ]
     },
     "metadata": {
      "needs_background": "light"
     },
     "output_type": "display_data"
    }
   ],
   "source": [
    "plt.hist(emily[emily['Emily Endorsed?'] == 0]['pscore'])\n",
    "plt.title(\"Propensity score of people not receiving the treatment\")\n",
    "plt.savefig('emily_ctrl.png');"
   ]
  },
  {
   "cell_type": "markdown",
   "id": "95b10288",
   "metadata": {},
   "source": [
    "### IPW Estimate"
   ]
  },
  {
   "cell_type": "code",
   "execution_count": 529,
   "id": "d98bcbdd",
   "metadata": {},
   "outputs": [
    {
     "name": "stdout",
     "output_type": "stream",
     "text": [
      "IPW estimate: 0.20195515247285142\n",
      "trimmed IPW estimate: 0.20195515247285142\n"
     ]
    }
   ],
   "source": [
    "reweighted_treated = (emily[emily['Emily Endorsed?'] == 1]['Won Primary'] / emily[emily['Emily Endorsed?'] == 1]['pscore']).sum()\n",
    "reweighted_control = (emily[emily['Emily Endorsed?'] == 0]['Won Primary'] / (1 - emily[emily['Emily Endorsed?'] == 0]['pscore'])).sum()\n",
    "ipw_estimate = (reweighted_treated - reweighted_control) / len(emily)\n",
    "print('IPW estimate:', ipw_estimate)\n",
    "\n",
    "obs_filt = emily[emily['pscore'].between(0.1, 0.9)]\n",
    "reweighted_treated_filt = (obs_filt[obs_filt['Emily Endorsed?'] == 1]['Won Primary'] / obs_filt[obs_filt['Emily Endorsed?'] == 1]['pscore']).sum()\n",
    "reweighted_control_filt = (obs_filt[obs_filt['Emily Endorsed?'] == 0]['Won Primary'] / (1 - obs_filt[obs_filt['Emily Endorsed?'] == 0]['pscore'])).sum()\n",
    "trimmed_ipw_estimate = (reweighted_treated_filt - reweighted_control_filt) / len(obs_filt)\n",
    "print('trimmed IPW estimate:', trimmed_ipw_estimate)"
   ]
  },
  {
   "cell_type": "code",
   "execution_count": 530,
   "id": "f3a71356",
   "metadata": {},
   "outputs": [
    {
     "name": "stdout",
     "output_type": "stream",
     "text": [
      "Our 95% confidence interval ranges from 0.125 to 0.27\n"
     ]
    }
   ],
   "source": [
    "em_ates = get_bootstrapped_ate(emily, 'Emily Endorsed?')\n",
    "confidence_interval = [np.percentile(em_ates, 2.5), \n",
    "                       np.percentile(em_ates, 97.5)]\n",
    "print(f\"Our 95% confidence interval ranges from {np.round(confidence_interval[0], decimals=3)} to {np.round(confidence_interval[1], decimals=3)}\")"
   ]
  },
  {
   "cell_type": "markdown",
   "id": "2224eb26",
   "metadata": {},
   "source": [
    "## Inverse Propensity Weighting: Justice Dems\n",
    "- Y (outcome): `'Won Primary'`\n",
    "- Z (treatment): `'Justice Dems Endorsed?'`\n",
    "- X (confounders): `'Total Endorsements'`, `'Partisan Lean'`, `'Race'`, `'Veteran?'`, `'LGBTQ?'`, `'STEM?'`, `'Elected Official?'`, `'receipts'`"
   ]
  },
  {
   "cell_type": "code",
   "execution_count": 531,
   "id": "0e98797a",
   "metadata": {},
   "outputs": [
    {
     "data": {
      "text/plain": [
       "0.11729285687927478"
      ]
     },
     "execution_count": 531,
     "metadata": {},
     "output_type": "execute_result"
    }
   ],
   "source": [
    "jd = ipw(df, 'Justice Dems Endorsed?')\n",
    "X, Y, Z = split(jd, 'Justice Dems Endorsed?')\n",
    "fit = logreg(X, Z)\n",
    "estimate_treatment_effect(fit, X, Y, Z)"
   ]
  },
  {
   "cell_type": "code",
   "execution_count": 532,
   "id": "c1357a82",
   "metadata": {},
   "outputs": [
    {
     "data": {
      "text/plain": [
       "0.043893129770992356"
      ]
     },
     "execution_count": 532,
     "metadata": {},
     "output_type": "execute_result"
    }
   ],
   "source": [
    "# the naive estimator does not account for confounders!\n",
    "np.mean(Y[Z == 1] * Z[Z == 1]) - np.mean(Y[Z == 0] * (1 - Z[Z == 0]))"
   ]
  },
  {
   "cell_type": "markdown",
   "id": "2b342c2d",
   "metadata": {},
   "source": [
    "### Adding the propensity scores"
   ]
  },
  {
   "cell_type": "code",
   "execution_count": 533,
   "id": "31334d64",
   "metadata": {},
   "outputs": [
    {
     "data": {
      "text/html": [
       "<div>\n",
       "<style scoped>\n",
       "    .dataframe tbody tr th:only-of-type {\n",
       "        vertical-align: middle;\n",
       "    }\n",
       "\n",
       "    .dataframe tbody tr th {\n",
       "        vertical-align: top;\n",
       "    }\n",
       "\n",
       "    .dataframe thead th {\n",
       "        text-align: right;\n",
       "    }\n",
       "</style>\n",
       "<table border=\"1\" class=\"dataframe\">\n",
       "  <thead>\n",
       "    <tr style=\"text-align: right;\">\n",
       "      <th></th>\n",
       "      <th>Partisan Lean</th>\n",
       "      <th>Won Primary</th>\n",
       "      <th>Race</th>\n",
       "      <th>LGBTQ?</th>\n",
       "      <th>STEM?</th>\n",
       "      <th>Justice Dems Endorsed?</th>\n",
       "      <th>receipts</th>\n",
       "      <th>Listed.military.service.</th>\n",
       "      <th>Previous.Electoral.Experience</th>\n",
       "      <th>Position.on.Same.Sex.Marriage</th>\n",
       "      <th>...</th>\n",
       "      <th>Position.on.Handling.Terrorism.Abroad_Candidate supports calls for increased American intervention to combat terrorism</th>\n",
       "      <th>Position.on.Handling.Terrorism.Abroad_Candidate supports status quo efforts to combat terrorism</th>\n",
       "      <th>Position.on.Russia_Candidate identifies Russia as political ally of the United States</th>\n",
       "      <th>Position.on.Russia_Candidate notes Russia as political enemy of the United States</th>\n",
       "      <th>Position.on.Russia_Candidate provides complicated/complex/unclear position</th>\n",
       "      <th>Party.Category_Establishment Democrat</th>\n",
       "      <th>Party.Category_Moderate Democrat</th>\n",
       "      <th>Party.Category_Progressive Democrat</th>\n",
       "      <th>Total Other Endorsements</th>\n",
       "      <th>pscore</th>\n",
       "    </tr>\n",
       "  </thead>\n",
       "  <tbody>\n",
       "    <tr>\n",
       "      <th>0</th>\n",
       "      <td>-21.379999</td>\n",
       "      <td>1</td>\n",
       "      <td>0</td>\n",
       "      <td>0</td>\n",
       "      <td>0</td>\n",
       "      <td>1.0</td>\n",
       "      <td>1097584.95</td>\n",
       "      <td>0</td>\n",
       "      <td>0</td>\n",
       "      <td>0</td>\n",
       "      <td>...</td>\n",
       "      <td>0.0</td>\n",
       "      <td>0.0</td>\n",
       "      <td>0.0</td>\n",
       "      <td>0.0</td>\n",
       "      <td>0.0</td>\n",
       "      <td>1.0</td>\n",
       "      <td>0.0</td>\n",
       "      <td>0.0</td>\n",
       "      <td>1.0</td>\n",
       "      <td>0.310410</td>\n",
       "    </tr>\n",
       "    <tr>\n",
       "      <th>1</th>\n",
       "      <td>-21.379999</td>\n",
       "      <td>0</td>\n",
       "      <td>0</td>\n",
       "      <td>0</td>\n",
       "      <td>0</td>\n",
       "      <td>0.0</td>\n",
       "      <td>17275.00</td>\n",
       "      <td>0</td>\n",
       "      <td>0</td>\n",
       "      <td>0</td>\n",
       "      <td>...</td>\n",
       "      <td>0.0</td>\n",
       "      <td>0.0</td>\n",
       "      <td>0.0</td>\n",
       "      <td>0.0</td>\n",
       "      <td>0.0</td>\n",
       "      <td>0.0</td>\n",
       "      <td>0.0</td>\n",
       "      <td>0.0</td>\n",
       "      <td>0.0</td>\n",
       "      <td>0.496859</td>\n",
       "    </tr>\n",
       "    <tr>\n",
       "      <th>2</th>\n",
       "      <td>-21.379999</td>\n",
       "      <td>0</td>\n",
       "      <td>0</td>\n",
       "      <td>0</td>\n",
       "      <td>0</td>\n",
       "      <td>0.0</td>\n",
       "      <td>290020.57</td>\n",
       "      <td>0</td>\n",
       "      <td>0</td>\n",
       "      <td>0</td>\n",
       "      <td>...</td>\n",
       "      <td>0.0</td>\n",
       "      <td>0.0</td>\n",
       "      <td>0.0</td>\n",
       "      <td>0.0</td>\n",
       "      <td>0.0</td>\n",
       "      <td>1.0</td>\n",
       "      <td>0.0</td>\n",
       "      <td>0.0</td>\n",
       "      <td>0.0</td>\n",
       "      <td>0.447466</td>\n",
       "    </tr>\n",
       "    <tr>\n",
       "      <th>3</th>\n",
       "      <td>-21.379999</td>\n",
       "      <td>0</td>\n",
       "      <td>0</td>\n",
       "      <td>0</td>\n",
       "      <td>0</td>\n",
       "      <td>0.0</td>\n",
       "      <td>68655.53</td>\n",
       "      <td>0</td>\n",
       "      <td>0</td>\n",
       "      <td>1</td>\n",
       "      <td>...</td>\n",
       "      <td>0.0</td>\n",
       "      <td>0.0</td>\n",
       "      <td>0.0</td>\n",
       "      <td>0.0</td>\n",
       "      <td>0.0</td>\n",
       "      <td>1.0</td>\n",
       "      <td>0.0</td>\n",
       "      <td>0.0</td>\n",
       "      <td>1.0</td>\n",
       "      <td>0.487520</td>\n",
       "    </tr>\n",
       "    <tr>\n",
       "      <th>4</th>\n",
       "      <td>0.620000</td>\n",
       "      <td>0</td>\n",
       "      <td>0</td>\n",
       "      <td>0</td>\n",
       "      <td>1</td>\n",
       "      <td>1.0</td>\n",
       "      <td>68767.16</td>\n",
       "      <td>0</td>\n",
       "      <td>0</td>\n",
       "      <td>1</td>\n",
       "      <td>...</td>\n",
       "      <td>0.0</td>\n",
       "      <td>0.0</td>\n",
       "      <td>0.0</td>\n",
       "      <td>0.0</td>\n",
       "      <td>0.0</td>\n",
       "      <td>0.0</td>\n",
       "      <td>0.0</td>\n",
       "      <td>1.0</td>\n",
       "      <td>1.0</td>\n",
       "      <td>0.487500</td>\n",
       "    </tr>\n",
       "  </tbody>\n",
       "</table>\n",
       "<p>5 rows × 68 columns</p>\n",
       "</div>"
      ],
      "text/plain": [
       "   Partisan Lean  Won Primary  Race  LGBTQ?  STEM?  Justice Dems Endorsed?  \\\n",
       "0     -21.379999            1     0       0      0                     1.0   \n",
       "1     -21.379999            0     0       0      0                     0.0   \n",
       "2     -21.379999            0     0       0      0                     0.0   \n",
       "3     -21.379999            0     0       0      0                     0.0   \n",
       "4       0.620000            0     0       0      1                     1.0   \n",
       "\n",
       "     receipts  Listed.military.service.  Previous.Electoral.Experience  \\\n",
       "0  1097584.95                         0                              0   \n",
       "1    17275.00                         0                              0   \n",
       "2   290020.57                         0                              0   \n",
       "3    68655.53                         0                              0   \n",
       "4    68767.16                         0                              0   \n",
       "\n",
       "   Position.on.Same.Sex.Marriage  ...  \\\n",
       "0                              0  ...   \n",
       "1                              0  ...   \n",
       "2                              0  ...   \n",
       "3                              1  ...   \n",
       "4                              1  ...   \n",
       "\n",
       "   Position.on.Handling.Terrorism.Abroad_Candidate supports calls for increased American intervention to combat terrorism  \\\n",
       "0                                                0.0                                                                        \n",
       "1                                                0.0                                                                        \n",
       "2                                                0.0                                                                        \n",
       "3                                                0.0                                                                        \n",
       "4                                                0.0                                                                        \n",
       "\n",
       "   Position.on.Handling.Terrorism.Abroad_Candidate supports status quo efforts to combat terrorism  \\\n",
       "0                                                0.0                                                 \n",
       "1                                                0.0                                                 \n",
       "2                                                0.0                                                 \n",
       "3                                                0.0                                                 \n",
       "4                                                0.0                                                 \n",
       "\n",
       "   Position.on.Russia_Candidate identifies Russia as political ally of the United States  \\\n",
       "0                                                0.0                                       \n",
       "1                                                0.0                                       \n",
       "2                                                0.0                                       \n",
       "3                                                0.0                                       \n",
       "4                                                0.0                                       \n",
       "\n",
       "   Position.on.Russia_Candidate notes Russia as political enemy of the United States  \\\n",
       "0                                                0.0                                   \n",
       "1                                                0.0                                   \n",
       "2                                                0.0                                   \n",
       "3                                                0.0                                   \n",
       "4                                                0.0                                   \n",
       "\n",
       "   Position.on.Russia_Candidate provides complicated/complex/unclear position  \\\n",
       "0                                                0.0                            \n",
       "1                                                0.0                            \n",
       "2                                                0.0                            \n",
       "3                                                0.0                            \n",
       "4                                                0.0                            \n",
       "\n",
       "   Party.Category_Establishment Democrat  Party.Category_Moderate Democrat  \\\n",
       "0                                    1.0                               0.0   \n",
       "1                                    0.0                               0.0   \n",
       "2                                    1.0                               0.0   \n",
       "3                                    1.0                               0.0   \n",
       "4                                    0.0                               0.0   \n",
       "\n",
       "   Party.Category_Progressive Democrat  Total Other Endorsements    pscore  \n",
       "0                                  0.0                       1.0  0.310410  \n",
       "1                                  0.0                       0.0  0.496859  \n",
       "2                                  0.0                       0.0  0.447466  \n",
       "3                                  0.0                       1.0  0.487520  \n",
       "4                                  1.0                       1.0  0.487500  \n",
       "\n",
       "[5 rows x 68 columns]"
      ]
     },
     "execution_count": 533,
     "metadata": {},
     "output_type": "execute_result"
    }
   ],
   "source": [
    "jd['pscore'] = fit.predict_proba(X)[:, 1]\n",
    "jd.head()"
   ]
  },
  {
   "cell_type": "code",
   "execution_count": 534,
   "id": "e4df3550",
   "metadata": {},
   "outputs": [
    {
     "data": {
      "image/png": "[encoded data removed]",
      "text/plain": [
       "<Figure size 432x288 with 1 Axes>"
      ]
     },
     "metadata": {
      "needs_background": "light"
     },
     "output_type": "display_data"
    }
   ],
   "source": [
    "plt.hist(jd[jd['Justice Dems Endorsed?'] == 1]['pscore'])\n",
    "plt.title(\"Propensity score of people receiving the treatment\\n(Justice Dems Endorsed)\")\n",
    "plt.savefig('justice_dems_treat.png');"
   ]
  },
  {
   "cell_type": "code",
   "execution_count": 535,
   "id": "c0e58cc8",
   "metadata": {},
   "outputs": [
    {
     "data": {
      "image/png": "[encoded data removed]",
      "text/plain": [
       "<Figure size 432x288 with 1 Axes>"
      ]
     },
     "metadata": {
      "needs_background": "light"
     },
     "output_type": "display_data"
    }
   ],
   "source": [
    "plt.hist(jd[jd['Justice Dems Endorsed?'] == 0]['pscore'])\n",
    "plt.title(\"Propensity score of people not receiving the treatment\")\n",
    "plt.savefig('justice_dems_ctrl.png');"
   ]
  },
  {
   "cell_type": "markdown",
   "id": "0378772c",
   "metadata": {},
   "source": [
    "### IPW Estimate"
   ]
  },
  {
   "cell_type": "code",
   "execution_count": 536,
   "id": "1180401d",
   "metadata": {},
   "outputs": [
    {
     "name": "stdout",
     "output_type": "stream",
     "text": [
      "IPW estimate: 0.11729285687927486\n",
      "trimmed IPW estimate: 0.11231699005167115\n"
     ]
    }
   ],
   "source": [
    "reweighted_treated = (jd[jd['Justice Dems Endorsed?'] == 1]['Won Primary'] / jd[jd['Justice Dems Endorsed?'] == 1]['pscore']).sum()\n",
    "reweighted_control = (jd[jd['Justice Dems Endorsed?'] == 0]['Won Primary'] / (1 - jd[jd['Justice Dems Endorsed?'] == 0]['pscore'])).sum()\n",
    "ipw_estimate = (reweighted_treated - reweighted_control) / len(jd)\n",
    "print('IPW estimate:', ipw_estimate)\n",
    "\n",
    "obs_filt = jd[jd['pscore'].between(0.1, 0.9)]\n",
    "reweighted_treated_filt = (obs_filt[obs_filt['Justice Dems Endorsed?'] == 1]['Won Primary'] / obs_filt[obs_filt['Justice Dems Endorsed?'] == 1]['pscore']).sum()\n",
    "reweighted_control_filt = (obs_filt[obs_filt['Justice Dems Endorsed?'] == 0]['Won Primary'] / (1 - obs_filt[obs_filt['Justice Dems Endorsed?'] == 0]['pscore'])).sum()\n",
    "trimmed_ipw_estimate = (reweighted_treated_filt - reweighted_control_filt) / len(obs_filt)\n",
    "print('trimmed IPW estimate:', trimmed_ipw_estimate)"
   ]
  },
  {
   "cell_type": "code",
   "execution_count": 537,
   "id": "f1c23455",
   "metadata": {},
   "outputs": [
    {
     "name": "stdout",
     "output_type": "stream",
     "text": [
      "Our 95% confidence interval ranges from -0.055 to 0.527\n"
     ]
    }
   ],
   "source": [
    "jd_ates = get_bootstrapped_ate(jd, 'Justice Dems Endorsed?')\n",
    "confidence_interval = [np.percentile(jd_ates, 2.5), \n",
    "                       np.percentile(jd_ates, 97.5)]\n",
    "print(f\"Our 95% confidence interval ranges from {np.round(confidence_interval[0], decimals=3)} to {np.round(confidence_interval[1], decimals=3)}\")"
   ]
  },
  {
   "cell_type": "markdown",
   "id": "60e8ad69",
   "metadata": {},
   "source": [
    "## Inverse Propensity Weighting: Gun Sense\n",
    "- Y (outcome): `'Won Primary'`\n",
    "- Z (treatment): `'Gun Sense Candidate?'`\n",
    "- X (confounders): `'Total Endorsements'`, `'Partisan Lean'`, `'Race'`, `'Veteran?'`, `'LGBTQ?'`, `'STEM?'`, `'Elected Official?'`, `'receipts'`"
   ]
  },
  {
   "cell_type": "code",
   "execution_count": 538,
   "id": "864eee75",
   "metadata": {},
   "outputs": [
    {
     "data": {
      "text/plain": [
       "0.1324367003660813"
      ]
     },
     "execution_count": 538,
     "metadata": {},
     "output_type": "execute_result"
    }
   ],
   "source": [
    "gs = ipw(df, 'Gun Sense Candidate?')\n",
    "X, Y, Z = split(gs, 'Gun Sense Candidate?')\n",
    "fit = logreg(X, Z)\n",
    "estimate_treatment_effect(fit, X, Y, Z)"
   ]
  },
  {
   "cell_type": "code",
   "execution_count": 539,
   "id": "11c61c4f",
   "metadata": {},
   "outputs": [
    {
     "data": {
      "text/plain": [
       "0.3180127148575465"
      ]
     },
     "execution_count": 539,
     "metadata": {},
     "output_type": "execute_result"
    }
   ],
   "source": [
    "# the naive estimator does not account for confounders!\n",
    "np.mean(Y[Z == 1] * Z[Z == 1]) - np.mean(Y[Z == 0] * (1 - Z[Z == 0]))"
   ]
  },
  {
   "cell_type": "markdown",
   "id": "a464ee12",
   "metadata": {},
   "source": [
    "### Adding the propensity scores"
   ]
  },
  {
   "cell_type": "code",
   "execution_count": 540,
   "id": "3f013f36",
   "metadata": {},
   "outputs": [
    {
     "data": {
      "text/html": [
       "<div>\n",
       "<style scoped>\n",
       "    .dataframe tbody tr th:only-of-type {\n",
       "        vertical-align: middle;\n",
       "    }\n",
       "\n",
       "    .dataframe tbody tr th {\n",
       "        vertical-align: top;\n",
       "    }\n",
       "\n",
       "    .dataframe thead th {\n",
       "        text-align: right;\n",
       "    }\n",
       "</style>\n",
       "<table border=\"1\" class=\"dataframe\">\n",
       "  <thead>\n",
       "    <tr style=\"text-align: right;\">\n",
       "      <th></th>\n",
       "      <th>Partisan Lean</th>\n",
       "      <th>Won Primary</th>\n",
       "      <th>Race</th>\n",
       "      <th>LGBTQ?</th>\n",
       "      <th>STEM?</th>\n",
       "      <th>Gun Sense Candidate?</th>\n",
       "      <th>receipts</th>\n",
       "      <th>Listed.military.service.</th>\n",
       "      <th>Previous.Electoral.Experience</th>\n",
       "      <th>Position.on.Same.Sex.Marriage</th>\n",
       "      <th>...</th>\n",
       "      <th>Position.on.Handling.Terrorism.Abroad_Candidate supports calls for increased American intervention to combat terrorism</th>\n",
       "      <th>Position.on.Handling.Terrorism.Abroad_Candidate supports status quo efforts to combat terrorism</th>\n",
       "      <th>Position.on.Russia_Candidate identifies Russia as political ally of the United States</th>\n",
       "      <th>Position.on.Russia_Candidate notes Russia as political enemy of the United States</th>\n",
       "      <th>Position.on.Russia_Candidate provides complicated/complex/unclear position</th>\n",
       "      <th>Party.Category_Establishment Democrat</th>\n",
       "      <th>Party.Category_Moderate Democrat</th>\n",
       "      <th>Party.Category_Progressive Democrat</th>\n",
       "      <th>Total Other Endorsements</th>\n",
       "      <th>pscore</th>\n",
       "    </tr>\n",
       "  </thead>\n",
       "  <tbody>\n",
       "    <tr>\n",
       "      <th>0</th>\n",
       "      <td>-33.66</td>\n",
       "      <td>0</td>\n",
       "      <td>1</td>\n",
       "      <td>0</td>\n",
       "      <td>1</td>\n",
       "      <td>1.0</td>\n",
       "      <td>14535.25</td>\n",
       "      <td>0</td>\n",
       "      <td>0</td>\n",
       "      <td>0</td>\n",
       "      <td>...</td>\n",
       "      <td>0.0</td>\n",
       "      <td>0.0</td>\n",
       "      <td>0.0</td>\n",
       "      <td>0.0</td>\n",
       "      <td>0.0</td>\n",
       "      <td>0.0</td>\n",
       "      <td>0.0</td>\n",
       "      <td>0.0</td>\n",
       "      <td>0.0</td>\n",
       "      <td>0.501378</td>\n",
       "    </tr>\n",
       "    <tr>\n",
       "      <th>1</th>\n",
       "      <td>-33.66</td>\n",
       "      <td>1</td>\n",
       "      <td>0</td>\n",
       "      <td>0</td>\n",
       "      <td>0</td>\n",
       "      <td>1.0</td>\n",
       "      <td>467514.71</td>\n",
       "      <td>0</td>\n",
       "      <td>0</td>\n",
       "      <td>1</td>\n",
       "      <td>...</td>\n",
       "      <td>0.0</td>\n",
       "      <td>0.0</td>\n",
       "      <td>0.0</td>\n",
       "      <td>0.0</td>\n",
       "      <td>0.0</td>\n",
       "      <td>1.0</td>\n",
       "      <td>0.0</td>\n",
       "      <td>0.0</td>\n",
       "      <td>0.0</td>\n",
       "      <td>0.544193</td>\n",
       "    </tr>\n",
       "    <tr>\n",
       "      <th>2</th>\n",
       "      <td>-62.48</td>\n",
       "      <td>1</td>\n",
       "      <td>0</td>\n",
       "      <td>0</td>\n",
       "      <td>0</td>\n",
       "      <td>1.0</td>\n",
       "      <td>70425.87</td>\n",
       "      <td>0</td>\n",
       "      <td>0</td>\n",
       "      <td>0</td>\n",
       "      <td>...</td>\n",
       "      <td>0.0</td>\n",
       "      <td>0.0</td>\n",
       "      <td>0.0</td>\n",
       "      <td>0.0</td>\n",
       "      <td>0.0</td>\n",
       "      <td>1.0</td>\n",
       "      <td>0.0</td>\n",
       "      <td>0.0</td>\n",
       "      <td>0.0</td>\n",
       "      <td>0.506674</td>\n",
       "    </tr>\n",
       "    <tr>\n",
       "      <th>3</th>\n",
       "      <td>-62.48</td>\n",
       "      <td>0</td>\n",
       "      <td>0</td>\n",
       "      <td>0</td>\n",
       "      <td>0</td>\n",
       "      <td>0.0</td>\n",
       "      <td>21088.35</td>\n",
       "      <td>1</td>\n",
       "      <td>0</td>\n",
       "      <td>0</td>\n",
       "      <td>...</td>\n",
       "      <td>0.0</td>\n",
       "      <td>0.0</td>\n",
       "      <td>0.0</td>\n",
       "      <td>0.0</td>\n",
       "      <td>0.0</td>\n",
       "      <td>1.0</td>\n",
       "      <td>0.0</td>\n",
       "      <td>0.0</td>\n",
       "      <td>0.0</td>\n",
       "      <td>0.501999</td>\n",
       "    </tr>\n",
       "    <tr>\n",
       "      <th>4</th>\n",
       "      <td>-13.51</td>\n",
       "      <td>1</td>\n",
       "      <td>0</td>\n",
       "      <td>0</td>\n",
       "      <td>0</td>\n",
       "      <td>1.0</td>\n",
       "      <td>2366991.03</td>\n",
       "      <td>0</td>\n",
       "      <td>1</td>\n",
       "      <td>1</td>\n",
       "      <td>...</td>\n",
       "      <td>0.0</td>\n",
       "      <td>0.0</td>\n",
       "      <td>0.0</td>\n",
       "      <td>0.0</td>\n",
       "      <td>0.0</td>\n",
       "      <td>1.0</td>\n",
       "      <td>0.0</td>\n",
       "      <td>0.0</td>\n",
       "      <td>1.0</td>\n",
       "      <td>0.710401</td>\n",
       "    </tr>\n",
       "  </tbody>\n",
       "</table>\n",
       "<p>5 rows × 68 columns</p>\n",
       "</div>"
      ],
      "text/plain": [
       "   Partisan Lean  Won Primary  Race  LGBTQ?  STEM?  Gun Sense Candidate?  \\\n",
       "0         -33.66            0     1       0      1                   1.0   \n",
       "1         -33.66            1     0       0      0                   1.0   \n",
       "2         -62.48            1     0       0      0                   1.0   \n",
       "3         -62.48            0     0       0      0                   0.0   \n",
       "4         -13.51            1     0       0      0                   1.0   \n",
       "\n",
       "     receipts  Listed.military.service.  Previous.Electoral.Experience  \\\n",
       "0    14535.25                         0                              0   \n",
       "1   467514.71                         0                              0   \n",
       "2    70425.87                         0                              0   \n",
       "3    21088.35                         1                              0   \n",
       "4  2366991.03                         0                              1   \n",
       "\n",
       "   Position.on.Same.Sex.Marriage  ...  \\\n",
       "0                              0  ...   \n",
       "1                              1  ...   \n",
       "2                              0  ...   \n",
       "3                              0  ...   \n",
       "4                              1  ...   \n",
       "\n",
       "   Position.on.Handling.Terrorism.Abroad_Candidate supports calls for increased American intervention to combat terrorism  \\\n",
       "0                                                0.0                                                                        \n",
       "1                                                0.0                                                                        \n",
       "2                                                0.0                                                                        \n",
       "3                                                0.0                                                                        \n",
       "4                                                0.0                                                                        \n",
       "\n",
       "   Position.on.Handling.Terrorism.Abroad_Candidate supports status quo efforts to combat terrorism  \\\n",
       "0                                                0.0                                                 \n",
       "1                                                0.0                                                 \n",
       "2                                                0.0                                                 \n",
       "3                                                0.0                                                 \n",
       "4                                                0.0                                                 \n",
       "\n",
       "   Position.on.Russia_Candidate identifies Russia as political ally of the United States  \\\n",
       "0                                                0.0                                       \n",
       "1                                                0.0                                       \n",
       "2                                                0.0                                       \n",
       "3                                                0.0                                       \n",
       "4                                                0.0                                       \n",
       "\n",
       "   Position.on.Russia_Candidate notes Russia as political enemy of the United States  \\\n",
       "0                                                0.0                                   \n",
       "1                                                0.0                                   \n",
       "2                                                0.0                                   \n",
       "3                                                0.0                                   \n",
       "4                                                0.0                                   \n",
       "\n",
       "   Position.on.Russia_Candidate provides complicated/complex/unclear position  \\\n",
       "0                                                0.0                            \n",
       "1                                                0.0                            \n",
       "2                                                0.0                            \n",
       "3                                                0.0                            \n",
       "4                                                0.0                            \n",
       "\n",
       "   Party.Category_Establishment Democrat  Party.Category_Moderate Democrat  \\\n",
       "0                                    0.0                               0.0   \n",
       "1                                    1.0                               0.0   \n",
       "2                                    1.0                               0.0   \n",
       "3                                    1.0                               0.0   \n",
       "4                                    1.0                               0.0   \n",
       "\n",
       "   Party.Category_Progressive Democrat  Total Other Endorsements    pscore  \n",
       "0                                  0.0                       0.0  0.501378  \n",
       "1                                  0.0                       0.0  0.544193  \n",
       "2                                  0.0                       0.0  0.506674  \n",
       "3                                  0.0                       0.0  0.501999  \n",
       "4                                  0.0                       1.0  0.710401  \n",
       "\n",
       "[5 rows x 68 columns]"
      ]
     },
     "execution_count": 540,
     "metadata": {},
     "output_type": "execute_result"
    }
   ],
   "source": [
    "gs['pscore'] = fit.predict_proba(X)[:, 1]\n",
    "gs.head()"
   ]
  },
  {
   "cell_type": "code",
   "execution_count": 541,
   "id": "2f9eb4d2",
   "metadata": {},
   "outputs": [
    {
     "data": {
      "image/png": "[encoded data removed]",
      "text/plain": [
       "<Figure size 432x288 with 1 Axes>"
      ]
     },
     "metadata": {
      "needs_background": "light"
     },
     "output_type": "display_data"
    }
   ],
   "source": [
    "plt.hist(gs[gs['Gun Sense Candidate?'] == 1]['pscore'])\n",
    "plt.title(\"Propensity score of people receiving the treatment\\n(Gun Sense Candidate)\")\n",
    "plt.savefig('gun_sense_treat.png');"
   ]
  },
  {
   "cell_type": "code",
   "execution_count": 542,
   "id": "b44d73e7",
   "metadata": {},
   "outputs": [
    {
     "data": {
      "image/png": "[encoded data removed]",
      "text/plain": [
       "<Figure size 432x288 with 1 Axes>"
      ]
     },
     "metadata": {
      "needs_background": "light"
     },
     "output_type": "display_data"
    }
   ],
   "source": [
    "plt.hist(gs[gs['Gun Sense Candidate?'] == 0]['pscore'])\n",
    "plt.title(\"Propensity score of people not receiving the treatment\")\n",
    "plt.savefig('gun_sense_ctrl.png');"
   ]
  },
  {
   "cell_type": "markdown",
   "id": "e0092e31",
   "metadata": {},
   "source": [
    "### IPW Estimate"
   ]
  },
  {
   "cell_type": "code",
   "execution_count": 543,
   "id": "2cca67ef",
   "metadata": {},
   "outputs": [
    {
     "name": "stdout",
     "output_type": "stream",
     "text": [
      "IPW estimate: 0.1324367003660813\n",
      "trimmed IPW estimate: 0.08270524718717327\n"
     ]
    }
   ],
   "source": [
    "reweighted_treated = (gs[gs['Gun Sense Candidate?'] == 1]['Won Primary'] / gs[gs['Gun Sense Candidate?'] == 1]['pscore']).sum()\n",
    "reweighted_control = (gs[gs['Gun Sense Candidate?'] == 0]['Won Primary'] / (1 - gs[gs['Gun Sense Candidate?'] == 0]['pscore'])).sum()\n",
    "ipw_estimate = (reweighted_treated - reweighted_control) / len(gs)\n",
    "print('IPW estimate:', ipw_estimate)\n",
    "\n",
    "obs_filt = gs[gs['pscore'].between(0.1, 0.9)]\n",
    "reweighted_treated_filt = (obs_filt[obs_filt['Gun Sense Candidate?'] == 1]['Won Primary'] / obs_filt[obs_filt['Gun Sense Candidate?'] == 1]['pscore']).sum()\n",
    "reweighted_control_filt = (obs_filt[obs_filt['Gun Sense Candidate?'] == 0]['Won Primary'] / (1 - obs_filt[obs_filt['Gun Sense Candidate?'] == 0]['pscore'])).sum()\n",
    "trimmed_ipw_estimate = (reweighted_treated_filt - reweighted_control_filt) / len(obs_filt)\n",
    "print('trimmed IPW estimate:', trimmed_ipw_estimate)"
   ]
  },
  {
   "cell_type": "code",
   "execution_count": 544,
   "id": "dd4a57da",
   "metadata": {},
   "outputs": [
    {
     "name": "stdout",
     "output_type": "stream",
     "text": [
      "Our 95% confidence interval ranges from -0.004 to 0.205\n"
     ]
    }
   ],
   "source": [
    "gs_ates = get_bootstrapped_ate(gs, 'Gun Sense Candidate?')\n",
    "confidence_interval = [np.percentile(gs_ates, 2.5), \n",
    "                       np.percentile(gs_ates, 97.5)]\n",
    "print(f\"Our 95% confidence interval ranges from {np.round(confidence_interval[0], decimals=3)} to {np.round(confidence_interval[1], decimals=3)}\")"
   ]
  },
  {
   "cell_type": "markdown",
   "id": "ea8ecfed",
   "metadata": {},
   "source": [
    "## Inverse Propensity Weighting: Indivisible"
   ]
  },
  {
   "cell_type": "code",
   "execution_count": 545,
   "id": "66819c7c",
   "metadata": {},
   "outputs": [
    {
     "data": {
      "text/plain": [
       "0.18852276990145495"
      ]
     },
     "execution_count": 545,
     "metadata": {},
     "output_type": "execute_result"
    }
   ],
   "source": [
    "ind = ipw(df, 'Indivisible Endorsed?')\n",
    "X, Y, Z = split(ind, 'Indivisible Endorsed?')\n",
    "fit = logreg(X, Z)\n",
    "estimate_treatment_effect(fit, X, Y, Z)"
   ]
  },
  {
   "cell_type": "code",
   "execution_count": 546,
   "id": "76bde76f",
   "metadata": {},
   "outputs": [
    {
     "data": {
      "text/plain": [
       "0.4600301659125189"
      ]
     },
     "execution_count": 546,
     "metadata": {},
     "output_type": "execute_result"
    }
   ],
   "source": [
    "# the naive estimator does not account for confounders!\n",
    "np.mean(Y[Z == 1] * Z[Z == 1]) - np.mean(Y[Z == 0] * (1 - Z[Z == 0]))"
   ]
  },
  {
   "cell_type": "markdown",
   "id": "cd185cc2",
   "metadata": {},
   "source": [
    "### Adding the propensity scores"
   ]
  },
  {
   "cell_type": "code",
   "execution_count": 547,
   "id": "eee3b18a",
   "metadata": {},
   "outputs": [
    {
     "data": {
      "text/html": [
       "<div>\n",
       "<style scoped>\n",
       "    .dataframe tbody tr th:only-of-type {\n",
       "        vertical-align: middle;\n",
       "    }\n",
       "\n",
       "    .dataframe tbody tr th {\n",
       "        vertical-align: top;\n",
       "    }\n",
       "\n",
       "    .dataframe thead th {\n",
       "        text-align: right;\n",
       "    }\n",
       "</style>\n",
       "<table border=\"1\" class=\"dataframe\">\n",
       "  <thead>\n",
       "    <tr style=\"text-align: right;\">\n",
       "      <th></th>\n",
       "      <th>Partisan Lean</th>\n",
       "      <th>Won Primary</th>\n",
       "      <th>Race</th>\n",
       "      <th>LGBTQ?</th>\n",
       "      <th>STEM?</th>\n",
       "      <th>Indivisible Endorsed?</th>\n",
       "      <th>receipts</th>\n",
       "      <th>Listed.military.service.</th>\n",
       "      <th>Previous.Electoral.Experience</th>\n",
       "      <th>Position.on.Same.Sex.Marriage</th>\n",
       "      <th>...</th>\n",
       "      <th>Position.on.Handling.Terrorism.Abroad_Candidate supports calls for increased American intervention to combat terrorism</th>\n",
       "      <th>Position.on.Handling.Terrorism.Abroad_Candidate supports status quo efforts to combat terrorism</th>\n",
       "      <th>Position.on.Russia_Candidate identifies Russia as political ally of the United States</th>\n",
       "      <th>Position.on.Russia_Candidate notes Russia as political enemy of the United States</th>\n",
       "      <th>Position.on.Russia_Candidate provides complicated/complex/unclear position</th>\n",
       "      <th>Party.Category_Establishment Democrat</th>\n",
       "      <th>Party.Category_Moderate Democrat</th>\n",
       "      <th>Party.Category_Progressive Democrat</th>\n",
       "      <th>Total Other Endorsements</th>\n",
       "      <th>pscore</th>\n",
       "    </tr>\n",
       "  </thead>\n",
       "  <tbody>\n",
       "    <tr>\n",
       "      <th>0</th>\n",
       "      <td>-21.379999</td>\n",
       "      <td>1</td>\n",
       "      <td>0</td>\n",
       "      <td>0</td>\n",
       "      <td>0</td>\n",
       "      <td>0.0</td>\n",
       "      <td>1097584.95</td>\n",
       "      <td>0</td>\n",
       "      <td>0</td>\n",
       "      <td>0</td>\n",
       "      <td>...</td>\n",
       "      <td>0.0</td>\n",
       "      <td>0.0</td>\n",
       "      <td>0.0</td>\n",
       "      <td>0.0</td>\n",
       "      <td>0.0</td>\n",
       "      <td>1.0</td>\n",
       "      <td>0.0</td>\n",
       "      <td>0.0</td>\n",
       "      <td>2.0</td>\n",
       "      <td>0.496702</td>\n",
       "    </tr>\n",
       "    <tr>\n",
       "      <th>1</th>\n",
       "      <td>-21.379999</td>\n",
       "      <td>0</td>\n",
       "      <td>0</td>\n",
       "      <td>0</td>\n",
       "      <td>0</td>\n",
       "      <td>0.0</td>\n",
       "      <td>17275.00</td>\n",
       "      <td>0</td>\n",
       "      <td>0</td>\n",
       "      <td>0</td>\n",
       "      <td>...</td>\n",
       "      <td>0.0</td>\n",
       "      <td>0.0</td>\n",
       "      <td>0.0</td>\n",
       "      <td>0.0</td>\n",
       "      <td>0.0</td>\n",
       "      <td>0.0</td>\n",
       "      <td>0.0</td>\n",
       "      <td>0.0</td>\n",
       "      <td>0.0</td>\n",
       "      <td>0.499948</td>\n",
       "    </tr>\n",
       "    <tr>\n",
       "      <th>2</th>\n",
       "      <td>-21.379999</td>\n",
       "      <td>0</td>\n",
       "      <td>0</td>\n",
       "      <td>0</td>\n",
       "      <td>0</td>\n",
       "      <td>0.0</td>\n",
       "      <td>290020.57</td>\n",
       "      <td>0</td>\n",
       "      <td>0</td>\n",
       "      <td>0</td>\n",
       "      <td>...</td>\n",
       "      <td>0.0</td>\n",
       "      <td>0.0</td>\n",
       "      <td>0.0</td>\n",
       "      <td>0.0</td>\n",
       "      <td>0.0</td>\n",
       "      <td>1.0</td>\n",
       "      <td>0.0</td>\n",
       "      <td>0.0</td>\n",
       "      <td>0.0</td>\n",
       "      <td>0.499128</td>\n",
       "    </tr>\n",
       "    <tr>\n",
       "      <th>3</th>\n",
       "      <td>-21.379999</td>\n",
       "      <td>0</td>\n",
       "      <td>0</td>\n",
       "      <td>0</td>\n",
       "      <td>0</td>\n",
       "      <td>1.0</td>\n",
       "      <td>68655.53</td>\n",
       "      <td>0</td>\n",
       "      <td>0</td>\n",
       "      <td>1</td>\n",
       "      <td>...</td>\n",
       "      <td>0.0</td>\n",
       "      <td>0.0</td>\n",
       "      <td>0.0</td>\n",
       "      <td>0.0</td>\n",
       "      <td>0.0</td>\n",
       "      <td>1.0</td>\n",
       "      <td>0.0</td>\n",
       "      <td>0.0</td>\n",
       "      <td>0.0</td>\n",
       "      <td>0.499794</td>\n",
       "    </tr>\n",
       "    <tr>\n",
       "      <th>4</th>\n",
       "      <td>0.620000</td>\n",
       "      <td>0</td>\n",
       "      <td>0</td>\n",
       "      <td>0</td>\n",
       "      <td>1</td>\n",
       "      <td>0.0</td>\n",
       "      <td>68767.16</td>\n",
       "      <td>0</td>\n",
       "      <td>0</td>\n",
       "      <td>1</td>\n",
       "      <td>...</td>\n",
       "      <td>0.0</td>\n",
       "      <td>0.0</td>\n",
       "      <td>0.0</td>\n",
       "      <td>0.0</td>\n",
       "      <td>0.0</td>\n",
       "      <td>0.0</td>\n",
       "      <td>0.0</td>\n",
       "      <td>1.0</td>\n",
       "      <td>2.0</td>\n",
       "      <td>0.499793</td>\n",
       "    </tr>\n",
       "  </tbody>\n",
       "</table>\n",
       "<p>5 rows × 68 columns</p>\n",
       "</div>"
      ],
      "text/plain": [
       "   Partisan Lean  Won Primary  Race  LGBTQ?  STEM?  Indivisible Endorsed?  \\\n",
       "0     -21.379999            1     0       0      0                    0.0   \n",
       "1     -21.379999            0     0       0      0                    0.0   \n",
       "2     -21.379999            0     0       0      0                    0.0   \n",
       "3     -21.379999            0     0       0      0                    1.0   \n",
       "4       0.620000            0     0       0      1                    0.0   \n",
       "\n",
       "     receipts  Listed.military.service.  Previous.Electoral.Experience  \\\n",
       "0  1097584.95                         0                              0   \n",
       "1    17275.00                         0                              0   \n",
       "2   290020.57                         0                              0   \n",
       "3    68655.53                         0                              0   \n",
       "4    68767.16                         0                              0   \n",
       "\n",
       "   Position.on.Same.Sex.Marriage  ...  \\\n",
       "0                              0  ...   \n",
       "1                              0  ...   \n",
       "2                              0  ...   \n",
       "3                              1  ...   \n",
       "4                              1  ...   \n",
       "\n",
       "   Position.on.Handling.Terrorism.Abroad_Candidate supports calls for increased American intervention to combat terrorism  \\\n",
       "0                                                0.0                                                                        \n",
       "1                                                0.0                                                                        \n",
       "2                                                0.0                                                                        \n",
       "3                                                0.0                                                                        \n",
       "4                                                0.0                                                                        \n",
       "\n",
       "   Position.on.Handling.Terrorism.Abroad_Candidate supports status quo efforts to combat terrorism  \\\n",
       "0                                                0.0                                                 \n",
       "1                                                0.0                                                 \n",
       "2                                                0.0                                                 \n",
       "3                                                0.0                                                 \n",
       "4                                                0.0                                                 \n",
       "\n",
       "   Position.on.Russia_Candidate identifies Russia as political ally of the United States  \\\n",
       "0                                                0.0                                       \n",
       "1                                                0.0                                       \n",
       "2                                                0.0                                       \n",
       "3                                                0.0                                       \n",
       "4                                                0.0                                       \n",
       "\n",
       "   Position.on.Russia_Candidate notes Russia as political enemy of the United States  \\\n",
       "0                                                0.0                                   \n",
       "1                                                0.0                                   \n",
       "2                                                0.0                                   \n",
       "3                                                0.0                                   \n",
       "4                                                0.0                                   \n",
       "\n",
       "   Position.on.Russia_Candidate provides complicated/complex/unclear position  \\\n",
       "0                                                0.0                            \n",
       "1                                                0.0                            \n",
       "2                                                0.0                            \n",
       "3                                                0.0                            \n",
       "4                                                0.0                            \n",
       "\n",
       "   Party.Category_Establishment Democrat  Party.Category_Moderate Democrat  \\\n",
       "0                                    1.0                               0.0   \n",
       "1                                    0.0                               0.0   \n",
       "2                                    1.0                               0.0   \n",
       "3                                    1.0                               0.0   \n",
       "4                                    0.0                               0.0   \n",
       "\n",
       "   Party.Category_Progressive Democrat  Total Other Endorsements    pscore  \n",
       "0                                  0.0                       2.0  0.496702  \n",
       "1                                  0.0                       0.0  0.499948  \n",
       "2                                  0.0                       0.0  0.499128  \n",
       "3                                  0.0                       0.0  0.499794  \n",
       "4                                  1.0                       2.0  0.499793  \n",
       "\n",
       "[5 rows x 68 columns]"
      ]
     },
     "execution_count": 547,
     "metadata": {},
     "output_type": "execute_result"
    }
   ],
   "source": [
    "ind['pscore'] = fit.predict_proba(X)[:, 1]\n",
    "ind.head()"
   ]
  },
  {
   "cell_type": "code",
   "execution_count": 652,
   "id": "999130c0",
   "metadata": {},
   "outputs": [
    {
     "data": {
      "image/png": "[encoded data removed]",
      "text/plain": [
       "<Figure size 432x288 with 1 Axes>"
      ]
     },
     "metadata": {
      "needs_background": "light"
     },
     "output_type": "display_data"
    }
   ],
   "source": [
    "sns.histplot(ind[ind['Indivisible Endorsed?'] == 1]['pscore'])\n",
    "plt.title(\"Propensity score of people receiving the treatment\\n(Indivisible Endorsed)\")\n",
    "plt.savefig('indivisible_treat.png');"
   ]
  },
  {
   "cell_type": "code",
   "execution_count": 549,
   "id": "0f753149",
   "metadata": {},
   "outputs": [
    {
     "data": {
      "image/png": "[encoded data removed]",
      "text/plain": [
       "<Figure size 432x288 with 1 Axes>"
      ]
     },
     "metadata": {
      "needs_background": "light"
     },
     "output_type": "display_data"
    }
   ],
   "source": [
    "plt.hist(ind[ind['Indivisible Endorsed?'] == 0]['pscore'])\n",
    "plt.title(\"Propensity score of people not receiving the treatment\")\n",
    "plt.savefig('indivisible_ctrl.png');"
   ]
  },
  {
   "cell_type": "markdown",
   "id": "164cda8b",
   "metadata": {},
   "source": [
    "### IPW Estimate"
   ]
  },
  {
   "cell_type": "code",
   "execution_count": 550,
   "id": "8950e9f3",
   "metadata": {},
   "outputs": [
    {
     "name": "stdout",
     "output_type": "stream",
     "text": [
      "IPW estimate: 0.1885227699014549\n",
      "trimmed IPW estimate: 0.1885227699014549\n"
     ]
    }
   ],
   "source": [
    "reweighted_treated = (ind[ind['Indivisible Endorsed?'] == 1]['Won Primary'] / ind[ind['Indivisible Endorsed?'] == 1]['pscore']).sum()\n",
    "reweighted_control = (ind[ind['Indivisible Endorsed?'] == 0]['Won Primary'] / (1 - ind[ind['Indivisible Endorsed?'] == 0]['pscore'])).sum()\n",
    "ipw_estimate = (reweighted_treated - reweighted_control) / len(ind)\n",
    "print('IPW estimate:', ipw_estimate)\n",
    "\n",
    "obs_filt = ind[ind['pscore'].between(0.1, 0.9)]\n",
    "reweighted_treated_filt = (obs_filt[obs_filt['Indivisible Endorsed?'] == 1]['Won Primary'] / obs_filt[obs_filt['Indivisible Endorsed?'] == 1]['pscore']).sum()\n",
    "reweighted_control_filt = (obs_filt[obs_filt['Indivisible Endorsed?'] == 0]['Won Primary'] / (1 - obs_filt[obs_filt['Indivisible Endorsed?'] == 0]['pscore'])).sum()\n",
    "trimmed_ipw_estimate = (reweighted_treated_filt - reweighted_control_filt) / len(obs_filt)\n",
    "print('trimmed IPW estimate:', trimmed_ipw_estimate)"
   ]
  },
  {
   "cell_type": "code",
   "execution_count": 551,
   "id": "d0c56d43",
   "metadata": {},
   "outputs": [
    {
     "name": "stdout",
     "output_type": "stream",
     "text": [
      "Our 95% confidence interval ranges from 0.049 to 0.345\n"
     ]
    }
   ],
   "source": [
    "ind_ates = get_bootstrapped_ate(ind, 'Indivisible Endorsed?')\n",
    "confidence_interval = [np.percentile(ind_ates, 2.5), \n",
    "                       np.percentile(ind_ates, 97.5)]\n",
    "print(f\"Our 95% confidence interval ranges from {np.round(confidence_interval[0], decimals=3)} to {np.round(confidence_interval[1], decimals=3)}\")"
   ]
  },
  {
   "cell_type": "markdown",
   "id": "0325c64d",
   "metadata": {},
   "source": [
    "## Inverse Propensity Weighting: VoteVets"
   ]
  },
  {
   "cell_type": "code",
   "execution_count": 552,
   "id": "12fad7e9",
   "metadata": {},
   "outputs": [
    {
     "data": {
      "text/plain": [
       "0.07439178940193131"
      ]
     },
     "execution_count": 552,
     "metadata": {},
     "output_type": "execute_result"
    }
   ],
   "source": [
    "vv = ipw(df, 'VoteVets Endorsed?')\n",
    "X, Y, Z = split(vv, 'VoteVets Endorsed?')\n",
    "fit = logreg(X, Z)\n",
    "estimate_treatment_effect(fit, X, Y, Z)"
   ]
  },
  {
   "cell_type": "code",
   "execution_count": 553,
   "id": "88104636",
   "metadata": {},
   "outputs": [
    {
     "data": {
      "text/plain": [
       "0.40802675585284276"
      ]
     },
     "execution_count": 553,
     "metadata": {},
     "output_type": "execute_result"
    }
   ],
   "source": [
    "# the naive estimator does not account for confounders!\n",
    "np.mean(Y[Z == 1] * Z[Z == 1]) - np.mean(Y[Z == 0] * (1 - Z[Z == 0]))"
   ]
  },
  {
   "cell_type": "markdown",
   "id": "63c63ea1",
   "metadata": {},
   "source": [
    "### Adding the propensity scores"
   ]
  },
  {
   "cell_type": "code",
   "execution_count": 554,
   "id": "982f1491",
   "metadata": {},
   "outputs": [
    {
     "data": {
      "text/html": [
       "<div>\n",
       "<style scoped>\n",
       "    .dataframe tbody tr th:only-of-type {\n",
       "        vertical-align: middle;\n",
       "    }\n",
       "\n",
       "    .dataframe tbody tr th {\n",
       "        vertical-align: top;\n",
       "    }\n",
       "\n",
       "    .dataframe thead th {\n",
       "        text-align: right;\n",
       "    }\n",
       "</style>\n",
       "<table border=\"1\" class=\"dataframe\">\n",
       "  <thead>\n",
       "    <tr style=\"text-align: right;\">\n",
       "      <th></th>\n",
       "      <th>Partisan Lean</th>\n",
       "      <th>Won Primary</th>\n",
       "      <th>Race</th>\n",
       "      <th>LGBTQ?</th>\n",
       "      <th>STEM?</th>\n",
       "      <th>VoteVets Endorsed?</th>\n",
       "      <th>receipts</th>\n",
       "      <th>Listed.military.service.</th>\n",
       "      <th>Previous.Electoral.Experience</th>\n",
       "      <th>Position.on.Same.Sex.Marriage</th>\n",
       "      <th>...</th>\n",
       "      <th>Position.on.Handling.Terrorism.Abroad_Candidate supports calls for increased American intervention to combat terrorism</th>\n",
       "      <th>Position.on.Handling.Terrorism.Abroad_Candidate supports status quo efforts to combat terrorism</th>\n",
       "      <th>Position.on.Russia_Candidate identifies Russia as political ally of the United States</th>\n",
       "      <th>Position.on.Russia_Candidate notes Russia as political enemy of the United States</th>\n",
       "      <th>Position.on.Russia_Candidate provides complicated/complex/unclear position</th>\n",
       "      <th>Party.Category_Establishment Democrat</th>\n",
       "      <th>Party.Category_Moderate Democrat</th>\n",
       "      <th>Party.Category_Progressive Democrat</th>\n",
       "      <th>Total Other Endorsements</th>\n",
       "      <th>pscore</th>\n",
       "    </tr>\n",
       "  </thead>\n",
       "  <tbody>\n",
       "    <tr>\n",
       "      <th>0</th>\n",
       "      <td>2.99</td>\n",
       "      <td>0</td>\n",
       "      <td>0</td>\n",
       "      <td>0</td>\n",
       "      <td>0</td>\n",
       "      <td>0.0</td>\n",
       "      <td>3161418.81</td>\n",
       "      <td>0</td>\n",
       "      <td>0</td>\n",
       "      <td>1</td>\n",
       "      <td>...</td>\n",
       "      <td>0.0</td>\n",
       "      <td>0.0</td>\n",
       "      <td>0.0</td>\n",
       "      <td>0.0</td>\n",
       "      <td>0.0</td>\n",
       "      <td>0.0</td>\n",
       "      <td>0.0</td>\n",
       "      <td>1.0</td>\n",
       "      <td>2.0</td>\n",
       "      <td>0.520437</td>\n",
       "    </tr>\n",
       "    <tr>\n",
       "      <th>1</th>\n",
       "      <td>2.99</td>\n",
       "      <td>1</td>\n",
       "      <td>1</td>\n",
       "      <td>0</td>\n",
       "      <td>0</td>\n",
       "      <td>1.0</td>\n",
       "      <td>12265194.02</td>\n",
       "      <td>1</td>\n",
       "      <td>0</td>\n",
       "      <td>1</td>\n",
       "      <td>...</td>\n",
       "      <td>0.0</td>\n",
       "      <td>1.0</td>\n",
       "      <td>0.0</td>\n",
       "      <td>0.0</td>\n",
       "      <td>0.0</td>\n",
       "      <td>0.0</td>\n",
       "      <td>0.0</td>\n",
       "      <td>1.0</td>\n",
       "      <td>2.0</td>\n",
       "      <td>0.578672</td>\n",
       "    </tr>\n",
       "    <tr>\n",
       "      <th>2</th>\n",
       "      <td>2.99</td>\n",
       "      <td>0</td>\n",
       "      <td>1</td>\n",
       "      <td>0</td>\n",
       "      <td>1</td>\n",
       "      <td>0.0</td>\n",
       "      <td>1064247.19</td>\n",
       "      <td>0</td>\n",
       "      <td>0</td>\n",
       "      <td>1</td>\n",
       "      <td>...</td>\n",
       "      <td>0.0</td>\n",
       "      <td>0.0</td>\n",
       "      <td>0.0</td>\n",
       "      <td>0.0</td>\n",
       "      <td>0.0</td>\n",
       "      <td>0.0</td>\n",
       "      <td>1.0</td>\n",
       "      <td>0.0</td>\n",
       "      <td>0.0</td>\n",
       "      <td>0.506883</td>\n",
       "    </tr>\n",
       "    <tr>\n",
       "      <th>3</th>\n",
       "      <td>2.99</td>\n",
       "      <td>0</td>\n",
       "      <td>1</td>\n",
       "      <td>0</td>\n",
       "      <td>1</td>\n",
       "      <td>0.0</td>\n",
       "      <td>7265.00</td>\n",
       "      <td>0</td>\n",
       "      <td>0</td>\n",
       "      <td>0</td>\n",
       "      <td>...</td>\n",
       "      <td>0.0</td>\n",
       "      <td>0.0</td>\n",
       "      <td>0.0</td>\n",
       "      <td>0.0</td>\n",
       "      <td>0.0</td>\n",
       "      <td>0.0</td>\n",
       "      <td>0.0</td>\n",
       "      <td>0.0</td>\n",
       "      <td>2.0</td>\n",
       "      <td>0.500047</td>\n",
       "    </tr>\n",
       "    <tr>\n",
       "      <th>4</th>\n",
       "      <td>2.99</td>\n",
       "      <td>0</td>\n",
       "      <td>1</td>\n",
       "      <td>0</td>\n",
       "      <td>0</td>\n",
       "      <td>0.0</td>\n",
       "      <td>577017.47</td>\n",
       "      <td>0</td>\n",
       "      <td>0</td>\n",
       "      <td>1</td>\n",
       "      <td>...</td>\n",
       "      <td>0.0</td>\n",
       "      <td>0.0</td>\n",
       "      <td>0.0</td>\n",
       "      <td>0.0</td>\n",
       "      <td>0.0</td>\n",
       "      <td>0.0</td>\n",
       "      <td>0.0</td>\n",
       "      <td>1.0</td>\n",
       "      <td>2.0</td>\n",
       "      <td>0.503732</td>\n",
       "    </tr>\n",
       "  </tbody>\n",
       "</table>\n",
       "<p>5 rows × 68 columns</p>\n",
       "</div>"
      ],
      "text/plain": [
       "   Partisan Lean  Won Primary  Race  LGBTQ?  STEM?  VoteVets Endorsed?  \\\n",
       "0           2.99            0     0       0      0                 0.0   \n",
       "1           2.99            1     1       0      0                 1.0   \n",
       "2           2.99            0     1       0      1                 0.0   \n",
       "3           2.99            0     1       0      1                 0.0   \n",
       "4           2.99            0     1       0      0                 0.0   \n",
       "\n",
       "      receipts  Listed.military.service.  Previous.Electoral.Experience  \\\n",
       "0   3161418.81                         0                              0   \n",
       "1  12265194.02                         1                              0   \n",
       "2   1064247.19                         0                              0   \n",
       "3      7265.00                         0                              0   \n",
       "4    577017.47                         0                              0   \n",
       "\n",
       "   Position.on.Same.Sex.Marriage  ...  \\\n",
       "0                              1  ...   \n",
       "1                              1  ...   \n",
       "2                              1  ...   \n",
       "3                              0  ...   \n",
       "4                              1  ...   \n",
       "\n",
       "   Position.on.Handling.Terrorism.Abroad_Candidate supports calls for increased American intervention to combat terrorism  \\\n",
       "0                                                0.0                                                                        \n",
       "1                                                0.0                                                                        \n",
       "2                                                0.0                                                                        \n",
       "3                                                0.0                                                                        \n",
       "4                                                0.0                                                                        \n",
       "\n",
       "   Position.on.Handling.Terrorism.Abroad_Candidate supports status quo efforts to combat terrorism  \\\n",
       "0                                                0.0                                                 \n",
       "1                                                1.0                                                 \n",
       "2                                                0.0                                                 \n",
       "3                                                0.0                                                 \n",
       "4                                                0.0                                                 \n",
       "\n",
       "   Position.on.Russia_Candidate identifies Russia as political ally of the United States  \\\n",
       "0                                                0.0                                       \n",
       "1                                                0.0                                       \n",
       "2                                                0.0                                       \n",
       "3                                                0.0                                       \n",
       "4                                                0.0                                       \n",
       "\n",
       "   Position.on.Russia_Candidate notes Russia as political enemy of the United States  \\\n",
       "0                                                0.0                                   \n",
       "1                                                0.0                                   \n",
       "2                                                0.0                                   \n",
       "3                                                0.0                                   \n",
       "4                                                0.0                                   \n",
       "\n",
       "   Position.on.Russia_Candidate provides complicated/complex/unclear position  \\\n",
       "0                                                0.0                            \n",
       "1                                                0.0                            \n",
       "2                                                0.0                            \n",
       "3                                                0.0                            \n",
       "4                                                0.0                            \n",
       "\n",
       "   Party.Category_Establishment Democrat  Party.Category_Moderate Democrat  \\\n",
       "0                                    0.0                               0.0   \n",
       "1                                    0.0                               0.0   \n",
       "2                                    0.0                               1.0   \n",
       "3                                    0.0                               0.0   \n",
       "4                                    0.0                               0.0   \n",
       "\n",
       "   Party.Category_Progressive Democrat  Total Other Endorsements    pscore  \n",
       "0                                  1.0                       2.0  0.520437  \n",
       "1                                  1.0                       2.0  0.578672  \n",
       "2                                  0.0                       0.0  0.506883  \n",
       "3                                  0.0                       2.0  0.500047  \n",
       "4                                  1.0                       2.0  0.503732  \n",
       "\n",
       "[5 rows x 68 columns]"
      ]
     },
     "execution_count": 554,
     "metadata": {},
     "output_type": "execute_result"
    }
   ],
   "source": [
    "vv['pscore'] = fit.predict_proba(X)[:, 1]\n",
    "vv.head()"
   ]
  },
  {
   "cell_type": "code",
   "execution_count": 555,
   "id": "c60bfd50",
   "metadata": {
    "scrolled": true
   },
   "outputs": [
    {
     "data": {
      "image/png": "[encoded data removed]",
      "text/plain": [
       "<Figure size 432x288 with 1 Axes>"
      ]
     },
     "metadata": {
      "needs_background": "light"
     },
     "output_type": "display_data"
    }
   ],
   "source": [
    "plt.hist(vv[vv['VoteVets Endorsed?'] == 1]['pscore'])\n",
    "plt.title(\"Propensity score of people receiving the treatment\\n(VoteVets Endorsed)\")\n",
    "plt.savefig('votevets_treat.png');"
   ]
  },
  {
   "cell_type": "code",
   "execution_count": 556,
   "id": "38ab949b",
   "metadata": {},
   "outputs": [
    {
     "data": {
      "image/png": "[encoded data removed]",
      "text/plain": [
       "<Figure size 432x288 with 1 Axes>"
      ]
     },
     "metadata": {
      "needs_background": "light"
     },
     "output_type": "display_data"
    }
   ],
   "source": [
    "plt.hist(vv[vv['VoteVets Endorsed?'] == 0]['pscore'])\n",
    "plt.title(\"Propensity score of people not receiving the treatment\")\n",
    "plt.savefig('votevets_ctrl.png');"
   ]
  },
  {
   "cell_type": "markdown",
   "id": "78883b31",
   "metadata": {},
   "source": [
    "### IPW Estimate"
   ]
  },
  {
   "cell_type": "code",
   "execution_count": 557,
   "id": "82ce5dab",
   "metadata": {},
   "outputs": [
    {
     "name": "stdout",
     "output_type": "stream",
     "text": [
      "IPW estimate: 0.07439178940193131\n",
      "trimmed IPW estimate: 0.07439178940193131\n"
     ]
    }
   ],
   "source": [
    "reweighted_treated = (vv[vv['VoteVets Endorsed?'] == 1]['Won Primary'] / vv[vv['VoteVets Endorsed?'] == 1]['pscore']).sum()\n",
    "reweighted_control = (vv[vv['VoteVets Endorsed?'] == 0]['Won Primary'] / (1 - vv[vv['VoteVets Endorsed?'] == 0]['pscore'])).sum()\n",
    "ipw_estimate = (reweighted_treated - reweighted_control) / len(vv)\n",
    "print('IPW estimate:', ipw_estimate)\n",
    "\n",
    "obs_filt = vv[vv['pscore'].between(0.1, 0.9)]\n",
    "reweighted_treated_filt = (obs_filt[obs_filt['VoteVets Endorsed?'] == 1]['Won Primary'] / obs_filt[obs_filt['VoteVets Endorsed?'] == 1]['pscore']).sum()\n",
    "reweighted_control_filt = (obs_filt[obs_filt['VoteVets Endorsed?'] == 0]['Won Primary'] / (1 - obs_filt[obs_filt['VoteVets Endorsed?'] == 0]['pscore'])).sum()\n",
    "trimmed_ipw_estimate = (reweighted_treated_filt - reweighted_control_filt) / len(obs_filt)\n",
    "print('trimmed IPW estimate:', trimmed_ipw_estimate)"
   ]
  },
  {
   "cell_type": "code",
   "execution_count": 558,
   "id": "1cdae896",
   "metadata": {},
   "outputs": [
    {
     "name": "stdout",
     "output_type": "stream",
     "text": [
      "Our 95% confidence interval ranges from -0.034 to 0.191\n"
     ]
    }
   ],
   "source": [
    "vv_ates = get_bootstrapped_ate(vv, 'VoteVets Endorsed?')\n",
    "confidence_interval = [np.percentile(vv_ates, 2.5), \n",
    "                       np.percentile(vv_ates, 97.5)]\n",
    "print(f\"Our 95% confidence interval ranges from {np.round(confidence_interval[0], decimals=3)} to {np.round(confidence_interval[1], decimals=3)}\")"
   ]
  }
 ],
 "metadata": {
  "kernelspec": {
   "display_name": "Python 3 (ipykernel)",
   "language": "python",
   "name": "python3"
  },
  "language_info": {
   "codemirror_mode": {
    "name": "ipython",
    "version": 3
   },
   "file_extension": ".py",
   "mimetype": "text/x-python",
   "name": "python",
   "nbconvert_exporter": "python",
   "pygments_lexer": "ipython3",
   "version": "3.9.12"
  }
 },
 "nbformat": 4,
 "nbformat_minor": 5
}
